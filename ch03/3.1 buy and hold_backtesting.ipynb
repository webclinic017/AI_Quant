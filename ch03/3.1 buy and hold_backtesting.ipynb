{
 "cells": [
  {
   "cell_type": "markdown",
   "metadata": {},
   "source": [
    "buy and hold strategy python\n",
    "### 수정해야할 것들.\n",
    "1. 데이터 경로 맞추기."
   ]
  },
  {
   "cell_type": "markdown",
   "metadata": {},
   "source": [
    "# Buy &Hold Strategy"
   ]
  },
  {
   "cell_type": "code",
   "execution_count": 3,
   "metadata": {},
   "outputs": [],
   "source": [
    "import pandas as pd\n",
    "import numpy as np"
   ]
  },
  {
   "cell_type": "code",
   "execution_count": 4,
   "metadata": {},
   "outputs": [],
   "source": [
    "df = pd.read_csv('../data/us_etf_data/AMZN.csv',index_col='Date', parse_dates=['Date'])"
   ]
  },
  {
   "cell_type": "code",
   "execution_count": 5,
   "metadata": {},
   "outputs": [
    {
     "data": {
      "text/html": [
       "<div>\n",
       "<style scoped>\n",
       "    .dataframe tbody tr th:only-of-type {\n",
       "        vertical-align: middle;\n",
       "    }\n",
       "\n",
       "    .dataframe tbody tr th {\n",
       "        vertical-align: top;\n",
       "    }\n",
       "\n",
       "    .dataframe thead th {\n",
       "        text-align: right;\n",
       "    }\n",
       "</style>\n",
       "<table border=\"1\" class=\"dataframe\">\n",
       "  <thead>\n",
       "    <tr style=\"text-align: right;\">\n",
       "      <th></th>\n",
       "      <th>Open</th>\n",
       "      <th>High</th>\n",
       "      <th>Low</th>\n",
       "      <th>Close</th>\n",
       "      <th>Adj Close</th>\n",
       "      <th>Volume</th>\n",
       "    </tr>\n",
       "    <tr>\n",
       "      <th>Date</th>\n",
       "      <th></th>\n",
       "      <th></th>\n",
       "      <th></th>\n",
       "      <th></th>\n",
       "      <th></th>\n",
       "      <th></th>\n",
       "    </tr>\n",
       "  </thead>\n",
       "  <tbody>\n",
       "    <tr>\n",
       "      <th>1997-05-15</th>\n",
       "      <td>2.437500</td>\n",
       "      <td>2.500000</td>\n",
       "      <td>1.927083</td>\n",
       "      <td>1.958333</td>\n",
       "      <td>1.958333</td>\n",
       "      <td>72156000</td>\n",
       "    </tr>\n",
       "    <tr>\n",
       "      <th>1997-05-16</th>\n",
       "      <td>1.968750</td>\n",
       "      <td>1.979167</td>\n",
       "      <td>1.708333</td>\n",
       "      <td>1.729167</td>\n",
       "      <td>1.729167</td>\n",
       "      <td>14700000</td>\n",
       "    </tr>\n",
       "    <tr>\n",
       "      <th>1997-05-19</th>\n",
       "      <td>1.760417</td>\n",
       "      <td>1.770833</td>\n",
       "      <td>1.625000</td>\n",
       "      <td>1.708333</td>\n",
       "      <td>1.708333</td>\n",
       "      <td>6106800</td>\n",
       "    </tr>\n",
       "    <tr>\n",
       "      <th>1997-05-20</th>\n",
       "      <td>1.729167</td>\n",
       "      <td>1.750000</td>\n",
       "      <td>1.635417</td>\n",
       "      <td>1.635417</td>\n",
       "      <td>1.635417</td>\n",
       "      <td>5467200</td>\n",
       "    </tr>\n",
       "    <tr>\n",
       "      <th>1997-05-21</th>\n",
       "      <td>1.635417</td>\n",
       "      <td>1.645833</td>\n",
       "      <td>1.375000</td>\n",
       "      <td>1.427083</td>\n",
       "      <td>1.427083</td>\n",
       "      <td>18853200</td>\n",
       "    </tr>\n",
       "  </tbody>\n",
       "</table>\n",
       "</div>"
      ],
      "text/plain": [
       "                Open      High       Low     Close  Adj Close    Volume\n",
       "Date                                                                   \n",
       "1997-05-15  2.437500  2.500000  1.927083  1.958333   1.958333  72156000\n",
       "1997-05-16  1.968750  1.979167  1.708333  1.729167   1.729167  14700000\n",
       "1997-05-19  1.760417  1.770833  1.625000  1.708333   1.708333   6106800\n",
       "1997-05-20  1.729167  1.750000  1.635417  1.635417   1.635417   5467200\n",
       "1997-05-21  1.635417  1.645833  1.375000  1.427083   1.427083  18853200"
      ]
     },
     "execution_count": 5,
     "metadata": {},
     "output_type": "execute_result"
    }
   ],
   "source": [
    "df.head()"
   ]
  },
  {
   "cell_type": "code",
   "execution_count": null,
   "metadata": {},
   "outputs": [],
   "source": [
    "# 결측치 조회"
   ]
  },
  {
   "cell_type": "code",
   "execution_count": 6,
   "metadata": {},
   "outputs": [
    {
     "data": {
      "text/html": [
       "<div>\n",
       "<style scoped>\n",
       "    .dataframe tbody tr th:only-of-type {\n",
       "        vertical-align: middle;\n",
       "    }\n",
       "\n",
       "    .dataframe tbody tr th {\n",
       "        vertical-align: top;\n",
       "    }\n",
       "\n",
       "    .dataframe thead th {\n",
       "        text-align: right;\n",
       "    }\n",
       "</style>\n",
       "<table border=\"1\" class=\"dataframe\">\n",
       "  <thead>\n",
       "    <tr style=\"text-align: right;\">\n",
       "      <th></th>\n",
       "      <th>Open</th>\n",
       "      <th>High</th>\n",
       "      <th>Low</th>\n",
       "      <th>Close</th>\n",
       "      <th>Adj Close</th>\n",
       "      <th>Volume</th>\n",
       "    </tr>\n",
       "    <tr>\n",
       "      <th>Date</th>\n",
       "      <th></th>\n",
       "      <th></th>\n",
       "      <th></th>\n",
       "      <th></th>\n",
       "      <th></th>\n",
       "      <th></th>\n",
       "    </tr>\n",
       "  </thead>\n",
       "  <tbody>\n",
       "  </tbody>\n",
       "</table>\n",
       "</div>"
      ],
      "text/plain": [
       "Empty DataFrame\n",
       "Columns: [Open, High, Low, Close, Adj Close, Volume]\n",
       "Index: []"
      ]
     },
     "execution_count": 6,
     "metadata": {},
     "output_type": "execute_result"
    }
   ],
   "source": [
    "df[df.isin([np.nan, np.inf, -np.inf]).any(1)]"
   ]
  },
  {
   "cell_type": "code",
   "execution_count": 7,
   "metadata": {},
   "outputs": [],
   "source": [
    "price_df = df.loc[:,['Adj Close']].copy()"
   ]
  },
  {
   "cell_type": "code",
   "execution_count": 8,
   "metadata": {},
   "outputs": [
    {
     "data": {
      "text/html": [
       "<div>\n",
       "<style scoped>\n",
       "    .dataframe tbody tr th:only-of-type {\n",
       "        vertical-align: middle;\n",
       "    }\n",
       "\n",
       "    .dataframe tbody tr th {\n",
       "        vertical-align: top;\n",
       "    }\n",
       "\n",
       "    .dataframe thead th {\n",
       "        text-align: right;\n",
       "    }\n",
       "</style>\n",
       "<table border=\"1\" class=\"dataframe\">\n",
       "  <thead>\n",
       "    <tr style=\"text-align: right;\">\n",
       "      <th></th>\n",
       "      <th>Open</th>\n",
       "      <th>High</th>\n",
       "      <th>Low</th>\n",
       "      <th>Close</th>\n",
       "      <th>Adj Close</th>\n",
       "      <th>Volume</th>\n",
       "    </tr>\n",
       "    <tr>\n",
       "      <th>Date</th>\n",
       "      <th></th>\n",
       "      <th></th>\n",
       "      <th></th>\n",
       "      <th></th>\n",
       "      <th></th>\n",
       "      <th></th>\n",
       "    </tr>\n",
       "  </thead>\n",
       "  <tbody>\n",
       "    <tr>\n",
       "      <th>1997-05-21</th>\n",
       "      <td>NaN</td>\n",
       "      <td>1.645833</td>\n",
       "      <td>1.375000</td>\n",
       "      <td>1.427083</td>\n",
       "      <td>1.427083</td>\n",
       "      <td>18853200.0</td>\n",
       "    </tr>\n",
       "    <tr>\n",
       "      <th>1997-05-27</th>\n",
       "      <td>1.510417</td>\n",
       "      <td>NaN</td>\n",
       "      <td>1.458333</td>\n",
       "      <td>1.583333</td>\n",
       "      <td>1.583333</td>\n",
       "      <td>8697600.0</td>\n",
       "    </tr>\n",
       "    <tr>\n",
       "      <th>1997-06-02</th>\n",
       "      <td>1.510417</td>\n",
       "      <td>1.531250</td>\n",
       "      <td>NaN</td>\n",
       "      <td>1.510417</td>\n",
       "      <td>1.510417</td>\n",
       "      <td>591600.0</td>\n",
       "    </tr>\n",
       "    <tr>\n",
       "      <th>1997-06-11</th>\n",
       "      <td>1.593750</td>\n",
       "      <td>1.604167</td>\n",
       "      <td>1.531250</td>\n",
       "      <td>NaN</td>\n",
       "      <td>1.541667</td>\n",
       "      <td>1188000.0</td>\n",
       "    </tr>\n",
       "    <tr>\n",
       "      <th>1997-06-19</th>\n",
       "      <td>1.510417</td>\n",
       "      <td>1.531250</td>\n",
       "      <td>1.500000</td>\n",
       "      <td>1.510417</td>\n",
       "      <td>NaN</td>\n",
       "      <td>1003200.0</td>\n",
       "    </tr>\n",
       "    <tr>\n",
       "      <th>1997-06-24</th>\n",
       "      <td>1.505208</td>\n",
       "      <td>1.526042</td>\n",
       "      <td>1.479167</td>\n",
       "      <td>1.510417</td>\n",
       "      <td>1.510417</td>\n",
       "      <td>NaN</td>\n",
       "    </tr>\n",
       "    <tr>\n",
       "      <th>2000-07-14</th>\n",
       "      <td>NaN</td>\n",
       "      <td>NaN</td>\n",
       "      <td>NaN</td>\n",
       "      <td>NaN</td>\n",
       "      <td>NaN</td>\n",
       "      <td>NaN</td>\n",
       "    </tr>\n",
       "    <tr>\n",
       "      <th>2000-09-25</th>\n",
       "      <td>NaN</td>\n",
       "      <td>NaN</td>\n",
       "      <td>NaN</td>\n",
       "      <td>NaN</td>\n",
       "      <td>NaN</td>\n",
       "      <td>NaN</td>\n",
       "    </tr>\n",
       "    <tr>\n",
       "      <th>2000-12-22</th>\n",
       "      <td>NaN</td>\n",
       "      <td>NaN</td>\n",
       "      <td>NaN</td>\n",
       "      <td>NaN</td>\n",
       "      <td>NaN</td>\n",
       "      <td>NaN</td>\n",
       "    </tr>\n",
       "    <tr>\n",
       "      <th>2001-03-08</th>\n",
       "      <td>NaN</td>\n",
       "      <td>NaN</td>\n",
       "      <td>NaN</td>\n",
       "      <td>NaN</td>\n",
       "      <td>NaN</td>\n",
       "      <td>NaN</td>\n",
       "    </tr>\n",
       "    <tr>\n",
       "      <th>2001-06-27</th>\n",
       "      <td>NaN</td>\n",
       "      <td>NaN</td>\n",
       "      <td>NaN</td>\n",
       "      <td>NaN</td>\n",
       "      <td>NaN</td>\n",
       "      <td>NaN</td>\n",
       "    </tr>\n",
       "  </tbody>\n",
       "</table>\n",
       "</div>"
      ],
      "text/plain": [
       "                Open      High       Low     Close  Adj Close      Volume\n",
       "Date                                                                     \n",
       "1997-05-21       NaN  1.645833  1.375000  1.427083   1.427083  18853200.0\n",
       "1997-05-27  1.510417       NaN  1.458333  1.583333   1.583333   8697600.0\n",
       "1997-06-02  1.510417  1.531250       NaN  1.510417   1.510417    591600.0\n",
       "1997-06-11  1.593750  1.604167  1.531250       NaN   1.541667   1188000.0\n",
       "1997-06-19  1.510417  1.531250  1.500000  1.510417        NaN   1003200.0\n",
       "1997-06-24  1.505208  1.526042  1.479167  1.510417   1.510417         NaN\n",
       "2000-07-14       NaN       NaN       NaN       NaN        NaN         NaN\n",
       "2000-09-25       NaN       NaN       NaN       NaN        NaN         NaN\n",
       "2000-12-22       NaN       NaN       NaN       NaN        NaN         NaN\n",
       "2001-03-08       NaN       NaN       NaN       NaN        NaN         NaN\n",
       "2001-06-27       NaN       NaN       NaN       NaN        NaN         NaN"
      ]
     },
     "execution_count": 8,
     "metadata": {},
     "output_type": "execute_result"
    }
   ],
   "source": [
    "import pandas as pd\n",
    "import numpy as np\n",
    "df = pd.read_csv('../data/ch03/AMZN_결측값.csv',index_col='Date', parse_dates=['Date'])\n",
    "df[df.isin([np.nan, np.inf, -np.inf]).any(1)]"
   ]
  },
  {
   "cell_type": "code",
   "execution_count": null,
   "metadata": {},
   "outputs": [],
   "source": [
    "# 데이터 슬라이싱"
   ]
  },
  {
   "cell_type": "code",
   "execution_count": 9,
   "metadata": {},
   "outputs": [
    {
     "data": {
      "text/plain": [
       "<AxesSubplot:xlabel='Date'>"
      ]
     },
     "execution_count": 9,
     "metadata": {},
     "output_type": "execute_result"
    },
    {
     "data": {
      "image/png": "[encoded data removed]",
      "text/plain": [
       "<Figure size 1152x648 with 1 Axes>"
      ]
     },
     "metadata": {
      "needs_background": "light"
     },
     "output_type": "display_data"
    }
   ],
   "source": [
    "price_df.plot(figsize=(16,9))"
   ]
  },
  {
   "cell_type": "code",
   "execution_count": 8,
   "metadata": {},
   "outputs": [
    {
     "data": {
      "text/plain": [
       "<matplotlib.axes._subplots.AxesSubplot at 0x130e0a50b70>"
      ]
     },
     "execution_count": 8,
     "metadata": {},
     "output_type": "execute_result"
    },
    {
     "data": {
      "image/png": "[encoded data removed]",
      "text/plain": [
       "<Figure size 1152x648 with 1 Axes>"
      ]
     },
     "metadata": {
      "needs_background": "light"
     },
     "output_type": "display_data"
    }
   ],
   "source": [
    "from_date = '1997-01-03'\n",
    "to_date = '2003-01-03'\n",
    "price_df.loc[from_date:to_date].plot(figsize=(16,9))"
   ]
  },
  {
   "cell_type": "code",
   "execution_count": null,
   "metadata": {},
   "outputs": [],
   "source": []
  },
  {
   "cell_type": "markdown",
   "metadata": {},
   "source": [
    "## 일별 수익률 계산하기* Buy &Hold Strategy"
   ]
  },
  {
   "cell_type": "code",
   "execution_count": 70,
   "metadata": {},
   "outputs": [],
   "source": [
    "price_df['daily_rtn'] = price_df['Adj Close'].pct_change()"
   ]
  },
  {
   "cell_type": "code",
   "execution_count": 71,
   "metadata": {},
   "outputs": [
    {
     "data": {
      "text/html": [
       "<div>\n",
       "<style scoped>\n",
       "    .dataframe tbody tr th:only-of-type {\n",
       "        vertical-align: middle;\n",
       "    }\n",
       "\n",
       "    .dataframe tbody tr th {\n",
       "        vertical-align: top;\n",
       "    }\n",
       "\n",
       "    .dataframe thead th {\n",
       "        text-align: right;\n",
       "    }\n",
       "</style>\n",
       "<table border=\"1\" class=\"dataframe\">\n",
       "  <thead>\n",
       "    <tr style=\"text-align: right;\">\n",
       "      <th></th>\n",
       "      <th>Adj Close</th>\n",
       "      <th>daily_rtn</th>\n",
       "      <th>st_rtn</th>\n",
       "    </tr>\n",
       "    <tr>\n",
       "      <th>Date</th>\n",
       "      <th></th>\n",
       "      <th></th>\n",
       "      <th></th>\n",
       "    </tr>\n",
       "  </thead>\n",
       "  <tbody>\n",
       "    <tr>\n",
       "      <th>1997-05-15</th>\n",
       "      <td>1.958333</td>\n",
       "      <td>NaN</td>\n",
       "      <td>NaN</td>\n",
       "    </tr>\n",
       "    <tr>\n",
       "      <th>1997-05-16</th>\n",
       "      <td>1.729167</td>\n",
       "      <td>-0.117021</td>\n",
       "      <td>0.882979</td>\n",
       "    </tr>\n",
       "    <tr>\n",
       "      <th>1997-05-19</th>\n",
       "      <td>1.708333</td>\n",
       "      <td>-0.012049</td>\n",
       "      <td>0.872340</td>\n",
       "    </tr>\n",
       "    <tr>\n",
       "      <th>1997-05-20</th>\n",
       "      <td>1.635417</td>\n",
       "      <td>-0.042683</td>\n",
       "      <td>0.835107</td>\n",
       "    </tr>\n",
       "    <tr>\n",
       "      <th>1997-05-21</th>\n",
       "      <td>1.427083</td>\n",
       "      <td>-0.127389</td>\n",
       "      <td>0.728723</td>\n",
       "    </tr>\n",
       "    <tr>\n",
       "      <th>1997-05-22</th>\n",
       "      <td>1.395833</td>\n",
       "      <td>-0.021898</td>\n",
       "      <td>0.712766</td>\n",
       "    </tr>\n",
       "    <tr>\n",
       "      <th>1997-05-23</th>\n",
       "      <td>1.500000</td>\n",
       "      <td>0.074627</td>\n",
       "      <td>0.765958</td>\n",
       "    </tr>\n",
       "    <tr>\n",
       "      <th>1997-05-27</th>\n",
       "      <td>1.583333</td>\n",
       "      <td>0.055555</td>\n",
       "      <td>0.808511</td>\n",
       "    </tr>\n",
       "    <tr>\n",
       "      <th>1997-05-28</th>\n",
       "      <td>1.531250</td>\n",
       "      <td>-0.032895</td>\n",
       "      <td>0.781915</td>\n",
       "    </tr>\n",
       "    <tr>\n",
       "      <th>1997-05-29</th>\n",
       "      <td>1.505208</td>\n",
       "      <td>-0.017007</td>\n",
       "      <td>0.768617</td>\n",
       "    </tr>\n",
       "  </tbody>\n",
       "</table>\n",
       "</div>"
      ],
      "text/plain": [
       "            Adj Close  daily_rtn    st_rtn\n",
       "Date                                      \n",
       "1997-05-15   1.958333        NaN       NaN\n",
       "1997-05-16   1.729167  -0.117021  0.882979\n",
       "1997-05-19   1.708333  -0.012049  0.872340\n",
       "1997-05-20   1.635417  -0.042683  0.835107\n",
       "1997-05-21   1.427083  -0.127389  0.728723\n",
       "1997-05-22   1.395833  -0.021898  0.712766\n",
       "1997-05-23   1.500000   0.074627  0.765958\n",
       "1997-05-27   1.583333   0.055555  0.808511\n",
       "1997-05-28   1.531250  -0.032895  0.781915\n",
       "1997-05-29   1.505208  -0.017007  0.768617"
      ]
     },
     "execution_count": 71,
     "metadata": {},
     "output_type": "execute_result"
    }
   ],
   "source": [
    "price_df.head(10)"
   ]
  },
  {
   "cell_type": "code",
   "execution_count": 12,
   "metadata": {},
   "outputs": [],
   "source": [
    "#  Buy &Hold Strategy 누적 곱을 계산 한 사례  판단스 cumprod() 함수 사용\n",
    "price_df['st_rtn'] = (1+price_df['daily_rtn']).cumprod()"
   ]
  },
  {
   "cell_type": "code",
   "execution_count": 13,
   "metadata": {},
   "outputs": [
    {
     "data": {
      "text/html": [
       "<div>\n",
       "<style scoped>\n",
       "    .dataframe tbody tr th:only-of-type {\n",
       "        vertical-align: middle;\n",
       "    }\n",
       "\n",
       "    .dataframe tbody tr th {\n",
       "        vertical-align: top;\n",
       "    }\n",
       "\n",
       "    .dataframe thead th {\n",
       "        text-align: right;\n",
       "    }\n",
       "</style>\n",
       "<table border=\"1\" class=\"dataframe\">\n",
       "  <thead>\n",
       "    <tr style=\"text-align: right;\">\n",
       "      <th></th>\n",
       "      <th>Adj Close</th>\n",
       "      <th>daily_rtn</th>\n",
       "      <th>st_rtn</th>\n",
       "    </tr>\n",
       "    <tr>\n",
       "      <th>Date</th>\n",
       "      <th></th>\n",
       "      <th></th>\n",
       "      <th></th>\n",
       "    </tr>\n",
       "  </thead>\n",
       "  <tbody>\n",
       "    <tr>\n",
       "      <th>2019-06-11</th>\n",
       "      <td>1863.699951</td>\n",
       "      <td>0.001650</td>\n",
       "      <td>951.676733</td>\n",
       "    </tr>\n",
       "    <tr>\n",
       "      <th>2019-06-12</th>\n",
       "      <td>1855.319946</td>\n",
       "      <td>-0.004496</td>\n",
       "      <td>947.397580</td>\n",
       "    </tr>\n",
       "    <tr>\n",
       "      <th>2019-06-13</th>\n",
       "      <td>1870.300049</td>\n",
       "      <td>0.008074</td>\n",
       "      <td>955.046996</td>\n",
       "    </tr>\n",
       "    <tr>\n",
       "      <th>2019-06-14</th>\n",
       "      <td>1869.670044</td>\n",
       "      <td>-0.000337</td>\n",
       "      <td>954.725291</td>\n",
       "    </tr>\n",
       "    <tr>\n",
       "      <th>2019-06-17</th>\n",
       "      <td>1886.030029</td>\n",
       "      <td>0.008750</td>\n",
       "      <td>963.079328</td>\n",
       "    </tr>\n",
       "    <tr>\n",
       "      <th>2019-06-18</th>\n",
       "      <td>1901.369995</td>\n",
       "      <td>0.008133</td>\n",
       "      <td>970.912503</td>\n",
       "    </tr>\n",
       "    <tr>\n",
       "      <th>2019-06-19</th>\n",
       "      <td>1908.790039</td>\n",
       "      <td>0.003902</td>\n",
       "      <td>974.701462</td>\n",
       "    </tr>\n",
       "    <tr>\n",
       "      <th>2019-06-20</th>\n",
       "      <td>1918.189941</td>\n",
       "      <td>0.004925</td>\n",
       "      <td>979.501413</td>\n",
       "    </tr>\n",
       "    <tr>\n",
       "      <th>2019-06-21</th>\n",
       "      <td>1911.300049</td>\n",
       "      <td>-0.003592</td>\n",
       "      <td>975.983170</td>\n",
       "    </tr>\n",
       "    <tr>\n",
       "      <th>2019-06-24</th>\n",
       "      <td>1907.953857</td>\n",
       "      <td>-0.001751</td>\n",
       "      <td>974.274476</td>\n",
       "    </tr>\n",
       "  </tbody>\n",
       "</table>\n",
       "</div>"
      ],
      "text/plain": [
       "              Adj Close  daily_rtn      st_rtn\n",
       "Date                                          \n",
       "2019-06-11  1863.699951   0.001650  951.676733\n",
       "2019-06-12  1855.319946  -0.004496  947.397580\n",
       "2019-06-13  1870.300049   0.008074  955.046996\n",
       "2019-06-14  1869.670044  -0.000337  954.725291\n",
       "2019-06-17  1886.030029   0.008750  963.079328\n",
       "2019-06-18  1901.369995   0.008133  970.912503\n",
       "2019-06-19  1908.790039   0.003902  974.701462\n",
       "2019-06-20  1918.189941   0.004925  979.501413\n",
       "2019-06-21  1911.300049  -0.003592  975.983170\n",
       "2019-06-24  1907.953857  -0.001751  974.274476"
      ]
     },
     "execution_count": 13,
     "metadata": {},
     "output_type": "execute_result"
    }
   ],
   "source": [
    "price_df.tail(10)"
   ]
  },
  {
   "cell_type": "code",
   "execution_count": 13,
   "metadata": {},
   "outputs": [
    {
     "data": {
      "text/plain": [
       "<matplotlib.axes._subplots.AxesSubplot at 0x130e07b57b8>"
      ]
     },
     "execution_count": 13,
     "metadata": {},
     "output_type": "execute_result"
    },
    {
     "data": {
      "image/png": "[encoded data removed]",
      "text/plain": [
       "<Figure size 1152x648 with 1 Axes>"
      ]
     },
     "metadata": {
      "needs_background": "light"
     },
     "output_type": "display_data"
    }
   ],
   "source": [
    "price_df['st_rtn'].plot(figsize=(16,9))"
   ]
  },
  {
   "cell_type": "code",
   "execution_count": 14,
   "metadata": {},
   "outputs": [],
   "source": [
    "first_date = price_df.index[0]\n",
    "last_date = price_df.index[-1]"
   ]
  },
  {
   "cell_type": "code",
   "execution_count": 15,
   "metadata": {},
   "outputs": [
    {
     "data": {
      "text/plain": [
       "974.2744757914"
      ]
     },
     "execution_count": 15,
     "metadata": {},
     "output_type": "execute_result"
    }
   ],
   "source": [
    "first_date = price_df.index[0]\n",
    "(price_df.loc[last_date,'Adj Close'] / price_df.loc[first_date,'Adj Close'] )"
   ]
  },
  {
   "cell_type": "code",
   "execution_count": 16,
   "metadata": {},
   "outputs": [
    {
     "data": {
      "text/html": [
       "<div>\n",
       "<style scoped>\n",
       "    .dataframe tbody tr th:only-of-type {\n",
       "        vertical-align: middle;\n",
       "    }\n",
       "\n",
       "    .dataframe tbody tr th {\n",
       "        vertical-align: top;\n",
       "    }\n",
       "\n",
       "    .dataframe thead th {\n",
       "        text-align: right;\n",
       "    }\n",
       "</style>\n",
       "<table border=\"1\" class=\"dataframe\">\n",
       "  <thead>\n",
       "    <tr style=\"text-align: right;\">\n",
       "      <th></th>\n",
       "      <th>Adj Close</th>\n",
       "      <th>daily_rtn</th>\n",
       "      <th>st_rtn</th>\n",
       "    </tr>\n",
       "    <tr>\n",
       "      <th>Date</th>\n",
       "      <th></th>\n",
       "      <th></th>\n",
       "      <th></th>\n",
       "    </tr>\n",
       "  </thead>\n",
       "  <tbody>\n",
       "    <tr>\n",
       "      <th>2019-06-18</th>\n",
       "      <td>1901.369995</td>\n",
       "      <td>0.008133</td>\n",
       "      <td>970.912503</td>\n",
       "    </tr>\n",
       "    <tr>\n",
       "      <th>2019-06-19</th>\n",
       "      <td>1908.790039</td>\n",
       "      <td>0.003902</td>\n",
       "      <td>974.701462</td>\n",
       "    </tr>\n",
       "    <tr>\n",
       "      <th>2019-06-20</th>\n",
       "      <td>1918.189941</td>\n",
       "      <td>0.004925</td>\n",
       "      <td>979.501413</td>\n",
       "    </tr>\n",
       "    <tr>\n",
       "      <th>2019-06-21</th>\n",
       "      <td>1911.300049</td>\n",
       "      <td>-0.003592</td>\n",
       "      <td>975.983170</td>\n",
       "    </tr>\n",
       "    <tr>\n",
       "      <th>2019-06-24</th>\n",
       "      <td>1907.953857</td>\n",
       "      <td>-0.001751</td>\n",
       "      <td>974.274476</td>\n",
       "    </tr>\n",
       "  </tbody>\n",
       "</table>\n",
       "</div>"
      ],
      "text/plain": [
       "              Adj Close  daily_rtn      st_rtn\n",
       "Date                                          \n",
       "2019-06-18  1901.369995   0.008133  970.912503\n",
       "2019-06-19  1908.790039   0.003902  974.701462\n",
       "2019-06-20  1918.189941   0.004925  979.501413\n",
       "2019-06-21  1911.300049  -0.003592  975.983170\n",
       "2019-06-24  1907.953857  -0.001751  974.274476"
      ]
     },
     "execution_count": 16,
     "metadata": {},
     "output_type": "execute_result"
    }
   ],
   "source": [
    "price_df.tail()"
   ]
  },
  {
   "cell_type": "code",
   "execution_count": 17,
   "metadata": {},
   "outputs": [
    {
     "name": "stdout",
     "output_type": "stream",
     "text": [
      "누적 수익 :  974.2744757914056\n"
     ]
    },
    {
     "data": {
      "text/plain": [
       "<AxesSubplot:xlabel='Date'>"
      ]
     },
     "execution_count": 17,
     "metadata": {},
     "output_type": "execute_result"
    },
    {
     "data": {
      "image/png": "[encoded data removed]",
      "text/plain": [
       "<Figure size 1152x648 with 1 Axes>"
      ]
     },
     "metadata": {
      "needs_background": "light"
     },
     "output_type": "display_data"
    }
   ],
   "source": [
    "last_date = price_df.index[-1]\n",
    "print('누적 수익 : ',price_df.loc[last_date,'st_rtn'])\n",
    "price_df['st_rtn'].plot(figsize=(16,9))"
   ]
  },
  {
   "cell_type": "code",
   "execution_count": 18,
   "metadata": {},
   "outputs": [
    {
     "name": "stdout",
     "output_type": "stream",
     "text": [
      "누적 수익 :  10.35693109674889\n"
     ]
    },
    {
     "data": {
      "text/plain": [
       "<AxesSubplot:xlabel='Date'>"
      ]
     },
     "execution_count": 18,
     "metadata": {},
     "output_type": "execute_result"
    },
    {
     "data": {
      "image/png": "[encoded data removed]",
      "text/plain": [
       "<Figure size 1152x648 with 1 Axes>"
      ]
     },
     "metadata": {
      "needs_background": "light"
     },
     "output_type": "display_data"
    }
   ],
   "source": [
    "base_date = '2011-01-03'\n",
    "tmp_df = price_df.loc[base_date:,['st_rtn']] / price_df.loc[base_date ,['st_rtn']]\n",
    "last_date = tmp_df.index[-1]\n",
    "print('누적 수익 : ',tmp_df.loc[last_date,'st_rtn'])\n",
    "tmp_df.plot(figsize=(16,9))"
   ]
  },
  {
   "cell_type": "code",
   "execution_count": null,
   "metadata": {},
   "outputs": [],
   "source": []
  },
  {
   "cell_type": "markdown",
   "metadata": {},
   "source": [
    "## Performance Measure"
   ]
  },
  {
   "cell_type": "markdown",
   "metadata": {},
   "source": [
    "# CAGR\n",
    "\n",
    "# MDD\n",
    "\n",
    "# Sharpe Ratio\n",
    "\n",
    "## 별도 pt 자료 활용 이해 할것"
   ]
  },
  {
   "cell_type": "markdown",
   "metadata": {},
   "source": [
    "# Backtesting"
   ]
  },
  {
   "cell_type": "code",
   "execution_count": 23,
   "metadata": {},
   "outputs": [
    {
     "data": {
      "text/plain": [
       "<AxesSubplot:xlabel='Date'>"
      ]
     },
     "execution_count": 23,
     "metadata": {},
     "output_type": "execute_result"
    },
    {
     "data": {
      "image/png": "[encoded data removed]",
      "text/plain": [
       "<Figure size 432x288 with 1 Axes>"
      ]
     },
     "metadata": {
      "needs_background": "light"
     },
     "output_type": "display_data"
    }
   ],
   "source": [
    "# cummax() : 수정종가에서 최고가 저장\n",
    "# cummin() : 최대 하락 계산 \n",
    "# 그래프로 보는 경우\n",
    "\n",
    "historical_max = price_df['Adj Close'].cummax()\n",
    "daily_drawdown = price_df['Adj Close'] / historical_max - 1.0\n",
    "historical_dd = daily_drawdown.cummin()\n",
    "historical_dd.plot()"
   ]
  },
  {
   "cell_type": "code",
   "execution_count": 20,
   "metadata": {},
   "outputs": [
    {
     "data": {
      "text/html": [
       "<div>\n",
       "<style scoped>\n",
       "    .dataframe tbody tr th:only-of-type {\n",
       "        vertical-align: middle;\n",
       "    }\n",
       "\n",
       "    .dataframe tbody tr th {\n",
       "        vertical-align: top;\n",
       "    }\n",
       "\n",
       "    .dataframe thead th {\n",
       "        text-align: right;\n",
       "    }\n",
       "</style>\n",
       "<table border=\"1\" class=\"dataframe\">\n",
       "  <thead>\n",
       "    <tr style=\"text-align: right;\">\n",
       "      <th></th>\n",
       "      <th>Adj Close</th>\n",
       "      <th>daily_rtn</th>\n",
       "      <th>st_rtn</th>\n",
       "    </tr>\n",
       "    <tr>\n",
       "      <th>Date</th>\n",
       "      <th></th>\n",
       "      <th></th>\n",
       "      <th></th>\n",
       "    </tr>\n",
       "  </thead>\n",
       "  <tbody>\n",
       "    <tr>\n",
       "      <th>1997-05-15</th>\n",
       "      <td>1.958333</td>\n",
       "      <td>NaN</td>\n",
       "      <td>NaN</td>\n",
       "    </tr>\n",
       "    <tr>\n",
       "      <th>1997-05-16</th>\n",
       "      <td>1.729167</td>\n",
       "      <td>-0.117021</td>\n",
       "      <td>0.882979</td>\n",
       "    </tr>\n",
       "    <tr>\n",
       "      <th>1997-05-19</th>\n",
       "      <td>1.708333</td>\n",
       "      <td>-0.012049</td>\n",
       "      <td>0.872340</td>\n",
       "    </tr>\n",
       "    <tr>\n",
       "      <th>1997-05-20</th>\n",
       "      <td>1.635417</td>\n",
       "      <td>-0.042683</td>\n",
       "      <td>0.835107</td>\n",
       "    </tr>\n",
       "    <tr>\n",
       "      <th>1997-05-21</th>\n",
       "      <td>1.427083</td>\n",
       "      <td>-0.127389</td>\n",
       "      <td>0.728723</td>\n",
       "    </tr>\n",
       "  </tbody>\n",
       "</table>\n",
       "</div>"
      ],
      "text/plain": [
       "            Adj Close  daily_rtn    st_rtn\n",
       "Date                                      \n",
       "1997-05-15   1.958333        NaN       NaN\n",
       "1997-05-16   1.729167  -0.117021  0.882979\n",
       "1997-05-19   1.708333  -0.012049  0.872340\n",
       "1997-05-20   1.635417  -0.042683  0.835107\n",
       "1997-05-21   1.427083  -0.127389  0.728723"
      ]
     },
     "execution_count": 20,
     "metadata": {},
     "output_type": "execute_result"
    }
   ],
   "source": [
    "price_df.head()"
   ]
  },
  {
   "cell_type": "code",
   "execution_count": 21,
   "metadata": {},
   "outputs": [],
   "source": [
    "## Performance Measure\n",
    "# CAGR :  일별data 를 사용 한 경우--> 전체연도를 계산하는 경우 전체 data 기간을 252영업일로 나눈 역수를 제곱(승)을 한 후 -1 을 한다.\n",
    "# MDD(Max-DrawDown : \n",
    "# VOL : 연 주가수익률 표준편차 = 일변 주가수익률 X  252일 제곱근 (영업일수 고려, IID 가정 )\n",
    "# Sharpe : 총위험 1단위당 초과수익률 ( 위험을 고려한 초과수익)\n",
    "\n",
    "CAGR = price_df.loc['2019-06-24','st_rtn'] ** (252./len(price_df.index)) -1\n",
    "Sharpe = np.mean(price_df['daily_rtn']) / np.std(price_df['daily_rtn']) * np.sqrt(252.)\n",
    "VOL = np.std(price_df['daily_rtn']) * np.sqrt(252.)\n",
    "MDD = historical_dd.min()"
   ]
  },
  {
   "cell_type": "code",
   "execution_count": 22,
   "metadata": {},
   "outputs": [
    {
     "name": "stdout",
     "output_type": "stream",
     "text": [
      "CAGR :  36.58 %\n",
      "Sharpe :  0.81\n",
      "VOL :  60.09 %\n",
      "MDD :  94.4 %\n"
     ]
    }
   ],
   "source": [
    "# vol 변동성 \n",
    "\n",
    "print('CAGR : ',round(CAGR*100,2),'%')\n",
    "print('Sharpe : ',round(Sharpe,2))\n",
    "print('VOL : ',round(VOL*100,2),'%')\n",
    "print('MDD : ',round(-1*MDD*100,2),'%')"
   ]
  },
  {
   "cell_type": "code",
   "execution_count": null,
   "metadata": {},
   "outputs": [],
   "source": [
    "#  국내 주식시장을 대표하는 KOSPI 변화를 살펴보면\n"
   ]
  },
  {
   "cell_type": "code",
   "execution_count": 24,
   "metadata": {},
   "outputs": [],
   "source": [
    "import pandas as pd\n",
    "import numpy as np"
   ]
  },
  {
   "cell_type": "code",
   "execution_count": null,
   "metadata": {},
   "outputs": [],
   "source": [
    "historical_max = price_df['Adj Close'].cummax()\n",
    "daily_drawdown = price_df['Adj Close'] / historical_max - 1.0\n",
    "historical_dd = daily_drawdown.cummin()\n",
    "historical_dd.plot()"
   ]
  },
  {
   "cell_type": "code",
   "execution_count": null,
   "metadata": {},
   "outputs": [],
   "source": [
    "CAGR = price_df.loc['2019-06-24','st_rtn'] ** (252./len(price_df.index)) -1\n",
    "Sharpe = np.mean(price_df['daily_rtn']) / np.std(price_df['daily_rtn']) * np.sqrt(252.)\n",
    "VOL = np.std(price_df['daily_rtn']) * np.sqrt(252.)\n",
    "MDD = historical_dd.min()"
   ]
  },
  {
   "cell_type": "code",
   "execution_count": 38,
   "metadata": {},
   "outputs": [
    {
     "name": "stdout",
     "output_type": "stream",
     "text": [
      "CAGR :  36.58 %\n",
      "Sharpe :  0.81\n",
      "VOL :  60.09 %\n",
      "MDD :  94.4 %\n"
     ]
    }
   ],
   "source": [
    "print('CAGR : ',round(CAGR*100,2),'%')\n",
    "print('Sharpe : ',round(Sharpe,2))\n",
    "print('VOL : ',round(VOL*100,2),'%')\n",
    "print('MDD : ',round(-1*MDD*100,2),'%')"
   ]
  },
  {
   "cell_type": "code",
   "execution_count": null,
   "metadata": {},
   "outputs": [],
   "source": []
  },
  {
   "cell_type": "markdown",
   "metadata": {},
   "source": [
    "## KOSPI BackTesting  살펴보기 "
   ]
  },
  {
   "cell_type": "code",
   "execution_count": 81,
   "metadata": {},
   "outputs": [
    {
     "data": {
      "text/html": [
       "<div>\n",
       "<style scoped>\n",
       "    .dataframe tbody tr th:only-of-type {\n",
       "        vertical-align: middle;\n",
       "    }\n",
       "\n",
       "    .dataframe tbody tr th {\n",
       "        vertical-align: top;\n",
       "    }\n",
       "\n",
       "    .dataframe thead th {\n",
       "        text-align: right;\n",
       "    }\n",
       "</style>\n",
       "<table border=\"1\" class=\"dataframe\">\n",
       "  <thead>\n",
       "    <tr style=\"text-align: right;\">\n",
       "      <th></th>\n",
       "      <th>Symbol</th>\n",
       "      <th>Market</th>\n",
       "      <th>Name</th>\n",
       "      <th>Sector</th>\n",
       "      <th>Industry</th>\n",
       "      <th>ListingDate</th>\n",
       "      <th>SettleMonth</th>\n",
       "      <th>Representative</th>\n",
       "      <th>HomePage</th>\n",
       "      <th>Region</th>\n",
       "    </tr>\n",
       "  </thead>\n",
       "  <tbody>\n",
       "    <tr>\n",
       "      <th>0</th>\n",
       "      <td>060310</td>\n",
       "      <td>KOSDAQ</td>\n",
       "      <td>3S</td>\n",
       "      <td>전자부품 제조업</td>\n",
       "      <td>반도체 웨이퍼 캐리어</td>\n",
       "      <td>2002-04-23</td>\n",
       "      <td>03월</td>\n",
       "      <td>박종익, 김세완 (각자 대표이사)</td>\n",
       "      <td>http://www.3sref.com</td>\n",
       "      <td>서울특별시</td>\n",
       "    </tr>\n",
       "    <tr>\n",
       "      <th>1</th>\n",
       "      <td>095570</td>\n",
       "      <td>KOSPI</td>\n",
       "      <td>AJ네트웍스</td>\n",
       "      <td>산업용 기계 및 장비 임대업</td>\n",
       "      <td>렌탈(파렛트, OA장비, 건설장비)</td>\n",
       "      <td>2015-08-21</td>\n",
       "      <td>12월</td>\n",
       "      <td>박대현</td>\n",
       "      <td>http://www.ajnet.co.kr</td>\n",
       "      <td>서울특별시</td>\n",
       "    </tr>\n",
       "    <tr>\n",
       "      <th>2</th>\n",
       "      <td>006840</td>\n",
       "      <td>KOSPI</td>\n",
       "      <td>AK홀딩스</td>\n",
       "      <td>기타 금융업</td>\n",
       "      <td>지주사업</td>\n",
       "      <td>1999-08-11</td>\n",
       "      <td>12월</td>\n",
       "      <td>채형석, 이석주(각자 대표이사)</td>\n",
       "      <td>http://www.aekyunggroup.co.kr</td>\n",
       "      <td>서울특별시</td>\n",
       "    </tr>\n",
       "    <tr>\n",
       "      <th>3</th>\n",
       "      <td>054620</td>\n",
       "      <td>KOSDAQ</td>\n",
       "      <td>APS홀딩스</td>\n",
       "      <td>기타 금융업</td>\n",
       "      <td>인터넷 트래픽 솔루션</td>\n",
       "      <td>2001-12-04</td>\n",
       "      <td>12월</td>\n",
       "      <td>정기로</td>\n",
       "      <td>http://www.apsholdings.co.kr</td>\n",
       "      <td>경기도</td>\n",
       "    </tr>\n",
       "    <tr>\n",
       "      <th>4</th>\n",
       "      <td>265520</td>\n",
       "      <td>KOSDAQ</td>\n",
       "      <td>AP시스템</td>\n",
       "      <td>특수 목적용 기계 제조업</td>\n",
       "      <td>디스플레이 제조 장비</td>\n",
       "      <td>2017-04-07</td>\n",
       "      <td>12월</td>\n",
       "      <td>김영주</td>\n",
       "      <td>http://www.apsystems.co.kr</td>\n",
       "      <td>경기도</td>\n",
       "    </tr>\n",
       "  </tbody>\n",
       "</table>\n",
       "</div>"
      ],
      "text/plain": [
       "   Symbol  Market    Name           Sector             Industry ListingDate  \\\n",
       "0  060310  KOSDAQ      3S         전자부품 제조업          반도체 웨이퍼 캐리어  2002-04-23   \n",
       "1  095570   KOSPI  AJ네트웍스  산업용 기계 및 장비 임대업  렌탈(파렛트, OA장비, 건설장비)  2015-08-21   \n",
       "2  006840   KOSPI   AK홀딩스           기타 금융업                 지주사업  1999-08-11   \n",
       "3  054620  KOSDAQ  APS홀딩스           기타 금융업          인터넷 트래픽 솔루션  2001-12-04   \n",
       "4  265520  KOSDAQ   AP시스템    특수 목적용 기계 제조업          디스플레이 제조 장비  2017-04-07   \n",
       "\n",
       "  SettleMonth      Representative                       HomePage Region  \n",
       "0         03월  박종익, 김세완 (각자 대표이사)           http://www.3sref.com  서울특별시  \n",
       "1         12월                 박대현         http://www.ajnet.co.kr  서울특별시  \n",
       "2         12월   채형석, 이석주(각자 대표이사)  http://www.aekyunggroup.co.kr  서울특별시  \n",
       "3         12월                 정기로   http://www.apsholdings.co.kr    경기도  \n",
       "4         12월                 김영주     http://www.apsystems.co.kr    경기도  "
      ]
     },
     "execution_count": 81,
     "metadata": {},
     "output_type": "execute_result"
    }
   ],
   "source": [
    "import FinanceDataReader as fdr\n",
    "df1_krx = fdr.StockListing('KRX')\n",
    "df1_krx.head()\n"
   ]
  },
  {
   "cell_type": "code",
   "execution_count": 82,
   "metadata": {},
   "outputs": [
    {
     "data": {
      "text/plain": [
       "1970"
      ]
     },
     "execution_count": 82,
     "metadata": {},
     "output_type": "execute_result"
    }
   ],
   "source": [
    "len(df1)"
   ]
  },
  {
   "cell_type": "code",
   "execution_count": 132,
   "metadata": {},
   "outputs": [
    {
     "data": {
      "text/plain": [
       "<AxesSubplot:xlabel='Date'>"
      ]
     },
     "execution_count": 132,
     "metadata": {},
     "output_type": "execute_result"
    },
    {
     "data": {
      "image/png": "[encoded data removed]",
      "text/plain": [
       "<Figure size 432x288 with 1 Axes>"
      ]
     },
     "metadata": {
      "needs_background": "light"
     },
     "output_type": "display_data"
    }
   ],
   "source": [
    "import pandas as pd\n",
    "import numpy as np\n",
    "\n",
    "price_df1 = fdr.DataReader('KS11', '2011-01-01','2018-12-31')\n",
    "df1['Close'].plot()"
   ]
  },
  {
   "cell_type": "code",
   "execution_count": 125,
   "metadata": {},
   "outputs": [
    {
     "data": {
      "text/html": [
       "<div>\n",
       "<style scoped>\n",
       "    .dataframe tbody tr th:only-of-type {\n",
       "        vertical-align: middle;\n",
       "    }\n",
       "\n",
       "    .dataframe tbody tr th {\n",
       "        vertical-align: top;\n",
       "    }\n",
       "\n",
       "    .dataframe thead th {\n",
       "        text-align: right;\n",
       "    }\n",
       "</style>\n",
       "<table border=\"1\" class=\"dataframe\">\n",
       "  <thead>\n",
       "    <tr style=\"text-align: right;\">\n",
       "      <th></th>\n",
       "      <th>Close</th>\n",
       "      <th>Open</th>\n",
       "      <th>High</th>\n",
       "      <th>Low</th>\n",
       "      <th>Volume</th>\n",
       "      <th>Change</th>\n",
       "    </tr>\n",
       "    <tr>\n",
       "      <th>Date</th>\n",
       "      <th></th>\n",
       "      <th></th>\n",
       "      <th></th>\n",
       "      <th></th>\n",
       "      <th></th>\n",
       "      <th></th>\n",
       "    </tr>\n",
       "  </thead>\n",
       "  <tbody>\n",
       "    <tr>\n",
       "      <th>2011-01-03</th>\n",
       "      <td>2070.08</td>\n",
       "      <td>2063.69</td>\n",
       "      <td>2070.09</td>\n",
       "      <td>2054.83</td>\n",
       "      <td>354080000.0</td>\n",
       "      <td>0.0093</td>\n",
       "    </tr>\n",
       "    <tr>\n",
       "      <th>2011-01-04</th>\n",
       "      <td>2085.14</td>\n",
       "      <td>2074.56</td>\n",
       "      <td>2085.14</td>\n",
       "      <td>2069.12</td>\n",
       "      <td>415910000.0</td>\n",
       "      <td>0.0073</td>\n",
       "    </tr>\n",
       "    <tr>\n",
       "      <th>2011-01-05</th>\n",
       "      <td>2082.55</td>\n",
       "      <td>2083.10</td>\n",
       "      <td>2087.14</td>\n",
       "      <td>2076.92</td>\n",
       "      <td>386060000.0</td>\n",
       "      <td>-0.0012</td>\n",
       "    </tr>\n",
       "    <tr>\n",
       "      <th>2011-01-06</th>\n",
       "      <td>2077.61</td>\n",
       "      <td>2094.35</td>\n",
       "      <td>2096.65</td>\n",
       "      <td>2066.10</td>\n",
       "      <td>407830000.0</td>\n",
       "      <td>-0.0024</td>\n",
       "    </tr>\n",
       "    <tr>\n",
       "      <th>2011-01-07</th>\n",
       "      <td>2086.20</td>\n",
       "      <td>2073.68</td>\n",
       "      <td>2086.20</td>\n",
       "      <td>2068.66</td>\n",
       "      <td>335560000.0</td>\n",
       "      <td>0.0041</td>\n",
       "    </tr>\n",
       "    <tr>\n",
       "      <th>2011-01-10</th>\n",
       "      <td>2080.81</td>\n",
       "      <td>2082.29</td>\n",
       "      <td>2088.64</td>\n",
       "      <td>2069.30</td>\n",
       "      <td>342640000.0</td>\n",
       "      <td>-0.0026</td>\n",
       "    </tr>\n",
       "    <tr>\n",
       "      <th>2011-01-11</th>\n",
       "      <td>2088.32</td>\n",
       "      <td>2079.85</td>\n",
       "      <td>2088.32</td>\n",
       "      <td>2059.67</td>\n",
       "      <td>410950000.0</td>\n",
       "      <td>0.0036</td>\n",
       "    </tr>\n",
       "    <tr>\n",
       "      <th>2011-01-12</th>\n",
       "      <td>2094.95</td>\n",
       "      <td>2091.70</td>\n",
       "      <td>2098.00</td>\n",
       "      <td>2085.99</td>\n",
       "      <td>433260000.0</td>\n",
       "      <td>0.0032</td>\n",
       "    </tr>\n",
       "    <tr>\n",
       "      <th>2011-01-13</th>\n",
       "      <td>2089.48</td>\n",
       "      <td>2097.04</td>\n",
       "      <td>2109.34</td>\n",
       "      <td>2083.80</td>\n",
       "      <td>424200000.0</td>\n",
       "      <td>-0.0026</td>\n",
       "    </tr>\n",
       "    <tr>\n",
       "      <th>2011-01-14</th>\n",
       "      <td>2108.17</td>\n",
       "      <td>2089.70</td>\n",
       "      <td>2108.17</td>\n",
       "      <td>2076.44</td>\n",
       "      <td>424720000.0</td>\n",
       "      <td>0.0089</td>\n",
       "    </tr>\n",
       "  </tbody>\n",
       "</table>\n",
       "</div>"
      ],
      "text/plain": [
       "              Close     Open     High      Low       Volume  Change\n",
       "Date                                                               \n",
       "2011-01-03  2070.08  2063.69  2070.09  2054.83  354080000.0  0.0093\n",
       "2011-01-04  2085.14  2074.56  2085.14  2069.12  415910000.0  0.0073\n",
       "2011-01-05  2082.55  2083.10  2087.14  2076.92  386060000.0 -0.0012\n",
       "2011-01-06  2077.61  2094.35  2096.65  2066.10  407830000.0 -0.0024\n",
       "2011-01-07  2086.20  2073.68  2086.20  2068.66  335560000.0  0.0041\n",
       "2011-01-10  2080.81  2082.29  2088.64  2069.30  342640000.0 -0.0026\n",
       "2011-01-11  2088.32  2079.85  2088.32  2059.67  410950000.0  0.0036\n",
       "2011-01-12  2094.95  2091.70  2098.00  2085.99  433260000.0  0.0032\n",
       "2011-01-13  2089.48  2097.04  2109.34  2083.80  424200000.0 -0.0026\n",
       "2011-01-14  2108.17  2089.70  2108.17  2076.44  424720000.0  0.0089"
      ]
     },
     "execution_count": 125,
     "metadata": {},
     "output_type": "execute_result"
    }
   ],
   "source": [
    "import FinanceDataReader as fdr\n",
    "price_df1.head(10)"
   ]
  },
  {
   "cell_type": "code",
   "execution_count": 133,
   "metadata": {},
   "outputs": [
    {
     "data": {
      "text/html": [
       "<div>\n",
       "<style scoped>\n",
       "    .dataframe tbody tr th:only-of-type {\n",
       "        vertical-align: middle;\n",
       "    }\n",
       "\n",
       "    .dataframe tbody tr th {\n",
       "        vertical-align: top;\n",
       "    }\n",
       "\n",
       "    .dataframe thead th {\n",
       "        text-align: right;\n",
       "    }\n",
       "</style>\n",
       "<table border=\"1\" class=\"dataframe\">\n",
       "  <thead>\n",
       "    <tr style=\"text-align: right;\">\n",
       "      <th></th>\n",
       "      <th>Close</th>\n",
       "      <th>Open</th>\n",
       "      <th>High</th>\n",
       "      <th>Low</th>\n",
       "      <th>Volume</th>\n",
       "      <th>Change</th>\n",
       "    </tr>\n",
       "    <tr>\n",
       "      <th>Date</th>\n",
       "      <th></th>\n",
       "      <th></th>\n",
       "      <th></th>\n",
       "      <th></th>\n",
       "      <th></th>\n",
       "      <th></th>\n",
       "    </tr>\n",
       "  </thead>\n",
       "  <tbody>\n",
       "    <tr>\n",
       "      <th>2018-12-21</th>\n",
       "      <td>2061.49</td>\n",
       "      <td>2052.70</td>\n",
       "      <td>2061.51</td>\n",
       "      <td>2049.76</td>\n",
       "      <td>311390000.0</td>\n",
       "      <td>0.0007</td>\n",
       "    </tr>\n",
       "    <tr>\n",
       "      <th>2018-12-24</th>\n",
       "      <td>2055.01</td>\n",
       "      <td>2050.38</td>\n",
       "      <td>2059.94</td>\n",
       "      <td>2046.18</td>\n",
       "      <td>285280000.0</td>\n",
       "      <td>-0.0031</td>\n",
       "    </tr>\n",
       "    <tr>\n",
       "      <th>2018-12-26</th>\n",
       "      <td>2028.01</td>\n",
       "      <td>2028.81</td>\n",
       "      <td>2037.83</td>\n",
       "      <td>2014.28</td>\n",
       "      <td>321500000.0</td>\n",
       "      <td>-0.0131</td>\n",
       "    </tr>\n",
       "    <tr>\n",
       "      <th>2018-12-27</th>\n",
       "      <td>2028.44</td>\n",
       "      <td>2032.09</td>\n",
       "      <td>2035.57</td>\n",
       "      <td>2021.39</td>\n",
       "      <td>398020000.0</td>\n",
       "      <td>0.0002</td>\n",
       "    </tr>\n",
       "    <tr>\n",
       "      <th>2018-12-28</th>\n",
       "      <td>2041.04</td>\n",
       "      <td>2036.70</td>\n",
       "      <td>2046.97</td>\n",
       "      <td>2035.41</td>\n",
       "      <td>352680000.0</td>\n",
       "      <td>0.0062</td>\n",
       "    </tr>\n",
       "  </tbody>\n",
       "</table>\n",
       "</div>"
      ],
      "text/plain": [
       "              Close     Open     High      Low       Volume  Change\n",
       "Date                                                               \n",
       "2018-12-21  2061.49  2052.70  2061.51  2049.76  311390000.0  0.0007\n",
       "2018-12-24  2055.01  2050.38  2059.94  2046.18  285280000.0 -0.0031\n",
       "2018-12-26  2028.01  2028.81  2037.83  2014.28  321500000.0 -0.0131\n",
       "2018-12-27  2028.44  2032.09  2035.57  2021.39  398020000.0  0.0002\n",
       "2018-12-28  2041.04  2036.70  2046.97  2035.41  352680000.0  0.0062"
      ]
     },
     "execution_count": 133,
     "metadata": {},
     "output_type": "execute_result"
    }
   ],
   "source": [
    "price_df1.tail()"
   ]
  },
  {
   "cell_type": "markdown",
   "metadata": {},
   "source": [
    "## kposi 일별 수익률 계산하기 :  Buy &Hold Strategy"
   ]
  },
  {
   "cell_type": "code",
   "execution_count": 153,
   "metadata": {},
   "outputs": [],
   "source": [
    "price_df1['daily_rtn'] = price_df1['Close'].pct_change()"
   ]
  },
  {
   "cell_type": "code",
   "execution_count": 154,
   "metadata": {},
   "outputs": [
    {
     "data": {
      "text/html": [
       "<div>\n",
       "<style scoped>\n",
       "    .dataframe tbody tr th:only-of-type {\n",
       "        vertical-align: middle;\n",
       "    }\n",
       "\n",
       "    .dataframe tbody tr th {\n",
       "        vertical-align: top;\n",
       "    }\n",
       "\n",
       "    .dataframe thead th {\n",
       "        text-align: right;\n",
       "    }\n",
       "</style>\n",
       "<table border=\"1\" class=\"dataframe\">\n",
       "  <thead>\n",
       "    <tr style=\"text-align: right;\">\n",
       "      <th></th>\n",
       "      <th>Close</th>\n",
       "      <th>Open</th>\n",
       "      <th>High</th>\n",
       "      <th>Low</th>\n",
       "      <th>Volume</th>\n",
       "      <th>Change</th>\n",
       "      <th>daily_rtn</th>\n",
       "    </tr>\n",
       "    <tr>\n",
       "      <th>Date</th>\n",
       "      <th></th>\n",
       "      <th></th>\n",
       "      <th></th>\n",
       "      <th></th>\n",
       "      <th></th>\n",
       "      <th></th>\n",
       "      <th></th>\n",
       "    </tr>\n",
       "  </thead>\n",
       "  <tbody>\n",
       "    <tr>\n",
       "      <th>2011-01-03</th>\n",
       "      <td>2070.08</td>\n",
       "      <td>2063.69</td>\n",
       "      <td>2070.09</td>\n",
       "      <td>2054.83</td>\n",
       "      <td>354080000.0</td>\n",
       "      <td>0.0093</td>\n",
       "      <td>NaN</td>\n",
       "    </tr>\n",
       "    <tr>\n",
       "      <th>2011-01-04</th>\n",
       "      <td>2085.14</td>\n",
       "      <td>2074.56</td>\n",
       "      <td>2085.14</td>\n",
       "      <td>2069.12</td>\n",
       "      <td>415910000.0</td>\n",
       "      <td>0.0073</td>\n",
       "      <td>0.007275</td>\n",
       "    </tr>\n",
       "    <tr>\n",
       "      <th>2011-01-05</th>\n",
       "      <td>2082.55</td>\n",
       "      <td>2083.10</td>\n",
       "      <td>2087.14</td>\n",
       "      <td>2076.92</td>\n",
       "      <td>386060000.0</td>\n",
       "      <td>-0.0012</td>\n",
       "      <td>-0.001242</td>\n",
       "    </tr>\n",
       "    <tr>\n",
       "      <th>2011-01-06</th>\n",
       "      <td>2077.61</td>\n",
       "      <td>2094.35</td>\n",
       "      <td>2096.65</td>\n",
       "      <td>2066.10</td>\n",
       "      <td>407830000.0</td>\n",
       "      <td>-0.0024</td>\n",
       "      <td>-0.002372</td>\n",
       "    </tr>\n",
       "    <tr>\n",
       "      <th>2011-01-07</th>\n",
       "      <td>2086.20</td>\n",
       "      <td>2073.68</td>\n",
       "      <td>2086.20</td>\n",
       "      <td>2068.66</td>\n",
       "      <td>335560000.0</td>\n",
       "      <td>0.0041</td>\n",
       "      <td>0.004135</td>\n",
       "    </tr>\n",
       "    <tr>\n",
       "      <th>2011-01-10</th>\n",
       "      <td>2080.81</td>\n",
       "      <td>2082.29</td>\n",
       "      <td>2088.64</td>\n",
       "      <td>2069.30</td>\n",
       "      <td>342640000.0</td>\n",
       "      <td>-0.0026</td>\n",
       "      <td>-0.002584</td>\n",
       "    </tr>\n",
       "    <tr>\n",
       "      <th>2011-01-11</th>\n",
       "      <td>2088.32</td>\n",
       "      <td>2079.85</td>\n",
       "      <td>2088.32</td>\n",
       "      <td>2059.67</td>\n",
       "      <td>410950000.0</td>\n",
       "      <td>0.0036</td>\n",
       "      <td>0.003609</td>\n",
       "    </tr>\n",
       "    <tr>\n",
       "      <th>2011-01-12</th>\n",
       "      <td>2094.95</td>\n",
       "      <td>2091.70</td>\n",
       "      <td>2098.00</td>\n",
       "      <td>2085.99</td>\n",
       "      <td>433260000.0</td>\n",
       "      <td>0.0032</td>\n",
       "      <td>0.003175</td>\n",
       "    </tr>\n",
       "    <tr>\n",
       "      <th>2011-01-13</th>\n",
       "      <td>2089.48</td>\n",
       "      <td>2097.04</td>\n",
       "      <td>2109.34</td>\n",
       "      <td>2083.80</td>\n",
       "      <td>424200000.0</td>\n",
       "      <td>-0.0026</td>\n",
       "      <td>-0.002611</td>\n",
       "    </tr>\n",
       "    <tr>\n",
       "      <th>2011-01-14</th>\n",
       "      <td>2108.17</td>\n",
       "      <td>2089.70</td>\n",
       "      <td>2108.17</td>\n",
       "      <td>2076.44</td>\n",
       "      <td>424720000.0</td>\n",
       "      <td>0.0089</td>\n",
       "      <td>0.008945</td>\n",
       "    </tr>\n",
       "  </tbody>\n",
       "</table>\n",
       "</div>"
      ],
      "text/plain": [
       "              Close     Open     High      Low       Volume  Change  daily_rtn\n",
       "Date                                                                          \n",
       "2011-01-03  2070.08  2063.69  2070.09  2054.83  354080000.0  0.0093        NaN\n",
       "2011-01-04  2085.14  2074.56  2085.14  2069.12  415910000.0  0.0073   0.007275\n",
       "2011-01-05  2082.55  2083.10  2087.14  2076.92  386060000.0 -0.0012  -0.001242\n",
       "2011-01-06  2077.61  2094.35  2096.65  2066.10  407830000.0 -0.0024  -0.002372\n",
       "2011-01-07  2086.20  2073.68  2086.20  2068.66  335560000.0  0.0041   0.004135\n",
       "2011-01-10  2080.81  2082.29  2088.64  2069.30  342640000.0 -0.0026  -0.002584\n",
       "2011-01-11  2088.32  2079.85  2088.32  2059.67  410950000.0  0.0036   0.003609\n",
       "2011-01-12  2094.95  2091.70  2098.00  2085.99  433260000.0  0.0032   0.003175\n",
       "2011-01-13  2089.48  2097.04  2109.34  2083.80  424200000.0 -0.0026  -0.002611\n",
       "2011-01-14  2108.17  2089.70  2108.17  2076.44  424720000.0  0.0089   0.008945"
      ]
     },
     "execution_count": 154,
     "metadata": {},
     "output_type": "execute_result"
    }
   ],
   "source": [
    "price_df1.head(10)"
   ]
  },
  {
   "cell_type": "code",
   "execution_count": 155,
   "metadata": {},
   "outputs": [
    {
     "data": {
      "text/html": [
       "<div>\n",
       "<style scoped>\n",
       "    .dataframe tbody tr th:only-of-type {\n",
       "        vertical-align: middle;\n",
       "    }\n",
       "\n",
       "    .dataframe tbody tr th {\n",
       "        vertical-align: top;\n",
       "    }\n",
       "\n",
       "    .dataframe thead th {\n",
       "        text-align: right;\n",
       "    }\n",
       "</style>\n",
       "<table border=\"1\" class=\"dataframe\">\n",
       "  <thead>\n",
       "    <tr style=\"text-align: right;\">\n",
       "      <th></th>\n",
       "      <th>Close</th>\n",
       "      <th>Open</th>\n",
       "      <th>High</th>\n",
       "      <th>Low</th>\n",
       "      <th>Volume</th>\n",
       "      <th>Change</th>\n",
       "      <th>daily_rtn</th>\n",
       "    </tr>\n",
       "    <tr>\n",
       "      <th>Date</th>\n",
       "      <th></th>\n",
       "      <th></th>\n",
       "      <th></th>\n",
       "      <th></th>\n",
       "      <th></th>\n",
       "      <th></th>\n",
       "      <th></th>\n",
       "    </tr>\n",
       "  </thead>\n",
       "  <tbody>\n",
       "    <tr>\n",
       "      <th>2018-12-21</th>\n",
       "      <td>2061.49</td>\n",
       "      <td>2052.70</td>\n",
       "      <td>2061.51</td>\n",
       "      <td>2049.76</td>\n",
       "      <td>311390000.0</td>\n",
       "      <td>0.0007</td>\n",
       "      <td>0.000665</td>\n",
       "    </tr>\n",
       "    <tr>\n",
       "      <th>2018-12-24</th>\n",
       "      <td>2055.01</td>\n",
       "      <td>2050.38</td>\n",
       "      <td>2059.94</td>\n",
       "      <td>2046.18</td>\n",
       "      <td>285280000.0</td>\n",
       "      <td>-0.0031</td>\n",
       "      <td>-0.003143</td>\n",
       "    </tr>\n",
       "    <tr>\n",
       "      <th>2018-12-26</th>\n",
       "      <td>2028.01</td>\n",
       "      <td>2028.81</td>\n",
       "      <td>2037.83</td>\n",
       "      <td>2014.28</td>\n",
       "      <td>321500000.0</td>\n",
       "      <td>-0.0131</td>\n",
       "      <td>-0.013139</td>\n",
       "    </tr>\n",
       "    <tr>\n",
       "      <th>2018-12-27</th>\n",
       "      <td>2028.44</td>\n",
       "      <td>2032.09</td>\n",
       "      <td>2035.57</td>\n",
       "      <td>2021.39</td>\n",
       "      <td>398020000.0</td>\n",
       "      <td>0.0002</td>\n",
       "      <td>0.000212</td>\n",
       "    </tr>\n",
       "    <tr>\n",
       "      <th>2018-12-28</th>\n",
       "      <td>2041.04</td>\n",
       "      <td>2036.70</td>\n",
       "      <td>2046.97</td>\n",
       "      <td>2035.41</td>\n",
       "      <td>352680000.0</td>\n",
       "      <td>0.0062</td>\n",
       "      <td>0.006212</td>\n",
       "    </tr>\n",
       "  </tbody>\n",
       "</table>\n",
       "</div>"
      ],
      "text/plain": [
       "              Close     Open     High      Low       Volume  Change  daily_rtn\n",
       "Date                                                                          \n",
       "2018-12-21  2061.49  2052.70  2061.51  2049.76  311390000.0  0.0007   0.000665\n",
       "2018-12-24  2055.01  2050.38  2059.94  2046.18  285280000.0 -0.0031  -0.003143\n",
       "2018-12-26  2028.01  2028.81  2037.83  2014.28  321500000.0 -0.0131  -0.013139\n",
       "2018-12-27  2028.44  2032.09  2035.57  2021.39  398020000.0  0.0002   0.000212\n",
       "2018-12-28  2041.04  2036.70  2046.97  2035.41  352680000.0  0.0062   0.006212"
      ]
     },
     "execution_count": 155,
     "metadata": {},
     "output_type": "execute_result"
    }
   ],
   "source": [
    "price_df1.tail()"
   ]
  },
  {
   "cell_type": "code",
   "execution_count": 156,
   "metadata": {},
   "outputs": [],
   "source": [
    "#  Buy & Hold Strategy 누적 곱을 계산 한 사례  판다스 cumprod() 함수 사용\n",
    "price_df1['st_rtn'] = (1+price_df1['daily_rtn']).cumprod()"
   ]
  },
  {
   "cell_type": "code",
   "execution_count": 161,
   "metadata": {},
   "outputs": [
    {
     "data": {
      "text/plain": [
       "<AxesSubplot:xlabel='Date'>"
      ]
     },
     "execution_count": 161,
     "metadata": {},
     "output_type": "execute_result"
    },
    {
     "data": {
      "image/png": "[encoded data removed]",
      "text/plain": [
       "<Figure size 432x288 with 1 Axes>"
      ]
     },
     "metadata": {
      "needs_background": "light"
     },
     "output_type": "display_data"
    }
   ],
   "source": [
    "## mdd  필요 자료 \n",
    "historical_max = price_df1['Close'].cummax()\n",
    "daily_drawdown = price_df1['Close'] / historical_max1 - 1.0\n",
    "historical_dd = daily_drawdown1.cummin()\n",
    "historical_dd.plot()"
   ]
  },
  {
   "cell_type": "code",
   "execution_count": 162,
   "metadata": {},
   "outputs": [
    {
     "name": "stdout",
     "output_type": "stream",
     "text": [
      "CAGR :  -0.18 %\n",
      "Sharpe :  0.06\n",
      "VOL :  14.94 %\n",
      "MDD :  25.85 %\n"
     ]
    }
   ],
   "source": [
    "CAGR = price_df1.loc['2018-12-28','st_rtn'] ** (252./len(price_df1.index)) -1\n",
    "Sharpe = np.mean(price_df1['daily_rtn']) / np.std(price_df1['daily_rtn']) * np.sqrt(252.)\n",
    "VOL = np.std(price_df1['daily_rtn']) * np.sqrt(252.)\n",
    "MDD = historical_dd.min()\n",
    "print('CAGR : ',round(CAGR*100,2),'%')\n",
    "print('Sharpe : ',round(Sharpe,2))\n",
    "print('VOL : ',round(VOL*100,2),'%')\n",
    "print('MDD : ',round(-1*MDD*100,2),'%')"
   ]
  },
  {
   "cell_type": "markdown",
   "metadata": {},
   "source": [
    "## kospi 약 10년치 성과 평가를 꼭 기억 하시기 바랍니다!!!!!!!!!!!!!!!!!!!!!!!\n",
    "\n",
    "# ***** 9년간 -0.18% 인데 반해  MDD 25,85% 입니다.********\n",
    "\n",
    "# 만약 지난해 2020년을 포함했다면 MDD가 약 -52% 에 접근 \n",
    "\n",
    "# 다만 특수 상황이라 배제했습니다.\n",
    "\n",
    "# 100%=-50% ,  -50%=100%    Don't forget it!!!!!!!!!!!!!!!"
   ]
  },
  {
   "cell_type": "markdown",
   "metadata": {},
   "source": [
    "## 다양한 Strategy 전략에 따른 BackTesting 에 코딩은 구글링하면 쉽게 얻을 수 있음\n",
    "\n",
    "# 저명한 퀀트 전략에 대한 알고리즘 필요한 분은 개별적으로 얘기하시면 공유\n",
    "\n",
    "# 드릴께요 ^^"
   ]
  }
 ],
 "metadata": {
  "kernelspec": {
   "display_name": "Python 3 (ipykernel)",
   "language": "python",
   "name": "python3"
  },
  "language_info": {
   "codemirror_mode": {
    "name": "ipython",
    "version": 3
   },
   "file_extension": ".py",
   "mimetype": "text/x-python",
   "name": "python",
   "nbconvert_exporter": "python",
   "pygments_lexer": "ipython3",
   "version": "3.9.6"
  }
 },
 "nbformat": 4,
 "nbformat_minor": 4
}
