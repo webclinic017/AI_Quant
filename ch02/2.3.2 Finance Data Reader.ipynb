{
 "cells": [
  {
   "cell_type": "markdown",
   "metadata": {},
   "source": [
    "##  FinanceDataReader 사용법\n",
    "pandas-datareader 불란정성을 보완하고자 만든 API\n",
    "-제공 data\n",
    "미국주가, 한국주가, 지수, 환율, 암호화폐, 등,"
   ]
  },
  {
   "cell_type": "code",
   "execution_count": null,
   "metadata": {},
   "outputs": [],
   "source": [
    "# 라이브로리 설치 필요\n",
    "pip install -U finance-datareader"
   ]
  },
  {
   "cell_type": "code",
   "execution_count": null,
   "metadata": {},
   "outputs": [],
   "source": []
  },
  {
   "cell_type": "code",
   "execution_count": 1,
   "metadata": {},
   "outputs": [],
   "source": [
    "import FinanceDataReader as fdr"
   ]
  },
  {
   "cell_type": "code",
   "execution_count": 2,
   "metadata": {},
   "outputs": [
    {
     "data": {
      "text/html": [
       "<div>\n",
       "<style scoped>\n",
       "    .dataframe tbody tr th:only-of-type {\n",
       "        vertical-align: middle;\n",
       "    }\n",
       "\n",
       "    .dataframe tbody tr th {\n",
       "        vertical-align: top;\n",
       "    }\n",
       "\n",
       "    .dataframe thead th {\n",
       "        text-align: right;\n",
       "    }\n",
       "</style>\n",
       "<table border=\"1\" class=\"dataframe\">\n",
       "  <thead>\n",
       "    <tr style=\"text-align: right;\">\n",
       "      <th></th>\n",
       "      <th>Symbol</th>\n",
       "      <th>Market</th>\n",
       "      <th>Name</th>\n",
       "      <th>Sector</th>\n",
       "      <th>Industry</th>\n",
       "      <th>ListingDate</th>\n",
       "      <th>SettleMonth</th>\n",
       "      <th>Representative</th>\n",
       "      <th>HomePage</th>\n",
       "      <th>Region</th>\n",
       "    </tr>\n",
       "  </thead>\n",
       "  <tbody>\n",
       "    <tr>\n",
       "      <th>0</th>\n",
       "      <td>060310</td>\n",
       "      <td>KOSDAQ</td>\n",
       "      <td>3S</td>\n",
       "      <td>특수 목적용 기계 제조업</td>\n",
       "      <td>반도체 웨이퍼 캐리어</td>\n",
       "      <td>2002-04-23</td>\n",
       "      <td>03월</td>\n",
       "      <td>박종익, 김세완 (각자 대표이사)</td>\n",
       "      <td>http://www.3sref.com</td>\n",
       "      <td>서울특별시</td>\n",
       "    </tr>\n",
       "    <tr>\n",
       "      <th>1</th>\n",
       "      <td>095570</td>\n",
       "      <td>KOSPI</td>\n",
       "      <td>AJ네트웍스</td>\n",
       "      <td>산업용 기계 및 장비 임대업</td>\n",
       "      <td>렌탈(파렛트, OA장비, 건설장비)</td>\n",
       "      <td>2015-08-21</td>\n",
       "      <td>12월</td>\n",
       "      <td>반채운 윤규선 이현우</td>\n",
       "      <td>http://www.ajnet.co.kr</td>\n",
       "      <td>서울특별시</td>\n",
       "    </tr>\n",
       "    <tr>\n",
       "      <th>2</th>\n",
       "      <td>006840</td>\n",
       "      <td>KOSPI</td>\n",
       "      <td>AK홀딩스</td>\n",
       "      <td>기타 금융업</td>\n",
       "      <td>지주사업</td>\n",
       "      <td>1999-08-11</td>\n",
       "      <td>12월</td>\n",
       "      <td>채형석, 이석주(각자 대표이사)</td>\n",
       "      <td>http://www.aekyunggroup.co.kr</td>\n",
       "      <td>서울특별시</td>\n",
       "    </tr>\n",
       "    <tr>\n",
       "      <th>3</th>\n",
       "      <td>054620</td>\n",
       "      <td>KOSDAQ</td>\n",
       "      <td>APS홀딩스</td>\n",
       "      <td>기타 금융업</td>\n",
       "      <td>인터넷 트래픽 솔루션</td>\n",
       "      <td>2001-12-04</td>\n",
       "      <td>12월</td>\n",
       "      <td>정기로</td>\n",
       "      <td>http://www.apsholdings.co.kr</td>\n",
       "      <td>경기도</td>\n",
       "    </tr>\n",
       "    <tr>\n",
       "      <th>4</th>\n",
       "      <td>265520</td>\n",
       "      <td>KOSDAQ</td>\n",
       "      <td>AP시스템</td>\n",
       "      <td>특수 목적용 기계 제조업</td>\n",
       "      <td>디스플레이 제조 장비</td>\n",
       "      <td>2017-04-07</td>\n",
       "      <td>12월</td>\n",
       "      <td>김영주</td>\n",
       "      <td>http://www.apsystems.co.kr</td>\n",
       "      <td>경기도</td>\n",
       "    </tr>\n",
       "  </tbody>\n",
       "</table>\n",
       "</div>"
      ],
      "text/plain": [
       "   Symbol  Market    Name           Sector             Industry ListingDate  \\\n",
       "0  060310  KOSDAQ      3S    특수 목적용 기계 제조업          반도체 웨이퍼 캐리어  2002-04-23   \n",
       "1  095570   KOSPI  AJ네트웍스  산업용 기계 및 장비 임대업  렌탈(파렛트, OA장비, 건설장비)  2015-08-21   \n",
       "2  006840   KOSPI   AK홀딩스           기타 금융업                 지주사업  1999-08-11   \n",
       "3  054620  KOSDAQ  APS홀딩스           기타 금융업          인터넷 트래픽 솔루션  2001-12-04   \n",
       "4  265520  KOSDAQ   AP시스템    특수 목적용 기계 제조업          디스플레이 제조 장비  2017-04-07   \n",
       "\n",
       "  SettleMonth      Representative                       HomePage Region  \n",
       "0         03월  박종익, 김세완 (각자 대표이사)           http://www.3sref.com  서울특별시  \n",
       "1         12월         반채운 윤규선 이현우         http://www.ajnet.co.kr  서울특별시  \n",
       "2         12월   채형석, 이석주(각자 대표이사)  http://www.aekyunggroup.co.kr  서울특별시  \n",
       "3         12월                 정기로   http://www.apsholdings.co.kr    경기도  \n",
       "4         12월                 김영주     http://www.apsystems.co.kr    경기도  "
      ]
     },
     "execution_count": 2,
     "metadata": {},
     "output_type": "execute_result"
    }
   ],
   "source": [
    "# 한국거래소 상장종목 전체\n",
    "# 한국거래소 종목은 심볼 전달이 필요함\n",
    "df_krx = fdr.StockListing('KRX')\n",
    "df_krx.head()"
   ]
  },
  {
   "cell_type": "code",
   "execution_count": 3,
   "metadata": {},
   "outputs": [
    {
     "data": {
      "text/plain": [
       "2556"
      ]
     },
     "execution_count": 3,
     "metadata": {},
     "output_type": "execute_result"
    }
   ],
   "source": [
    "len(df_krx)"
   ]
  },
  {
   "cell_type": "code",
   "execution_count": 4,
   "metadata": {},
   "outputs": [
    {
     "data": {
      "text/html": [
       "<div>\n",
       "<style scoped>\n",
       "    .dataframe tbody tr th:only-of-type {\n",
       "        vertical-align: middle;\n",
       "    }\n",
       "\n",
       "    .dataframe tbody tr th {\n",
       "        vertical-align: top;\n",
       "    }\n",
       "\n",
       "    .dataframe thead th {\n",
       "        text-align: right;\n",
       "    }\n",
       "</style>\n",
       "<table border=\"1\" class=\"dataframe\">\n",
       "  <thead>\n",
       "    <tr style=\"text-align: right;\">\n",
       "      <th></th>\n",
       "      <th>Symbol</th>\n",
       "      <th>Name</th>\n",
       "      <th>Sector</th>\n",
       "      <th>Industry</th>\n",
       "    </tr>\n",
       "  </thead>\n",
       "  <tbody>\n",
       "    <tr>\n",
       "      <th>0</th>\n",
       "      <td>MMM</td>\n",
       "      <td>3M Company</td>\n",
       "      <td>Industrials</td>\n",
       "      <td>Industrial Conglomerates</td>\n",
       "    </tr>\n",
       "    <tr>\n",
       "      <th>1</th>\n",
       "      <td>ABT</td>\n",
       "      <td>Abbott Laboratories</td>\n",
       "      <td>Health Care</td>\n",
       "      <td>Health Care Equipment</td>\n",
       "    </tr>\n",
       "    <tr>\n",
       "      <th>2</th>\n",
       "      <td>ABBV</td>\n",
       "      <td>AbbVie Inc.</td>\n",
       "      <td>Health Care</td>\n",
       "      <td>Pharmaceuticals</td>\n",
       "    </tr>\n",
       "    <tr>\n",
       "      <th>3</th>\n",
       "      <td>ABMD</td>\n",
       "      <td>ABIOMED Inc</td>\n",
       "      <td>Health Care</td>\n",
       "      <td>Health Care Equipment</td>\n",
       "    </tr>\n",
       "    <tr>\n",
       "      <th>4</th>\n",
       "      <td>ACN</td>\n",
       "      <td>Accenture plc</td>\n",
       "      <td>Information Technology</td>\n",
       "      <td>IT Consulting &amp; Other Services</td>\n",
       "    </tr>\n",
       "  </tbody>\n",
       "</table>\n",
       "</div>"
      ],
      "text/plain": [
       "  Symbol                 Name                  Sector  \\\n",
       "0    MMM           3M Company             Industrials   \n",
       "1    ABT  Abbott Laboratories             Health Care   \n",
       "2   ABBV          AbbVie Inc.             Health Care   \n",
       "3   ABMD          ABIOMED Inc             Health Care   \n",
       "4    ACN        Accenture plc  Information Technology   \n",
       "\n",
       "                         Industry  \n",
       "0        Industrial Conglomerates  \n",
       "1           Health Care Equipment  \n",
       "2                 Pharmaceuticals  \n",
       "3           Health Care Equipment  \n",
       "4  IT Consulting & Other Services  "
      ]
     },
     "execution_count": 4,
     "metadata": {},
     "output_type": "execute_result"
    }
   ],
   "source": [
    "import FinanceDataReader as fdr\n",
    "# S&P 500 종목 전체\n",
    "df_spx = fdr.StockListing('S&P500')\n",
    "df_spx.head()"
   ]
  },
  {
   "cell_type": "code",
   "execution_count": 5,
   "metadata": {},
   "outputs": [
    {
     "data": {
      "text/plain": [
       "505"
      ]
     },
     "execution_count": 5,
     "metadata": {},
     "output_type": "execute_result"
    }
   ],
   "source": [
    "len(df_spx)"
   ]
  },
  {
   "cell_type": "code",
   "execution_count": 6,
   "metadata": {},
   "outputs": [
    {
     "data": {
      "text/html": [
       "<div>\n",
       "<style scoped>\n",
       "    .dataframe tbody tr th:only-of-type {\n",
       "        vertical-align: middle;\n",
       "    }\n",
       "\n",
       "    .dataframe tbody tr th {\n",
       "        vertical-align: top;\n",
       "    }\n",
       "\n",
       "    .dataframe thead th {\n",
       "        text-align: right;\n",
       "    }\n",
       "</style>\n",
       "<table border=\"1\" class=\"dataframe\">\n",
       "  <thead>\n",
       "    <tr style=\"text-align: right;\">\n",
       "      <th></th>\n",
       "      <th>Open</th>\n",
       "      <th>High</th>\n",
       "      <th>Low</th>\n",
       "      <th>Close</th>\n",
       "      <th>Volume</th>\n",
       "      <th>Change</th>\n",
       "    </tr>\n",
       "    <tr>\n",
       "      <th>Date</th>\n",
       "      <th></th>\n",
       "      <th></th>\n",
       "      <th></th>\n",
       "      <th></th>\n",
       "      <th></th>\n",
       "      <th></th>\n",
       "    </tr>\n",
       "  </thead>\n",
       "  <tbody>\n",
       "    <tr>\n",
       "      <th>2018-01-02</th>\n",
       "      <td>2795</td>\n",
       "      <td>2860</td>\n",
       "      <td>2795</td>\n",
       "      <td>2850</td>\n",
       "      <td>118224</td>\n",
       "      <td>0.019678</td>\n",
       "    </tr>\n",
       "    <tr>\n",
       "      <th>2018-01-03</th>\n",
       "      <td>2850</td>\n",
       "      <td>2860</td>\n",
       "      <td>2820</td>\n",
       "      <td>2845</td>\n",
       "      <td>152892</td>\n",
       "      <td>-0.001754</td>\n",
       "    </tr>\n",
       "    <tr>\n",
       "      <th>2018-01-04</th>\n",
       "      <td>2845</td>\n",
       "      <td>2860</td>\n",
       "      <td>2815</td>\n",
       "      <td>2820</td>\n",
       "      <td>195786</td>\n",
       "      <td>-0.008787</td>\n",
       "    </tr>\n",
       "    <tr>\n",
       "      <th>2018-01-05</th>\n",
       "      <td>2820</td>\n",
       "      <td>2920</td>\n",
       "      <td>2820</td>\n",
       "      <td>2900</td>\n",
       "      <td>283369</td>\n",
       "      <td>0.028369</td>\n",
       "    </tr>\n",
       "    <tr>\n",
       "      <th>2018-01-08</th>\n",
       "      <td>2900</td>\n",
       "      <td>2940</td>\n",
       "      <td>2870</td>\n",
       "      <td>2900</td>\n",
       "      <td>179173</td>\n",
       "      <td>0.000000</td>\n",
       "    </tr>\n",
       "    <tr>\n",
       "      <th>2018-01-09</th>\n",
       "      <td>2920</td>\n",
       "      <td>2945</td>\n",
       "      <td>2860</td>\n",
       "      <td>2875</td>\n",
       "      <td>209231</td>\n",
       "      <td>-0.008621</td>\n",
       "    </tr>\n",
       "    <tr>\n",
       "      <th>2018-01-10</th>\n",
       "      <td>2850</td>\n",
       "      <td>2970</td>\n",
       "      <td>2850</td>\n",
       "      <td>2955</td>\n",
       "      <td>440681</td>\n",
       "      <td>0.027826</td>\n",
       "    </tr>\n",
       "    <tr>\n",
       "      <th>2018-01-11</th>\n",
       "      <td>2975</td>\n",
       "      <td>2975</td>\n",
       "      <td>2930</td>\n",
       "      <td>2940</td>\n",
       "      <td>200819</td>\n",
       "      <td>-0.005076</td>\n",
       "    </tr>\n",
       "    <tr>\n",
       "      <th>2018-01-12</th>\n",
       "      <td>2930</td>\n",
       "      <td>2955</td>\n",
       "      <td>2890</td>\n",
       "      <td>2910</td>\n",
       "      <td>156725</td>\n",
       "      <td>-0.010204</td>\n",
       "    </tr>\n",
       "    <tr>\n",
       "      <th>2018-01-15</th>\n",
       "      <td>2910</td>\n",
       "      <td>2915</td>\n",
       "      <td>2870</td>\n",
       "      <td>2895</td>\n",
       "      <td>245777</td>\n",
       "      <td>-0.005155</td>\n",
       "    </tr>\n",
       "  </tbody>\n",
       "</table>\n",
       "</div>"
      ],
      "text/plain": [
       "            Open  High   Low  Close  Volume    Change\n",
       "Date                                                 \n",
       "2018-01-02  2795  2860  2795   2850  118224  0.019678\n",
       "2018-01-03  2850  2860  2820   2845  152892 -0.001754\n",
       "2018-01-04  2845  2860  2815   2820  195786 -0.008787\n",
       "2018-01-05  2820  2920  2820   2900  283369  0.028369\n",
       "2018-01-08  2900  2940  2870   2900  179173  0.000000\n",
       "2018-01-09  2920  2945  2860   2875  209231 -0.008621\n",
       "2018-01-10  2850  2970  2850   2955  440681  0.027826\n",
       "2018-01-11  2975  2975  2930   2940  200819 -0.005076\n",
       "2018-01-12  2930  2955  2890   2910  156725 -0.010204\n",
       "2018-01-15  2910  2915  2870   2895  245777 -0.005155"
      ]
     },
     "execution_count": 6,
     "metadata": {},
     "output_type": "execute_result"
    }
   ],
   "source": [
    "# GS글로벌, 2018년\n",
    "df = fdr.DataReader('001250', '2018')\n",
    "df.head(10)"
   ]
  },
  {
   "cell_type": "code",
   "execution_count": 7,
   "metadata": {},
   "outputs": [
    {
     "data": {
      "text/plain": [
       "<matplotlib.axes._subplots.AxesSubplot at 0x24bb9702a20>"
      ]
     },
     "execution_count": 7,
     "metadata": {},
     "output_type": "execute_result"
    },
    {
     "data": {
      "image/png": "[encoded data removed]",
      "text/plain": [
       "<Figure size 432x288 with 1 Axes>"
      ]
     },
     "metadata": {
      "needs_background": "light"
     },
     "output_type": "display_data"
    }
   ],
   "source": [
    "df['Close'].plot()"
   ]
  },
  {
   "cell_type": "code",
   "execution_count": 8,
   "metadata": {},
   "outputs": [
    {
     "data": {
      "text/html": [
       "<div>\n",
       "<style scoped>\n",
       "    .dataframe tbody tr th:only-of-type {\n",
       "        vertical-align: middle;\n",
       "    }\n",
       "\n",
       "    .dataframe tbody tr th {\n",
       "        vertical-align: top;\n",
       "    }\n",
       "\n",
       "    .dataframe thead th {\n",
       "        text-align: right;\n",
       "    }\n",
       "</style>\n",
       "<table border=\"1\" class=\"dataframe\">\n",
       "  <thead>\n",
       "    <tr style=\"text-align: right;\">\n",
       "      <th></th>\n",
       "      <th>Close</th>\n",
       "      <th>Open</th>\n",
       "      <th>High</th>\n",
       "      <th>Low</th>\n",
       "      <th>Volume</th>\n",
       "      <th>Change</th>\n",
       "    </tr>\n",
       "    <tr>\n",
       "      <th>Date</th>\n",
       "      <th></th>\n",
       "      <th></th>\n",
       "      <th></th>\n",
       "      <th></th>\n",
       "      <th></th>\n",
       "      <th></th>\n",
       "    </tr>\n",
       "  </thead>\n",
       "  <tbody>\n",
       "    <tr>\n",
       "      <th>2017-01-03</th>\n",
       "      <td>116.15</td>\n",
       "      <td>115.80</td>\n",
       "      <td>116.33</td>\n",
       "      <td>114.76</td>\n",
       "      <td>28780000.0</td>\n",
       "      <td>0.0028</td>\n",
       "    </tr>\n",
       "    <tr>\n",
       "      <th>2017-01-04</th>\n",
       "      <td>116.02</td>\n",
       "      <td>115.85</td>\n",
       "      <td>116.51</td>\n",
       "      <td>115.75</td>\n",
       "      <td>21120000.0</td>\n",
       "      <td>-0.0011</td>\n",
       "    </tr>\n",
       "    <tr>\n",
       "      <th>2017-01-05</th>\n",
       "      <td>116.61</td>\n",
       "      <td>115.92</td>\n",
       "      <td>116.86</td>\n",
       "      <td>115.81</td>\n",
       "      <td>22190000.0</td>\n",
       "      <td>0.0051</td>\n",
       "    </tr>\n",
       "    <tr>\n",
       "      <th>2017-01-06</th>\n",
       "      <td>117.91</td>\n",
       "      <td>116.78</td>\n",
       "      <td>118.16</td>\n",
       "      <td>116.47</td>\n",
       "      <td>31750000.0</td>\n",
       "      <td>0.0111</td>\n",
       "    </tr>\n",
       "    <tr>\n",
       "      <th>2017-01-09</th>\n",
       "      <td>118.99</td>\n",
       "      <td>117.95</td>\n",
       "      <td>119.43</td>\n",
       "      <td>117.94</td>\n",
       "      <td>33560000.0</td>\n",
       "      <td>0.0092</td>\n",
       "    </tr>\n",
       "    <tr>\n",
       "      <th>2017-01-10</th>\n",
       "      <td>119.11</td>\n",
       "      <td>118.77</td>\n",
       "      <td>119.38</td>\n",
       "      <td>118.30</td>\n",
       "      <td>24460000.0</td>\n",
       "      <td>0.0010</td>\n",
       "    </tr>\n",
       "    <tr>\n",
       "      <th>2017-01-11</th>\n",
       "      <td>119.75</td>\n",
       "      <td>118.74</td>\n",
       "      <td>119.93</td>\n",
       "      <td>118.60</td>\n",
       "      <td>27590000.0</td>\n",
       "      <td>0.0054</td>\n",
       "    </tr>\n",
       "    <tr>\n",
       "      <th>2017-01-12</th>\n",
       "      <td>119.25</td>\n",
       "      <td>118.89</td>\n",
       "      <td>119.30</td>\n",
       "      <td>118.21</td>\n",
       "      <td>27090000.0</td>\n",
       "      <td>-0.0042</td>\n",
       "    </tr>\n",
       "    <tr>\n",
       "      <th>2017-01-13</th>\n",
       "      <td>119.04</td>\n",
       "      <td>119.11</td>\n",
       "      <td>119.62</td>\n",
       "      <td>118.81</td>\n",
       "      <td>26110000.0</td>\n",
       "      <td>-0.0018</td>\n",
       "    </tr>\n",
       "    <tr>\n",
       "      <th>2017-01-17</th>\n",
       "      <td>120.00</td>\n",
       "      <td>118.34</td>\n",
       "      <td>120.24</td>\n",
       "      <td>118.22</td>\n",
       "      <td>34440000.0</td>\n",
       "      <td>0.0081</td>\n",
       "    </tr>\n",
       "  </tbody>\n",
       "</table>\n",
       "</div>"
      ],
      "text/plain": [
       "             Close    Open    High     Low      Volume  Change\n",
       "Date                                                          \n",
       "2017-01-03  116.15  115.80  116.33  114.76  28780000.0  0.0028\n",
       "2017-01-04  116.02  115.85  116.51  115.75  21120000.0 -0.0011\n",
       "2017-01-05  116.61  115.92  116.86  115.81  22190000.0  0.0051\n",
       "2017-01-06  117.91  116.78  118.16  116.47  31750000.0  0.0111\n",
       "2017-01-09  118.99  117.95  119.43  117.94  33560000.0  0.0092\n",
       "2017-01-10  119.11  118.77  119.38  118.30  24460000.0  0.0010\n",
       "2017-01-11  119.75  118.74  119.93  118.60  27590000.0  0.0054\n",
       "2017-01-12  119.25  118.89  119.30  118.21  27090000.0 -0.0042\n",
       "2017-01-13  119.04  119.11  119.62  118.81  26110000.0 -0.0018\n",
       "2017-01-17  120.00  118.34  120.24  118.22  34440000.0  0.0081"
      ]
     },
     "execution_count": 8,
     "metadata": {},
     "output_type": "execute_result"
    }
   ],
   "source": [
    "df = fdr.DataReader('AAPL', '2017') # 애플(AAPL), 2017년\n",
    "df.head(10)"
   ]
  },
  {
   "cell_type": "code",
   "execution_count": 9,
   "metadata": {},
   "outputs": [
    {
     "data": {
      "text/plain": [
       "<matplotlib.axes._subplots.AxesSubplot at 0x24bb8d63550>"
      ]
     },
     "execution_count": 9,
     "metadata": {},
     "output_type": "execute_result"
    },
    {
     "data": {
      "image/png": "[encoded data removed]",
      "text/plain": [
       "<Figure size 432x288 with 1 Axes>"
      ]
     },
     "metadata": {
      "needs_background": "light"
     },
     "output_type": "display_data"
    }
   ],
   "source": [
    "df['Close'].plot()"
   ]
  },
  {
   "cell_type": "markdown",
   "metadata": {},
   "source": [
    "## https://github.com/FinanceData/FinanceDataReader\n",
    "\n",
    "# 다양한 API 사용자 메뉴얼 내용 참조!!!!!"
   ]
  },
  {
   "cell_type": "code",
   "execution_count": null,
   "metadata": {},
   "outputs": [],
   "source": []
  },
  {
   "cell_type": "code",
   "execution_count": 10,
   "metadata": {},
   "outputs": [],
   "source": [
    "# 애플(AAPL), 2018-01-01 ~ 2018-03-30\n",
    "df = fdr.DataReader('AAPL', '2018-01-01', '2018-03-30')\n",
    "\n",
    "# KS11 (KOSPI 지수), 2015년~현재\n",
    "df = fdr.DataReader('KS11', '2015')\n",
    "# 원달러 환율, 1995년~현재\n",
    "df = fdr.DataReader('USD/KRW', '1995')\n",
    "\n",
    "# 비트코인 원화 가격 (빗썸), 2016년~현재\n",
    "df = fdr.DataReader('BTC/KRW', '2016')"
   ]
  },
  {
   "cell_type": "code",
   "execution_count": 11,
   "metadata": {},
   "outputs": [],
   "source": [
    "import FinanceDataReader as fdr"
   ]
  },
  {
   "cell_type": "markdown",
   "metadata": {},
   "source": [
    "# API 제공 거래소 코드 거래소 상장 종목 조회 가능"
   ]
  },
  {
   "cell_type": "code",
   "execution_count": 12,
   "metadata": {},
   "outputs": [],
   "source": [
    "# Exchage alias\n",
    "exchange_map = {\n",
    "    'KRX':'Seoul', '한국거래소':'Seoul',\n",
    "    'NASDAQ':'NASDAQ', '나스닥':'NASDAQ',\n",
    "    'NYSE':'NYSE', '뉴욕증권거래소':'NYSE', \n",
    "    'AMEX':'AMEX', '미국증권거래소':'AMEX', \n",
    "    'SSE':'Shanghai', '상해':'Shanghai', '상하이':'Shanghai',\n",
    "    'SZSE':'Shenzhen', '심천':'Shenzhen',\n",
    "    'HKEX':'Hong Kong', '홍콩':'Hong Kong',\n",
    "    'TSE':'Tokyo', '도쿄':'Tokyo',\n",
    "}"
   ]
  },
  {
   "cell_type": "code",
   "execution_count": 13,
   "metadata": {},
   "outputs": [],
   "source": [
    "jp_df1 = fdr.DataReader(symbol='7751',start='2019-01-01',exchange='TSE') # Canon Inc (7751)\n",
    "jp_df2 = fdr.DataReader(symbol='7751',start='2019-01-01',exchange='도쿄') # Canon Inc (7751)"
   ]
  },
  {
   "cell_type": "code",
   "execution_count": 14,
   "metadata": {},
   "outputs": [
    {
     "data": {
      "text/html": [
       "<div>\n",
       "<style scoped>\n",
       "    .dataframe tbody tr th:only-of-type {\n",
       "        vertical-align: middle;\n",
       "    }\n",
       "\n",
       "    .dataframe tbody tr th {\n",
       "        vertical-align: top;\n",
       "    }\n",
       "\n",
       "    .dataframe thead th {\n",
       "        text-align: right;\n",
       "    }\n",
       "</style>\n",
       "<table border=\"1\" class=\"dataframe\">\n",
       "  <thead>\n",
       "    <tr style=\"text-align: right;\">\n",
       "      <th></th>\n",
       "      <th>Close</th>\n",
       "      <th>Open</th>\n",
       "      <th>High</th>\n",
       "      <th>Low</th>\n",
       "      <th>Volume</th>\n",
       "      <th>Change</th>\n",
       "    </tr>\n",
       "    <tr>\n",
       "      <th>Date</th>\n",
       "      <th></th>\n",
       "      <th></th>\n",
       "      <th></th>\n",
       "      <th></th>\n",
       "      <th></th>\n",
       "      <th></th>\n",
       "    </tr>\n",
       "  </thead>\n",
       "  <tbody>\n",
       "    <tr>\n",
       "      <th>2019-01-04</th>\n",
       "      <td>2918.5</td>\n",
       "      <td>2900.0</td>\n",
       "      <td>2945.5</td>\n",
       "      <td>2876.5</td>\n",
       "      <td>7420000.0</td>\n",
       "      <td>-0.0275</td>\n",
       "    </tr>\n",
       "    <tr>\n",
       "      <th>2019-01-07</th>\n",
       "      <td>3020.0</td>\n",
       "      <td>2980.0</td>\n",
       "      <td>3028.0</td>\n",
       "      <td>2972.0</td>\n",
       "      <td>4560000.0</td>\n",
       "      <td>0.0348</td>\n",
       "    </tr>\n",
       "    <tr>\n",
       "      <th>2019-01-08</th>\n",
       "      <td>3021.0</td>\n",
       "      <td>3003.0</td>\n",
       "      <td>3042.0</td>\n",
       "      <td>2996.5</td>\n",
       "      <td>4390000.0</td>\n",
       "      <td>0.0003</td>\n",
       "    </tr>\n",
       "    <tr>\n",
       "      <th>2019-01-09</th>\n",
       "      <td>3038.0</td>\n",
       "      <td>3050.0</td>\n",
       "      <td>3054.0</td>\n",
       "      <td>3027.0</td>\n",
       "      <td>3810000.0</td>\n",
       "      <td>0.0056</td>\n",
       "    </tr>\n",
       "    <tr>\n",
       "      <th>2019-01-10</th>\n",
       "      <td>3026.0</td>\n",
       "      <td>3029.0</td>\n",
       "      <td>3037.0</td>\n",
       "      <td>3006.0</td>\n",
       "      <td>3230000.0</td>\n",
       "      <td>-0.0039</td>\n",
       "    </tr>\n",
       "  </tbody>\n",
       "</table>\n",
       "</div>"
      ],
      "text/plain": [
       "             Close    Open    High     Low     Volume  Change\n",
       "Date                                                         \n",
       "2019-01-04  2918.5  2900.0  2945.5  2876.5  7420000.0 -0.0275\n",
       "2019-01-07  3020.0  2980.0  3028.0  2972.0  4560000.0  0.0348\n",
       "2019-01-08  3021.0  3003.0  3042.0  2996.5  4390000.0  0.0003\n",
       "2019-01-09  3038.0  3050.0  3054.0  3027.0  3810000.0  0.0056\n",
       "2019-01-10  3026.0  3029.0  3037.0  3006.0  3230000.0 -0.0039"
      ]
     },
     "execution_count": 14,
     "metadata": {},
     "output_type": "execute_result"
    }
   ],
   "source": [
    "jp_df2.head()"
   ]
  },
  {
   "cell_type": "code",
   "execution_count": 15,
   "metadata": {},
   "outputs": [
    {
     "data": {
      "text/plain": [
       "<matplotlib.axes._subplots.AxesSubplot at 0x24bb9aba3c8>"
      ]
     },
     "execution_count": 15,
     "metadata": {},
     "output_type": "execute_result"
    },
    {
     "data": {
      "image/png": "[encoded data removed]",
      "text/plain": [
       "<Figure size 432x288 with 1 Axes>"
      ]
     },
     "metadata": {
      "needs_background": "light"
     },
     "output_type": "display_data"
    }
   ],
   "source": [
    "jp_df2['Close'].plot()"
   ]
  },
  {
   "cell_type": "code",
   "execution_count": 16,
   "metadata": {},
   "outputs": [],
   "source": [
    "ch_df1 = fdr.DataReader(symbol='601186',start='2019-01-01',exchange='SSE') # China Railway Construction Corp Ltd(601186)\n",
    "ch_df2 = fdr.DataReader(symbol='601186',start='2019-01-01',exchange='상해') # China Railway Construction Corp Ltd(601186)"
   ]
  },
  {
   "cell_type": "code",
   "execution_count": 17,
   "metadata": {},
   "outputs": [
    {
     "data": {
      "text/plain": [
       "<matplotlib.axes._subplots.AxesSubplot at 0x24bba03a828>"
      ]
     },
     "execution_count": 17,
     "metadata": {},
     "output_type": "execute_result"
    },
    {
     "data": {
      "image/png": "[encoded data removed]",
      "text/plain": [
       "<Figure size 432x288 with 1 Axes>"
      ]
     },
     "metadata": {
      "needs_background": "light"
     },
     "output_type": "display_data"
    }
   ],
   "source": [
    "ch_df1['Close'].plot()"
   ]
  },
  {
   "cell_type": "code",
   "execution_count": null,
   "metadata": {},
   "outputs": [],
   "source": []
  },
  {
   "cell_type": "code",
   "execution_count": null,
   "metadata": {},
   "outputs": [],
   "source": []
  }
 ],
 "metadata": {
  "kernelspec": {
   "display_name": "Python 3 (ipykernel)",
   "language": "python",
   "name": "python3"
  },
  "language_info": {
   "codemirror_mode": {
    "name": "ipython",
    "version": 3
   },
   "file_extension": ".py",
   "mimetype": "text/x-python",
   "name": "python",
   "nbconvert_exporter": "python",
   "pygments_lexer": "ipython3",
   "version": "3.9.6"
  }
 },
 "nbformat": 4,
 "nbformat_minor": 4
}
