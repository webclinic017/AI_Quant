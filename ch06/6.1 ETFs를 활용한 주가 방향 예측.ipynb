{
 "cells": [
  {
   "cell_type": "markdown",
   "metadata": {},
   "source": [
    "* xgboost 설치방법\n",
    "    * https://anaconda.org/anaconda/py-xgboost 참고"
   ]
  },
  {
   "cell_type": "code",
   "execution_count": 1,
   "metadata": {},
   "outputs": [],
   "source": [
    "import warnings\n",
    "warnings.filterwarnings('ignore')\n",
    "import glob\n",
    "import os\n",
    "import datetime\n",
    "import matplotlib.pyplot as plt\n",
    "import pandas as pd\n",
    "import numpy as np\n",
    "\n",
    "from sklearn import preprocessing\n",
    "from sklearn.preprocessing import StandardScaler\n",
    "from sklearn.model_selection import train_test_split\n",
    "from sklearn.model_selection import cross_validate\n",
    "from sklearn.model_selection import TimeSeriesSplit\n",
    "from sklearn.model_selection import GridSearchCV\n",
    "from sklearn.linear_model import LinearRegression\n",
    "from sklearn.ensemble import RandomForestClassifier\n",
    "from xgboost import XGBClassifier\n",
    "from xgboost import plot_importance\n",
    "from sklearn.metrics import precision_score, recall_score, confusion_matrix, roc_auc_score\n",
    "from sklearn.metrics import f1_score\n",
    "from sklearn.metrics import mean_squared_error, r2_score\n",
    "from sklearn.metrics import accuracy_score\n",
    "from sklearn import svm\n",
    "\n",
    "import seaborn as sns; sns.set()"
   ]
  },
  {
   "cell_type": "code",
   "execution_count": 2,
   "metadata": {},
   "outputs": [],
   "source": [
    "pd.set_option('display.max_columns', 30)"
   ]
  },
  {
   "cell_type": "code",
   "execution_count": 3,
   "metadata": {},
   "outputs": [
    {
     "name": "stdout",
     "output_type": "stream",
     "text": [
      "C:\\Users\\HIT-2233\\Documents\\GitHub\\quant-for-junior\\ch06\n"
     ]
    }
   ],
   "source": [
    "print(os.getcwd())"
   ]
  },
  {
   "cell_type": "markdown",
   "metadata": {},
   "source": [
    "### 실전예제 데이터 전처리"
   ]
  },
  {
   "cell_type": "code",
   "execution_count": 110,
   "metadata": {},
   "outputs": [],
   "source": [
    "SPY = pd.read_csv('./SPY.csv',parse_dates=['Dates'], index_col = 'Dates')\n",
    "GLD = pd.read_csv('./GLD.csv',parse_dates=['Dates'], index_col = 'Dates')\n",
    "FXY = pd.read_csv('./FXY.csv',parse_dates=['Dates'], index_col = 'Dates')\n",
    "T10Y2Y = pd.read_csv('./T10Y2Y.csv',parse_dates=['Dates'], index_col = 'Dates')\n",
    "TED = pd.read_csv('./TED.csv',parse_dates=['Dates'], index_col = 'Dates')\n",
    "USO = pd.read_csv('./USO.csv',parse_dates=['Dates'], index_col = 'Dates')\n",
    "UUP = pd.read_csv('./UUP.csv',parse_dates=['Dates'], index_col = 'Dates')\n",
    "VIX = pd.read_csv('./VIX.csv',parse_dates=['Dates'], index_col = 'Dates')\n",
    "VWO = pd.read_csv('./VWO.csv',parse_dates=['Dates'], index_col = 'Dates')"
   ]
  },
  {
   "cell_type": "code",
   "execution_count": 111,
   "metadata": {},
   "outputs": [],
   "source": [
    "t1 = SPY.merge(GLD, left_index=True,\n",
    "              right_index=True, how = 'outer',\n",
    "              suffixes=('_SPY', '_GLD'))\n",
    "list_df = ['FXY', 'T10Y2Y', 'TED', 'USO', 'UUP', 'VIX', 'VWO']\n",
    "for x in list_df:\n",
    "    t1 = t1.merge(globals()[x].add_suffix('_'+str(x)),\n",
    "                 left_index=True, right_index=True,\n",
    "                 how='outer')"
   ]
  },
  {
   "cell_type": "code",
   "execution_count": 112,
   "metadata": {},
   "outputs": [],
   "source": [
    "df = t1.dropna()"
   ]
  },
  {
   "cell_type": "code",
   "execution_count": 113,
   "metadata": {},
   "outputs": [
    {
     "data": {
      "text/html": [
       "<div>\n",
       "<style scoped>\n",
       "    .dataframe tbody tr th:only-of-type {\n",
       "        vertical-align: middle;\n",
       "    }\n",
       "\n",
       "    .dataframe tbody tr th {\n",
       "        vertical-align: top;\n",
       "    }\n",
       "\n",
       "    .dataframe thead th {\n",
       "        text-align: right;\n",
       "    }\n",
       "</style>\n",
       "<table border=\"1\" class=\"dataframe\">\n",
       "  <thead>\n",
       "    <tr style=\"text-align: right;\">\n",
       "      <th></th>\n",
       "      <th>CLOSE_SPY</th>\n",
       "      <th>OPEN</th>\n",
       "      <th>HIGH</th>\n",
       "      <th>LOW</th>\n",
       "      <th>VOLUME</th>\n",
       "      <th>CLOSE_GLD</th>\n",
       "      <th>CLOSE_FXY</th>\n",
       "      <th>CLOSE_T10Y2Y</th>\n",
       "      <th>CLOSE_TED</th>\n",
       "      <th>CLOSE_USO</th>\n",
       "      <th>CLOSE_UUP</th>\n",
       "      <th>CLOSE_VIX</th>\n",
       "      <th>CLOSE_VWO</th>\n",
       "    </tr>\n",
       "    <tr>\n",
       "      <th>Dates</th>\n",
       "      <th></th>\n",
       "      <th></th>\n",
       "      <th></th>\n",
       "      <th></th>\n",
       "      <th></th>\n",
       "      <th></th>\n",
       "      <th></th>\n",
       "      <th></th>\n",
       "      <th></th>\n",
       "      <th></th>\n",
       "      <th></th>\n",
       "      <th></th>\n",
       "      <th></th>\n",
       "    </tr>\n",
       "  </thead>\n",
       "  <tbody>\n",
       "    <tr>\n",
       "      <td>2018-12-20</td>\n",
       "      <td>247.17</td>\n",
       "      <td>249.86</td>\n",
       "      <td>251.620</td>\n",
       "      <td>245.0</td>\n",
       "      <td>252053406.0</td>\n",
       "      <td>119.24</td>\n",
       "      <td>85.87</td>\n",
       "      <td>1.7807</td>\n",
       "      <td>0.48</td>\n",
       "      <td>9.72</td>\n",
       "      <td>25.77</td>\n",
       "      <td>28.38</td>\n",
       "      <td>38.18</td>\n",
       "    </tr>\n",
       "    <tr>\n",
       "      <td>2018-12-21</td>\n",
       "      <td>240.70</td>\n",
       "      <td>246.74</td>\n",
       "      <td>249.710</td>\n",
       "      <td>240.0</td>\n",
       "      <td>255345594.0</td>\n",
       "      <td>118.72</td>\n",
       "      <td>85.87</td>\n",
       "      <td>1.7651</td>\n",
       "      <td>0.48</td>\n",
       "      <td>9.57</td>\n",
       "      <td>25.94</td>\n",
       "      <td>30.11</td>\n",
       "      <td>37.87</td>\n",
       "    </tr>\n",
       "    <tr>\n",
       "      <td>2018-12-24</td>\n",
       "      <td>234.34</td>\n",
       "      <td>239.04</td>\n",
       "      <td>240.836</td>\n",
       "      <td>234.0</td>\n",
       "      <td>147311594.0</td>\n",
       "      <td>120.02</td>\n",
       "      <td>86.55</td>\n",
       "      <td>1.7505</td>\n",
       "      <td>0.40</td>\n",
       "      <td>9.29</td>\n",
       "      <td>25.55</td>\n",
       "      <td>36.07</td>\n",
       "      <td>37.32</td>\n",
       "    </tr>\n",
       "    <tr>\n",
       "      <td>2018-12-27</td>\n",
       "      <td>248.07</td>\n",
       "      <td>242.57</td>\n",
       "      <td>248.290</td>\n",
       "      <td>239.0</td>\n",
       "      <td>186267297.0</td>\n",
       "      <td>120.57</td>\n",
       "      <td>86.00</td>\n",
       "      <td>1.7581</td>\n",
       "      <td>0.44</td>\n",
       "      <td>9.62</td>\n",
       "      <td>25.57</td>\n",
       "      <td>29.96</td>\n",
       "      <td>37.90</td>\n",
       "    </tr>\n",
       "    <tr>\n",
       "      <td>2018-12-28</td>\n",
       "      <td>247.75</td>\n",
       "      <td>249.58</td>\n",
       "      <td>251.400</td>\n",
       "      <td>246.0</td>\n",
       "      <td>153100188.0</td>\n",
       "      <td>121.06</td>\n",
       "      <td>86.63</td>\n",
       "      <td>1.7320</td>\n",
       "      <td>0.45</td>\n",
       "      <td>9.53</td>\n",
       "      <td>25.50</td>\n",
       "      <td>28.34</td>\n",
       "      <td>38.17</td>\n",
       "    </tr>\n",
       "  </tbody>\n",
       "</table>\n",
       "</div>"
      ],
      "text/plain": [
       "            CLOSE_SPY    OPEN     HIGH    LOW       VOLUME  CLOSE_GLD  \\\n",
       "Dates                                                                   \n",
       "2018-12-20     247.17  249.86  251.620  245.0  252053406.0     119.24   \n",
       "2018-12-21     240.70  246.74  249.710  240.0  255345594.0     118.72   \n",
       "2018-12-24     234.34  239.04  240.836  234.0  147311594.0     120.02   \n",
       "2018-12-27     248.07  242.57  248.290  239.0  186267297.0     120.57   \n",
       "2018-12-28     247.75  249.58  251.400  246.0  153100188.0     121.06   \n",
       "\n",
       "            CLOSE_FXY  CLOSE_T10Y2Y  CLOSE_TED  CLOSE_USO  CLOSE_UUP  \\\n",
       "Dates                                                                  \n",
       "2018-12-20      85.87        1.7807       0.48       9.72      25.77   \n",
       "2018-12-21      85.87        1.7651       0.48       9.57      25.94   \n",
       "2018-12-24      86.55        1.7505       0.40       9.29      25.55   \n",
       "2018-12-27      86.00        1.7581       0.44       9.62      25.57   \n",
       "2018-12-28      86.63        1.7320       0.45       9.53      25.50   \n",
       "\n",
       "            CLOSE_VIX  CLOSE_VWO  \n",
       "Dates                             \n",
       "2018-12-20      28.38      38.18  \n",
       "2018-12-21      30.11      37.87  \n",
       "2018-12-24      36.07      37.32  \n",
       "2018-12-27      29.96      37.90  \n",
       "2018-12-28      28.34      38.17  "
      ]
     },
     "execution_count": 113,
     "metadata": {},
     "output_type": "execute_result"
    }
   ],
   "source": [
    "df.tail()"
   ]
  },
  {
   "cell_type": "code",
   "execution_count": 15,
   "metadata": {},
   "outputs": [
    {
     "data": {
      "text/html": [
       "<div>\n",
       "<style scoped>\n",
       "    .dataframe tbody tr th:only-of-type {\n",
       "        vertical-align: middle;\n",
       "    }\n",
       "\n",
       "    .dataframe tbody tr th {\n",
       "        vertical-align: top;\n",
       "    }\n",
       "\n",
       "    .dataframe thead th {\n",
       "        text-align: right;\n",
       "    }\n",
       "</style>\n",
       "<table border=\"1\" class=\"dataframe\">\n",
       "  <thead>\n",
       "    <tr style=\"text-align: right;\">\n",
       "      <th></th>\n",
       "      <th>CLOSE_SPY</th>\n",
       "      <th>OPEN</th>\n",
       "      <th>HIGH</th>\n",
       "      <th>LOW</th>\n",
       "      <th>VOLUME</th>\n",
       "      <th>CLOSE_GLD</th>\n",
       "      <th>CLOSE_FXY</th>\n",
       "      <th>CLOSE_T10Y2Y</th>\n",
       "      <th>CLOSE_TED</th>\n",
       "      <th>CLOSE_USO</th>\n",
       "      <th>CLOSE_UUP</th>\n",
       "      <th>CLOSE_VIX</th>\n",
       "      <th>CLOSE_VWO</th>\n",
       "    </tr>\n",
       "    <tr>\n",
       "      <th>Dates</th>\n",
       "      <th></th>\n",
       "      <th></th>\n",
       "      <th></th>\n",
       "      <th></th>\n",
       "      <th></th>\n",
       "      <th></th>\n",
       "      <th></th>\n",
       "      <th></th>\n",
       "      <th></th>\n",
       "      <th></th>\n",
       "      <th></th>\n",
       "      <th></th>\n",
       "      <th></th>\n",
       "    </tr>\n",
       "  </thead>\n",
       "  <tbody>\n",
       "    <tr>\n",
       "      <td>2007-02-20</td>\n",
       "      <td>146.04</td>\n",
       "      <td>145.56</td>\n",
       "      <td>146.20</td>\n",
       "      <td>144.0</td>\n",
       "      <td>56909500.0</td>\n",
       "      <td>65.31</td>\n",
       "      <td>83.51</td>\n",
       "      <td>2.3263</td>\n",
       "      <td>0.31</td>\n",
       "      <td>48.67</td>\n",
       "      <td>25.07</td>\n",
       "      <td>10.24</td>\n",
       "      <td>40.055</td>\n",
       "    </tr>\n",
       "    <tr>\n",
       "      <td>2007-02-21</td>\n",
       "      <td>145.98</td>\n",
       "      <td>145.61</td>\n",
       "      <td>146.07</td>\n",
       "      <td>145.0</td>\n",
       "      <td>63971500.0</td>\n",
       "      <td>67.28</td>\n",
       "      <td>82.90</td>\n",
       "      <td>2.3653</td>\n",
       "      <td>0.32</td>\n",
       "      <td>49.86</td>\n",
       "      <td>25.12</td>\n",
       "      <td>10.20</td>\n",
       "      <td>39.975</td>\n",
       "    </tr>\n",
       "    <tr>\n",
       "      <td>2007-02-22</td>\n",
       "      <td>145.87</td>\n",
       "      <td>146.05</td>\n",
       "      <td>146.42</td>\n",
       "      <td>145.0</td>\n",
       "      <td>79067398.0</td>\n",
       "      <td>67.15</td>\n",
       "      <td>82.46</td>\n",
       "      <td>2.3871</td>\n",
       "      <td>0.31</td>\n",
       "      <td>50.33</td>\n",
       "      <td>25.12</td>\n",
       "      <td>10.18</td>\n",
       "      <td>40.220</td>\n",
       "    </tr>\n",
       "    <tr>\n",
       "      <td>2007-02-23</td>\n",
       "      <td>145.30</td>\n",
       "      <td>145.74</td>\n",
       "      <td>145.79</td>\n",
       "      <td>145.0</td>\n",
       "      <td>71962797.0</td>\n",
       "      <td>67.72</td>\n",
       "      <td>82.78</td>\n",
       "      <td>2.3809</td>\n",
       "      <td>0.31</td>\n",
       "      <td>50.46</td>\n",
       "      <td>25.04</td>\n",
       "      <td>10.58</td>\n",
       "      <td>40.035</td>\n",
       "    </tr>\n",
       "    <tr>\n",
       "      <td>2007-02-26</td>\n",
       "      <td>145.17</td>\n",
       "      <td>145.83</td>\n",
       "      <td>145.95</td>\n",
       "      <td>145.0</td>\n",
       "      <td>69320062.0</td>\n",
       "      <td>68.10</td>\n",
       "      <td>83.08</td>\n",
       "      <td>2.3795</td>\n",
       "      <td>0.31</td>\n",
       "      <td>50.90</td>\n",
       "      <td>25.04</td>\n",
       "      <td>11.15</td>\n",
       "      <td>39.960</td>\n",
       "    </tr>\n",
       "  </tbody>\n",
       "</table>\n",
       "</div>"
      ],
      "text/plain": [
       "            CLOSE_SPY    OPEN    HIGH    LOW      VOLUME  CLOSE_GLD  \\\n",
       "Dates                                                                 \n",
       "2007-02-20     146.04  145.56  146.20  144.0  56909500.0      65.31   \n",
       "2007-02-21     145.98  145.61  146.07  145.0  63971500.0      67.28   \n",
       "2007-02-22     145.87  146.05  146.42  145.0  79067398.0      67.15   \n",
       "2007-02-23     145.30  145.74  145.79  145.0  71962797.0      67.72   \n",
       "2007-02-26     145.17  145.83  145.95  145.0  69320062.0      68.10   \n",
       "\n",
       "            CLOSE_FXY  CLOSE_T10Y2Y  CLOSE_TED  CLOSE_USO  CLOSE_UUP  \\\n",
       "Dates                                                                  \n",
       "2007-02-20      83.51        2.3263       0.31      48.67      25.07   \n",
       "2007-02-21      82.90        2.3653       0.32      49.86      25.12   \n",
       "2007-02-22      82.46        2.3871       0.31      50.33      25.12   \n",
       "2007-02-23      82.78        2.3809       0.31      50.46      25.04   \n",
       "2007-02-26      83.08        2.3795       0.31      50.90      25.04   \n",
       "\n",
       "            CLOSE_VIX  CLOSE_VWO  \n",
       "Dates                             \n",
       "2007-02-20      10.24     40.055  \n",
       "2007-02-21      10.20     39.975  \n",
       "2007-02-22      10.18     40.220  \n",
       "2007-02-23      10.58     40.035  \n",
       "2007-02-26      11.15     39.960  "
      ]
     },
     "execution_count": 15,
     "metadata": {},
     "output_type": "execute_result"
    }
   ],
   "source": [
    "df.head()"
   ]
  },
  {
   "cell_type": "code",
   "execution_count": 16,
   "metadata": {},
   "outputs": [],
   "source": [
    "export_csv = df.to_csv (r'./ETFs_main.csv', index = True, header=True) "
   ]
  },
  {
   "cell_type": "markdown",
   "metadata": {},
   "source": [
    "# 실전 예제1번 코드는 여기서부터 시작"
   ]
  },
  {
   "cell_type": "code",
   "execution_count": 2,
   "metadata": {},
   "outputs": [],
   "source": [
    "df = pd.read_csv('./ETFs_main.csv')"
   ]
  },
  {
   "cell_type": "code",
   "execution_count": 3,
   "metadata": {},
   "outputs": [
    {
     "data": {
      "text/html": [
       "<div>\n",
       "<style scoped>\n",
       "    .dataframe tbody tr th:only-of-type {\n",
       "        vertical-align: middle;\n",
       "    }\n",
       "\n",
       "    .dataframe tbody tr th {\n",
       "        vertical-align: top;\n",
       "    }\n",
       "\n",
       "    .dataframe thead th {\n",
       "        text-align: right;\n",
       "    }\n",
       "</style>\n",
       "<table border=\"1\" class=\"dataframe\">\n",
       "  <thead>\n",
       "    <tr style=\"text-align: right;\">\n",
       "      <th></th>\n",
       "      <th>Dates</th>\n",
       "      <th>CLOSE_SPY</th>\n",
       "      <th>OPEN</th>\n",
       "      <th>HIGH</th>\n",
       "      <th>LOW</th>\n",
       "      <th>VOLUME</th>\n",
       "      <th>CLOSE_GLD</th>\n",
       "      <th>CLOSE_FXY</th>\n",
       "      <th>CLOSE_T10Y2Y</th>\n",
       "      <th>CLOSE_TED</th>\n",
       "      <th>CLOSE_USO</th>\n",
       "      <th>CLOSE_UUP</th>\n",
       "      <th>CLOSE_VIX</th>\n",
       "      <th>CLOSE_VWO</th>\n",
       "    </tr>\n",
       "  </thead>\n",
       "  <tbody>\n",
       "    <tr>\n",
       "      <th>0</th>\n",
       "      <td>2007-02-20</td>\n",
       "      <td>146.04</td>\n",
       "      <td>145.56</td>\n",
       "      <td>146.20</td>\n",
       "      <td>144.0</td>\n",
       "      <td>56909500.0</td>\n",
       "      <td>65.31</td>\n",
       "      <td>83.51</td>\n",
       "      <td>2.3263</td>\n",
       "      <td>0.31</td>\n",
       "      <td>48.67</td>\n",
       "      <td>25.07</td>\n",
       "      <td>10.24</td>\n",
       "      <td>40.055</td>\n",
       "    </tr>\n",
       "    <tr>\n",
       "      <th>1</th>\n",
       "      <td>2007-02-21</td>\n",
       "      <td>145.98</td>\n",
       "      <td>145.61</td>\n",
       "      <td>146.07</td>\n",
       "      <td>145.0</td>\n",
       "      <td>63971500.0</td>\n",
       "      <td>67.28</td>\n",
       "      <td>82.90</td>\n",
       "      <td>2.3653</td>\n",
       "      <td>0.32</td>\n",
       "      <td>49.86</td>\n",
       "      <td>25.12</td>\n",
       "      <td>10.20</td>\n",
       "      <td>39.975</td>\n",
       "    </tr>\n",
       "    <tr>\n",
       "      <th>2</th>\n",
       "      <td>2007-02-22</td>\n",
       "      <td>145.87</td>\n",
       "      <td>146.05</td>\n",
       "      <td>146.42</td>\n",
       "      <td>145.0</td>\n",
       "      <td>79067398.0</td>\n",
       "      <td>67.15</td>\n",
       "      <td>82.46</td>\n",
       "      <td>2.3871</td>\n",
       "      <td>0.31</td>\n",
       "      <td>50.33</td>\n",
       "      <td>25.12</td>\n",
       "      <td>10.18</td>\n",
       "      <td>40.220</td>\n",
       "    </tr>\n",
       "    <tr>\n",
       "      <th>3</th>\n",
       "      <td>2007-02-23</td>\n",
       "      <td>145.30</td>\n",
       "      <td>145.74</td>\n",
       "      <td>145.79</td>\n",
       "      <td>145.0</td>\n",
       "      <td>71962797.0</td>\n",
       "      <td>67.72</td>\n",
       "      <td>82.78</td>\n",
       "      <td>2.3809</td>\n",
       "      <td>0.31</td>\n",
       "      <td>50.46</td>\n",
       "      <td>25.04</td>\n",
       "      <td>10.58</td>\n",
       "      <td>40.035</td>\n",
       "    </tr>\n",
       "    <tr>\n",
       "      <th>4</th>\n",
       "      <td>2007-02-26</td>\n",
       "      <td>145.17</td>\n",
       "      <td>145.83</td>\n",
       "      <td>145.95</td>\n",
       "      <td>145.0</td>\n",
       "      <td>69320062.0</td>\n",
       "      <td>68.10</td>\n",
       "      <td>83.08</td>\n",
       "      <td>2.3795</td>\n",
       "      <td>0.31</td>\n",
       "      <td>50.90</td>\n",
       "      <td>25.04</td>\n",
       "      <td>11.15</td>\n",
       "      <td>39.960</td>\n",
       "    </tr>\n",
       "  </tbody>\n",
       "</table>\n",
       "</div>"
      ],
      "text/plain": [
       "        Dates  CLOSE_SPY    OPEN    HIGH    LOW      VOLUME  CLOSE_GLD  \\\n",
       "0  2007-02-20     146.04  145.56  146.20  144.0  56909500.0      65.31   \n",
       "1  2007-02-21     145.98  145.61  146.07  145.0  63971500.0      67.28   \n",
       "2  2007-02-22     145.87  146.05  146.42  145.0  79067398.0      67.15   \n",
       "3  2007-02-23     145.30  145.74  145.79  145.0  71962797.0      67.72   \n",
       "4  2007-02-26     145.17  145.83  145.95  145.0  69320062.0      68.10   \n",
       "\n",
       "   CLOSE_FXY  CLOSE_T10Y2Y  CLOSE_TED  CLOSE_USO  CLOSE_UUP  CLOSE_VIX  \\\n",
       "0      83.51        2.3263       0.31      48.67      25.07      10.24   \n",
       "1      82.90        2.3653       0.32      49.86      25.12      10.20   \n",
       "2      82.46        2.3871       0.31      50.33      25.12      10.18   \n",
       "3      82.78        2.3809       0.31      50.46      25.04      10.58   \n",
       "4      83.08        2.3795       0.31      50.90      25.04      11.15   \n",
       "\n",
       "   CLOSE_VWO  \n",
       "0     40.055  \n",
       "1     39.975  \n",
       "2     40.220  \n",
       "3     40.035  \n",
       "4     39.960  "
      ]
     },
     "execution_count": 3,
     "metadata": {},
     "output_type": "execute_result"
    }
   ],
   "source": [
    "df.head()"
   ]
  },
  {
   "cell_type": "code",
   "execution_count": 4,
   "metadata": {},
   "outputs": [],
   "source": [
    "#기술적 지표 만들기\n",
    "def moving_average(df, n):\n",
    "    MA = pd.Series(df['CLOSE_SPY'].rolling(n, min_periods=n).mean(), name='MA_' + str(n))\n",
    "    df = df.join(MA)\n",
    "    return df\n",
    "\n",
    "def volume_moving_average(df, n):\n",
    "    VMA = pd.Series(df['VOLUME'].rolling(n, min_periods=n).mean(), name='VMA_' + str(n))\n",
    "    df = df.join(VMA)\n",
    "    return df\n",
    "\n",
    "def relative_strength_index(df, n):\n",
    "    \"\"\"Calculate Relative Strength Index(RSI) for given data.\n",
    "    \n",
    "    :param df: pandas.DataFrame\n",
    "    :param n: \n",
    "    :return: pandas.DataFrame\n",
    "    \"\"\"\n",
    "    i = 0\n",
    "    UpI = [0]\n",
    "    DoI = [0]    \n",
    "    while i + 1 <= df.index[-1]:\n",
    "        UpMove = df.loc[i + 1, 'HIGH'] - df.loc[i, 'HIGH']\n",
    "        DoMove = df.loc[i, 'LOW'] - df.loc[i + 1, 'LOW']\n",
    "        if UpMove > DoMove and UpMove > 0:\n",
    "            UpD = UpMove\n",
    "        else:\n",
    "            UpD = 0\n",
    "        UpI.append(UpD)\n",
    "        if DoMove > UpMove and DoMove > 0:\n",
    "            DoD = DoMove\n",
    "        else:\n",
    "            DoD = 0\n",
    "        DoI.append(DoD)\n",
    "        i = i + 1\n",
    "    UpI = pd.Series(UpI)\n",
    "    DoI = pd.Series(DoI)\n",
    "    PosDI = pd.Series(UpI.ewm(span=n, min_periods=n).mean())\n",
    "    NegDI = pd.Series(DoI.ewm(span=n, min_periods=n).mean())\n",
    "    RSI = pd.Series(PosDI / (PosDI + NegDI), name='RSI_' + str(n))\n",
    "    df = df.join(RSI)\n",
    "    return df"
   ]
  },
  {
   "cell_type": "code",
   "execution_count": 5,
   "metadata": {},
   "outputs": [],
   "source": [
    "df = moving_average(df, 45)\n",
    "df = volume_moving_average(df, 45)\n",
    "df = relative_strength_index(df, 14)"
   ]
  },
  {
   "cell_type": "code",
   "execution_count": 6,
   "metadata": {},
   "outputs": [
    {
     "data": {
      "text/html": [
       "<div>\n",
       "<style scoped>\n",
       "    .dataframe tbody tr th:only-of-type {\n",
       "        vertical-align: middle;\n",
       "    }\n",
       "\n",
       "    .dataframe tbody tr th {\n",
       "        vertical-align: top;\n",
       "    }\n",
       "\n",
       "    .dataframe thead th {\n",
       "        text-align: right;\n",
       "    }\n",
       "</style>\n",
       "<table border=\"1\" class=\"dataframe\">\n",
       "  <thead>\n",
       "    <tr style=\"text-align: right;\">\n",
       "      <th></th>\n",
       "      <th>Dates</th>\n",
       "      <th>CLOSE_SPY</th>\n",
       "      <th>OPEN</th>\n",
       "      <th>HIGH</th>\n",
       "      <th>LOW</th>\n",
       "      <th>VOLUME</th>\n",
       "      <th>CLOSE_GLD</th>\n",
       "      <th>CLOSE_FXY</th>\n",
       "      <th>CLOSE_T10Y2Y</th>\n",
       "      <th>CLOSE_TED</th>\n",
       "      <th>CLOSE_USO</th>\n",
       "      <th>CLOSE_UUP</th>\n",
       "      <th>CLOSE_VIX</th>\n",
       "      <th>CLOSE_VWO</th>\n",
       "      <th>MA_45</th>\n",
       "      <th>VMA_45</th>\n",
       "      <th>RSI_14</th>\n",
       "    </tr>\n",
       "  </thead>\n",
       "  <tbody>\n",
       "    <tr>\n",
       "      <th>2766</th>\n",
       "      <td>2018-12-20</td>\n",
       "      <td>247.17</td>\n",
       "      <td>249.86</td>\n",
       "      <td>251.620</td>\n",
       "      <td>245.0</td>\n",
       "      <td>252053406.0</td>\n",
       "      <td>119.24</td>\n",
       "      <td>85.87</td>\n",
       "      <td>1.7807</td>\n",
       "      <td>0.48</td>\n",
       "      <td>9.72</td>\n",
       "      <td>25.77</td>\n",
       "      <td>28.38</td>\n",
       "      <td>38.18</td>\n",
       "      <td>269.767778</td>\n",
       "      <td>1.240592e+08</td>\n",
       "      <td>0.172439</td>\n",
       "    </tr>\n",
       "    <tr>\n",
       "      <th>2767</th>\n",
       "      <td>2018-12-21</td>\n",
       "      <td>240.70</td>\n",
       "      <td>246.74</td>\n",
       "      <td>249.710</td>\n",
       "      <td>240.0</td>\n",
       "      <td>255345594.0</td>\n",
       "      <td>118.72</td>\n",
       "      <td>85.87</td>\n",
       "      <td>1.7651</td>\n",
       "      <td>0.48</td>\n",
       "      <td>9.57</td>\n",
       "      <td>25.94</td>\n",
       "      <td>30.11</td>\n",
       "      <td>37.87</td>\n",
       "      <td>269.018889</td>\n",
       "      <td>1.274610e+08</td>\n",
       "      <td>0.142578</td>\n",
       "    </tr>\n",
       "    <tr>\n",
       "      <th>2768</th>\n",
       "      <td>2018-12-24</td>\n",
       "      <td>234.34</td>\n",
       "      <td>239.04</td>\n",
       "      <td>240.836</td>\n",
       "      <td>234.0</td>\n",
       "      <td>147311594.0</td>\n",
       "      <td>120.02</td>\n",
       "      <td>86.55</td>\n",
       "      <td>1.7505</td>\n",
       "      <td>0.40</td>\n",
       "      <td>9.29</td>\n",
       "      <td>25.55</td>\n",
       "      <td>36.07</td>\n",
       "      <td>37.32</td>\n",
       "      <td>267.995333</td>\n",
       "      <td>1.281067e+08</td>\n",
       "      <td>0.115003</td>\n",
       "    </tr>\n",
       "    <tr>\n",
       "      <th>2769</th>\n",
       "      <td>2018-12-27</td>\n",
       "      <td>248.07</td>\n",
       "      <td>242.57</td>\n",
       "      <td>248.290</td>\n",
       "      <td>239.0</td>\n",
       "      <td>186267297.0</td>\n",
       "      <td>120.57</td>\n",
       "      <td>86.00</td>\n",
       "      <td>1.7581</td>\n",
       "      <td>0.44</td>\n",
       "      <td>9.62</td>\n",
       "      <td>25.57</td>\n",
       "      <td>29.96</td>\n",
       "      <td>37.90</td>\n",
       "      <td>267.275778</td>\n",
       "      <td>1.297876e+08</td>\n",
       "      <td>0.307099</td>\n",
       "    </tr>\n",
       "    <tr>\n",
       "      <th>2770</th>\n",
       "      <td>2018-12-28</td>\n",
       "      <td>247.75</td>\n",
       "      <td>249.58</td>\n",
       "      <td>251.400</td>\n",
       "      <td>246.0</td>\n",
       "      <td>153100188.0</td>\n",
       "      <td>121.06</td>\n",
       "      <td>86.63</td>\n",
       "      <td>1.7320</td>\n",
       "      <td>0.45</td>\n",
       "      <td>9.53</td>\n",
       "      <td>25.50</td>\n",
       "      <td>28.34</td>\n",
       "      <td>38.17</td>\n",
       "      <td>266.639111</td>\n",
       "      <td>1.301996e+08</td>\n",
       "      <td>0.372653</td>\n",
       "    </tr>\n",
       "  </tbody>\n",
       "</table>\n",
       "</div>"
      ],
      "text/plain": [
       "           Dates  CLOSE_SPY    OPEN     HIGH    LOW       VOLUME  CLOSE_GLD  \\\n",
       "2766  2018-12-20     247.17  249.86  251.620  245.0  252053406.0     119.24   \n",
       "2767  2018-12-21     240.70  246.74  249.710  240.0  255345594.0     118.72   \n",
       "2768  2018-12-24     234.34  239.04  240.836  234.0  147311594.0     120.02   \n",
       "2769  2018-12-27     248.07  242.57  248.290  239.0  186267297.0     120.57   \n",
       "2770  2018-12-28     247.75  249.58  251.400  246.0  153100188.0     121.06   \n",
       "\n",
       "      CLOSE_FXY  CLOSE_T10Y2Y  CLOSE_TED  CLOSE_USO  CLOSE_UUP  CLOSE_VIX  \\\n",
       "2766      85.87        1.7807       0.48       9.72      25.77      28.38   \n",
       "2767      85.87        1.7651       0.48       9.57      25.94      30.11   \n",
       "2768      86.55        1.7505       0.40       9.29      25.55      36.07   \n",
       "2769      86.00        1.7581       0.44       9.62      25.57      29.96   \n",
       "2770      86.63        1.7320       0.45       9.53      25.50      28.34   \n",
       "\n",
       "      CLOSE_VWO       MA_45        VMA_45    RSI_14  \n",
       "2766      38.18  269.767778  1.240592e+08  0.172439  \n",
       "2767      37.87  269.018889  1.274610e+08  0.142578  \n",
       "2768      37.32  267.995333  1.281067e+08  0.115003  \n",
       "2769      37.90  267.275778  1.297876e+08  0.307099  \n",
       "2770      38.17  266.639111  1.301996e+08  0.372653  "
      ]
     },
     "execution_count": 6,
     "metadata": {},
     "output_type": "execute_result"
    }
   ],
   "source": [
    "df.tail()"
   ]
  },
  {
   "cell_type": "code",
   "execution_count": 7,
   "metadata": {},
   "outputs": [],
   "source": [
    "df = df.set_index('Dates')"
   ]
  },
  {
   "cell_type": "code",
   "execution_count": 8,
   "metadata": {},
   "outputs": [],
   "source": [
    "df = df.dropna()"
   ]
  },
  {
   "cell_type": "code",
   "execution_count": 9,
   "metadata": {},
   "outputs": [
    {
     "data": {
      "text/plain": [
       "2727"
      ]
     },
     "execution_count": 9,
     "metadata": {},
     "output_type": "execute_result"
    }
   ],
   "source": [
    "len(df)"
   ]
  },
  {
   "cell_type": "code",
   "execution_count": 10,
   "metadata": {},
   "outputs": [],
   "source": [
    "df['target'] = df['CLOSE_SPY'].pct_change()"
   ]
  },
  {
   "cell_type": "code",
   "execution_count": 11,
   "metadata": {},
   "outputs": [
    {
     "data": {
      "text/plain": [
       "count    2726.000000\n",
       "mean        0.000270\n",
       "std         0.013026\n",
       "min        -0.098448\n",
       "25%        -0.004320\n",
       "50%         0.000545\n",
       "75%         0.005791\n",
       "max         0.128249\n",
       "Name: target, dtype: float64"
      ]
     },
     "execution_count": 11,
     "metadata": {},
     "output_type": "execute_result"
    }
   ],
   "source": [
    "df['target'].describe()"
   ]
  },
  {
   "cell_type": "markdown",
   "metadata": {},
   "source": [
    "### 1번 Case 수수료 0으로 했을 때"
   ]
  },
  {
   "cell_type": "code",
   "execution_count": 12,
   "metadata": {},
   "outputs": [
    {
     "data": {
      "text/plain": [
       " 1    1471\n",
       "-1    1256\n",
       "Name: target, dtype: int64"
      ]
     },
     "execution_count": 12,
     "metadata": {},
     "output_type": "execute_result"
    }
   ],
   "source": [
    "# df['target'] = np.where(df['target'] > 0.0005 , 1, -1)\n",
    "df['target'] = np.where(df['target'] > 0 , 1, -1)\n",
    "df['target'].value_counts()"
   ]
  },
  {
   "cell_type": "code",
   "execution_count": 13,
   "metadata": {},
   "outputs": [],
   "source": [
    "df['target'] = df['target'].shift(-1)"
   ]
  },
  {
   "cell_type": "code",
   "execution_count": 14,
   "metadata": {},
   "outputs": [
    {
     "data": {
      "text/plain": [
       "2726"
      ]
     },
     "execution_count": 14,
     "metadata": {},
     "output_type": "execute_result"
    }
   ],
   "source": [
    "df = df.dropna()\n",
    "len(df)"
   ]
  },
  {
   "cell_type": "code",
   "execution_count": 15,
   "metadata": {},
   "outputs": [],
   "source": [
    "df['target'] = df['target'].astype(np.int64)"
   ]
  },
  {
   "cell_type": "code",
   "execution_count": 16,
   "metadata": {},
   "outputs": [],
   "source": [
    "y_var = df['target']\n",
    "# 예측에 사용하지 않는 변수 삭제\n",
    "x_var = df.drop(['target', 'OPEN','HIGH','LOW', 'VOLUME','CLOSE_SPY'], axis=1) "
   ]
  },
  {
   "cell_type": "code",
   "execution_count": 17,
   "metadata": {},
   "outputs": [
    {
     "data": {
      "text/html": [
       "<div>\n",
       "<style scoped>\n",
       "    .dataframe tbody tr th:only-of-type {\n",
       "        vertical-align: middle;\n",
       "    }\n",
       "\n",
       "    .dataframe tbody tr th {\n",
       "        vertical-align: top;\n",
       "    }\n",
       "\n",
       "    .dataframe thead th {\n",
       "        text-align: right;\n",
       "    }\n",
       "</style>\n",
       "<table border=\"1\" class=\"dataframe\">\n",
       "  <thead>\n",
       "    <tr style=\"text-align: right;\">\n",
       "      <th></th>\n",
       "      <th>CLOSE_GLD</th>\n",
       "      <th>CLOSE_FXY</th>\n",
       "      <th>CLOSE_T10Y2Y</th>\n",
       "      <th>CLOSE_TED</th>\n",
       "      <th>CLOSE_USO</th>\n",
       "      <th>CLOSE_UUP</th>\n",
       "      <th>CLOSE_VIX</th>\n",
       "      <th>CLOSE_VWO</th>\n",
       "      <th>MA_45</th>\n",
       "      <th>VMA_45</th>\n",
       "      <th>RSI_14</th>\n",
       "    </tr>\n",
       "    <tr>\n",
       "      <th>Dates</th>\n",
       "      <th></th>\n",
       "      <th></th>\n",
       "      <th></th>\n",
       "      <th></th>\n",
       "      <th></th>\n",
       "      <th></th>\n",
       "      <th></th>\n",
       "      <th></th>\n",
       "      <th></th>\n",
       "      <th></th>\n",
       "      <th></th>\n",
       "    </tr>\n",
       "  </thead>\n",
       "  <tbody>\n",
       "    <tr>\n",
       "      <th>2007-04-27</th>\n",
       "      <td>67.56</td>\n",
       "      <td>83.7300</td>\n",
       "      <td>2.4474</td>\n",
       "      <td>0.55</td>\n",
       "      <td>51.84</td>\n",
       "      <td>24.54</td>\n",
       "      <td>12.45</td>\n",
       "      <td>41.750</td>\n",
       "      <td>143.551556</td>\n",
       "      <td>1.106696e+08</td>\n",
       "      <td>0.670018</td>\n",
       "    </tr>\n",
       "    <tr>\n",
       "      <th>2007-04-30</th>\n",
       "      <td>67.09</td>\n",
       "      <td>83.7166</td>\n",
       "      <td>2.4361</td>\n",
       "      <td>0.57</td>\n",
       "      <td>51.24</td>\n",
       "      <td>24.49</td>\n",
       "      <td>14.22</td>\n",
       "      <td>40.935</td>\n",
       "      <td>143.601556</td>\n",
       "      <td>1.116466e+08</td>\n",
       "      <td>0.531751</td>\n",
       "    </tr>\n",
       "    <tr>\n",
       "      <th>2007-05-02</th>\n",
       "      <td>66.66</td>\n",
       "      <td>83.3800</td>\n",
       "      <td>2.4366</td>\n",
       "      <td>0.59</td>\n",
       "      <td>49.59</td>\n",
       "      <td>24.66</td>\n",
       "      <td>13.08</td>\n",
       "      <td>42.020</td>\n",
       "      <td>143.680667</td>\n",
       "      <td>1.121613e+08</td>\n",
       "      <td>0.554050</td>\n",
       "    </tr>\n",
       "    <tr>\n",
       "      <th>2007-05-03</th>\n",
       "      <td>67.49</td>\n",
       "      <td>83.1100</td>\n",
       "      <td>2.4346</td>\n",
       "      <td>0.60</td>\n",
       "      <td>49.28</td>\n",
       "      <td>24.69</td>\n",
       "      <td>13.09</td>\n",
       "      <td>42.435</td>\n",
       "      <td>143.780222</td>\n",
       "      <td>1.123421e+08</td>\n",
       "      <td>0.601028</td>\n",
       "    </tr>\n",
       "    <tr>\n",
       "      <th>2007-05-04</th>\n",
       "      <td>68.19</td>\n",
       "      <td>83.2300</td>\n",
       "      <td>2.4006</td>\n",
       "      <td>0.60</td>\n",
       "      <td>48.30</td>\n",
       "      <td>24.60</td>\n",
       "      <td>12.91</td>\n",
       "      <td>42.595</td>\n",
       "      <td>143.905111</td>\n",
       "      <td>1.128853e+08</td>\n",
       "      <td>0.665987</td>\n",
       "    </tr>\n",
       "  </tbody>\n",
       "</table>\n",
       "</div>"
      ],
      "text/plain": [
       "            CLOSE_GLD  CLOSE_FXY  CLOSE_T10Y2Y  CLOSE_TED  CLOSE_USO  \\\n",
       "Dates                                                                  \n",
       "2007-04-27      67.56    83.7300        2.4474       0.55      51.84   \n",
       "2007-04-30      67.09    83.7166        2.4361       0.57      51.24   \n",
       "2007-05-02      66.66    83.3800        2.4366       0.59      49.59   \n",
       "2007-05-03      67.49    83.1100        2.4346       0.60      49.28   \n",
       "2007-05-04      68.19    83.2300        2.4006       0.60      48.30   \n",
       "\n",
       "            CLOSE_UUP  CLOSE_VIX  CLOSE_VWO       MA_45        VMA_45  \\\n",
       "Dates                                                                   \n",
       "2007-04-27      24.54      12.45     41.750  143.551556  1.106696e+08   \n",
       "2007-04-30      24.49      14.22     40.935  143.601556  1.116466e+08   \n",
       "2007-05-02      24.66      13.08     42.020  143.680667  1.121613e+08   \n",
       "2007-05-03      24.69      13.09     42.435  143.780222  1.123421e+08   \n",
       "2007-05-04      24.60      12.91     42.595  143.905111  1.128853e+08   \n",
       "\n",
       "              RSI_14  \n",
       "Dates                 \n",
       "2007-04-27  0.670018  \n",
       "2007-04-30  0.531751  \n",
       "2007-05-02  0.554050  \n",
       "2007-05-03  0.601028  \n",
       "2007-05-04  0.665987  "
      ]
     },
     "execution_count": 17,
     "metadata": {},
     "output_type": "execute_result"
    }
   ],
   "source": [
    "x_var.head()"
   ]
  },
  {
   "cell_type": "code",
   "execution_count": 18,
   "metadata": {},
   "outputs": [
    {
     "name": "stdout",
     "output_type": "stream",
     "text": [
      "up/down ratio: 0.54\n"
     ]
    }
   ],
   "source": [
    "up=df[df['target']==1].target.count()\n",
    "total=df.target.count()\n",
    "print('up/down ratio: {0:.2f}'.format((up/total)))"
   ]
  },
  {
   "cell_type": "code",
   "execution_count": 19,
   "metadata": {},
   "outputs": [
    {
     "name": "stdout",
     "output_type": "stream",
     "text": [
      "train set label ratio\n",
      " 1    0.543501\n",
      "-1    0.456499\n",
      "Name: target, dtype: float64\n",
      "test set label ratio\n",
      " 1    0.530562\n",
      "-1    0.469438\n",
      "Name: target, dtype: float64\n"
     ]
    }
   ],
   "source": [
    "#훈련 세트와 테스트 세트를 나눈다.\n",
    "#shuffle=False을 설정해 기간이 섞이지 않도록 만든다.\n",
    "X_train, X_test, y_train, y_test = train_test_split(x_var, \n",
    "                                                    y_var, \n",
    "                                                    test_size=0.3, \n",
    "                                                    shuffle=False, \n",
    "                                                    random_state=3)\n",
    "\n",
    "#훈련 세트와 테스트 세트에 포함된 양성 샘플(up) 비율을 확인한다.\n",
    "train_count = y_train.count()\n",
    "test_count = y_test.count()\n",
    "\n",
    "print('train set label ratio')\n",
    "print(y_train.value_counts()/train_count)\n",
    "print('test set label ratio')\n",
    "print(y_test.value_counts()/test_count)"
   ]
  },
  {
   "cell_type": "code",
   "execution_count": 20,
   "metadata": {},
   "outputs": [],
   "source": [
    "def get_confusion_matrix(y_test, pred):\n",
    "    confusion = confusion_matrix(y_test, pred)\n",
    "    accuracy = accuracy_score(y_test, pred)\n",
    "    precision = precision_score(y_test, pred)\n",
    "    recall = recall_score(y_test, pred)\n",
    "    f1 = f1_score(y_test, pred)\n",
    "    roc_score = roc_auc_score(y_test, pred)\n",
    "    print('confusion matrix')\n",
    "    print('accuracy:{0:.4f},precision:{1:.4f},recall:{2:.4f},F1:{3:.4f},ROC AUC score:{4:.4f}'.format(accuracy, precision, recall, f1,roc_score))"
   ]
  },
  {
   "cell_type": "markdown",
   "metadata": {},
   "source": [
    "### 수익률 0이였을 때\n",
    "\n",
    "#### 1-1번째 모델링(XGBoost Classifier)"
   ]
  },
  {
   "cell_type": "code",
   "execution_count": 21,
   "metadata": {},
   "outputs": [],
   "source": [
    "xgb_dis = XGBClassifier(n_estimators=400, learning_rate=0.1, max_depth=3)\n",
    "xgb_dis.fit(X_train, y_train)\n",
    "xgb_pred = xgb_dis.predict(X_test)"
   ]
  },
  {
   "cell_type": "code",
   "execution_count": 29,
   "metadata": {},
   "outputs": [
    {
     "data": {
      "text/plain": [
       "XGBClassifier(base_score=0.5, booster='gbtree', colsample_bylevel=1,\n",
       "              colsample_bynode=1, colsample_bytree=1, gamma=0,\n",
       "              learning_rate=0.1, max_delta_step=0, max_depth=3,\n",
       "              min_child_weight=1, missing=None, n_estimators=400, n_jobs=1,\n",
       "              nthread=None, objective='binary:logistic', random_state=0,\n",
       "              reg_alpha=0, reg_lambda=1, scale_pos_weight=1, seed=None,\n",
       "              silent=None, subsample=1, verbosity=1)"
      ]
     },
     "execution_count": 29,
     "metadata": {},
     "output_type": "execute_result"
    }
   ],
   "source": [
    "xgb_dis"
   ]
  },
  {
   "cell_type": "code",
   "execution_count": 22,
   "metadata": {},
   "outputs": [
    {
     "name": "stdout",
     "output_type": "stream",
     "text": [
      "0.8763102725366876\n"
     ]
    }
   ],
   "source": [
    "print(xgb_dis.score(X_train, y_train))"
   ]
  },
  {
   "cell_type": "code",
   "execution_count": 23,
   "metadata": {},
   "outputs": [
    {
     "name": "stdout",
     "output_type": "stream",
     "text": [
      "confusion matrix\n",
      "accuracy:0.4914,precision:0.5242,recall:0.4493,F1:0.4839,ROC AUC score:0.4942\n"
     ]
    }
   ],
   "source": [
    "get_confusion_matrix(y_test, xgb_pred)"
   ]
  },
  {
   "cell_type": "markdown",
   "metadata": {},
   "source": [
    "### 수익률 0이였을 때\n",
    "\n",
    "#### 1-2번째 모델링(Random Forest Classifier)"
   ]
  },
  {
   "cell_type": "code",
   "execution_count": 24,
   "metadata": {},
   "outputs": [],
   "source": [
    "n_estimators = range(10,200,10)\n",
    "\n",
    "params = {\n",
    "    'bootstrap': [True],\n",
    "    'n_estimators':n_estimators,\n",
    "    'max_depth':[4,6,8,10,12],\n",
    "    'min_samples_leaf': [2, 3, 4, 5],\n",
    "    'min_samples_split': [2, 4, 6, 8, 10],\n",
    "    'max_features':[4]\n",
    "}"
   ]
  },
  {
   "cell_type": "code",
   "execution_count": 25,
   "metadata": {},
   "outputs": [],
   "source": [
    "my_cv = TimeSeriesSplit(n_splits=5).split(X_train)"
   ]
  },
  {
   "cell_type": "code",
   "execution_count": 28,
   "metadata": {},
   "outputs": [
    {
     "data": {
      "text/plain": [
       "<generator object TimeSeriesSplit.split at 0x0000025E37635A40>"
      ]
     },
     "execution_count": 28,
     "metadata": {},
     "output_type": "execute_result"
    }
   ],
   "source": [
    "my_cv"
   ]
  },
  {
   "cell_type": "code",
   "execution_count": 26,
   "metadata": {},
   "outputs": [],
   "source": [
    "clf = GridSearchCV(RandomForestClassifier(), params, cv=my_cv, n_jobs=-1)"
   ]
  },
  {
   "cell_type": "code",
   "execution_count": 27,
   "metadata": {},
   "outputs": [
    {
     "data": {
      "text/plain": [
       "GridSearchCV(cv=<generator object TimeSeriesSplit.split at 0x0000025E37635A40>,\n",
       "             error_score=nan,\n",
       "             estimator=RandomForestClassifier(bootstrap=True, ccp_alpha=0.0,\n",
       "                                              class_weight=None,\n",
       "                                              criterion='gini', max_depth=None,\n",
       "                                              max_features='auto',\n",
       "                                              max_leaf_nodes=None,\n",
       "                                              max_samples=None,\n",
       "                                              min_impurity_decrease=0.0,\n",
       "                                              min_impurity_split=None,\n",
       "                                              min_samples_leaf=1,\n",
       "                                              min_samples_split=2,\n",
       "                                              m...\n",
       "                                              n_estimators=100, n_jobs=None,\n",
       "                                              oob_score=False,\n",
       "                                              random_state=None, verbose=0,\n",
       "                                              warm_start=False),\n",
       "             iid='deprecated', n_jobs=-1,\n",
       "             param_grid={'bootstrap': [True], 'max_depth': [4, 6, 8, 10, 12],\n",
       "                         'max_features': [4], 'min_samples_leaf': [2, 3, 4, 5],\n",
       "                         'min_samples_split': [2, 4, 6, 8, 10],\n",
       "                         'n_estimators': range(10, 200, 10)},\n",
       "             pre_dispatch='2*n_jobs', refit=True, return_train_score=False,\n",
       "             scoring=None, verbose=0)"
      ]
     },
     "execution_count": 27,
     "metadata": {},
     "output_type": "execute_result"
    }
   ],
   "source": [
    "clf # page 209"
   ]
  },
  {
   "cell_type": "code",
   "execution_count": 30,
   "metadata": {},
   "outputs": [],
   "source": [
    "import time"
   ]
  },
  {
   "cell_type": "markdown",
   "metadata": {},
   "source": [
    "### 환경에 따라 수행시간이 오래 걸릴 수 있습니다.\n",
    "* 저자의 환경에서는 613.9924192428589  seconds consumed 이 소요됐습니다."
   ]
  },
  {
   "cell_type": "code",
   "execution_count": 31,
   "metadata": {},
   "outputs": [
    {
     "name": "stdout",
     "output_type": "stream",
     "text": [
      "613.9924192428589  seconds consumed\n"
     ]
    }
   ],
   "source": [
    "start_time = time.time()\n",
    "clf.fit(X_train, y_train)\n",
    "print(time.time() - start_time,\" seconds consumed\")"
   ]
  },
  {
   "cell_type": "code",
   "execution_count": 32,
   "metadata": {},
   "outputs": [
    {
     "name": "stdout",
     "output_type": "stream",
     "text": [
      "best parameter:\n",
      " {'bootstrap': True, 'max_depth': 4, 'max_features': 4, 'min_samples_leaf': 5, 'min_samples_split': 2, 'n_estimators': 130}\n",
      "best prediction:0.5572\n"
     ]
    }
   ],
   "source": [
    "## Random Forest에서 best param\n",
    "print('best parameter:\\n', clf.best_params_)\n",
    "print('best prediction:{0:.4f}'.format(clf.best_score_))"
   ]
  },
  {
   "cell_type": "code",
   "execution_count": 33,
   "metadata": {},
   "outputs": [
    {
     "name": "stdout",
     "output_type": "stream",
     "text": [
      "accuracy:0.5098\n",
      "confusion matrix\n",
      "accuracy:0.5098,precision:0.5470,recall:0.4424,F1:0.4892,ROC AUC score:0.5142\n"
     ]
    }
   ],
   "source": [
    "pred_con = clf.predict(X_test)\n",
    "accuracy_con = accuracy_score(y_test, pred_con)\n",
    "print('accuracy:{0:.4f}'.format(accuracy_con))\n",
    "get_confusion_matrix(y_test, pred_con)"
   ]
  },
  {
   "cell_type": "code",
   "execution_count": null,
   "metadata": {},
   "outputs": [],
   "source": []
  },
  {
   "cell_type": "markdown",
   "metadata": {},
   "source": [
    "### 2번 0.05% 수익률 적용시."
   ]
  },
  {
   "cell_type": "markdown",
   "metadata": {},
   "source": [
    "### 데이터 Load"
   ]
  },
  {
   "cell_type": "code",
   "execution_count": 150,
   "metadata": {},
   "outputs": [],
   "source": [
    "df = pd.read_csv('./ETFs_main.csv')\n",
    "df = moving_average(df, 45)\n",
    "df = volume_moving_average(df, 45)\n",
    "df = relative_strength_index(df, 14)\n",
    "df = df.set_index('Dates')\n",
    "df = df.dropna()\n",
    "df['target'] = df['CLOSE_SPY'].pct_change()"
   ]
  },
  {
   "cell_type": "code",
   "execution_count": 151,
   "metadata": {},
   "outputs": [
    {
     "data": {
      "text/plain": [
       " 1    1375\n",
       "-1    1352\n",
       "Name: target, dtype: int64"
      ]
     },
     "execution_count": 151,
     "metadata": {},
     "output_type": "execute_result"
    }
   ],
   "source": [
    "df['target'] = np.where(df['target'] > 0.0005 , 1, -1)\n",
    "# df['target'] = np.where(df['target'] > 0 , 1, -1)\n",
    "df['target'].value_counts()"
   ]
  },
  {
   "cell_type": "code",
   "execution_count": 152,
   "metadata": {},
   "outputs": [
    {
     "data": {
      "text/plain": [
       "2726"
      ]
     },
     "execution_count": 152,
     "metadata": {},
     "output_type": "execute_result"
    }
   ],
   "source": [
    "df['target'] = df['target'].shift(-1)\n",
    "df = df.dropna()\n",
    "len(df)"
   ]
  },
  {
   "cell_type": "code",
   "execution_count": 153,
   "metadata": {},
   "outputs": [
    {
     "name": "stdout",
     "output_type": "stream",
     "text": [
      "up/down ratio: 0.50\n"
     ]
    }
   ],
   "source": [
    "df['target'] = df['target'].astype(np.int64)\n",
    "y_var = df['target']\n",
    "# 예측에 사용하지 않는 변수 삭제\n",
    "x_var = df.drop(['target', 'OPEN','HIGH','LOW', 'VOLUME','CLOSE_SPY'], axis=1) \n",
    "up=df[df['target']==1].target.count()\n",
    "total=df.target.count()\n",
    "print('up/down ratio: {0:.2f}'.format((up/total)))"
   ]
  },
  {
   "cell_type": "code",
   "execution_count": 154,
   "metadata": {},
   "outputs": [
    {
     "name": "stdout",
     "output_type": "stream",
     "text": [
      "train set label ratio\n",
      " 1    0.509958\n",
      "-1    0.490042\n",
      "Name: target, dtype: float64\n",
      "test set label ratio\n",
      "-1    0.508557\n",
      " 1    0.491443\n",
      "Name: target, dtype: float64\n"
     ]
    }
   ],
   "source": [
    "#훈련 세트와 테스트 세트를 나눈다.\n",
    "#shuffle=False을 설정해 기간이 섞이지 않도록 만든다.\n",
    "X_train, X_test, y_train, y_test = train_test_split(x_var, \n",
    "                                                    y_var, \n",
    "                                                    test_size=0.3, \n",
    "                                                    shuffle=False, \n",
    "                                                    random_state=3)\n",
    "\n",
    "#훈련 세트와 테스트 세트에 포함된 양성 샘플(up) 비율을 확인한다.\n",
    "train_count = y_train.count()\n",
    "test_count = y_test.count()\n",
    "\n",
    "print('train set label ratio')\n",
    "print(y_train.value_counts()/train_count)\n",
    "print('test set label ratio')\n",
    "print(y_test.value_counts()/test_count)"
   ]
  },
  {
   "cell_type": "markdown",
   "metadata": {},
   "source": [
    "### 수익률 0.05 이였을 때\n",
    "\n",
    "#### 2-1번째 모델링(XGBoost Classifier)"
   ]
  },
  {
   "cell_type": "code",
   "execution_count": 155,
   "metadata": {},
   "outputs": [
    {
     "name": "stdout",
     "output_type": "stream",
     "text": [
      "0.8726415094339622\n",
      "confusion matrix\n",
      "accuracy:0.5012,precision:0.4920,recall:0.4602,F1:0.4756,ROC AUC score:0.5005\n"
     ]
    }
   ],
   "source": [
    "xgb_dis = XGBClassifier(n_estimators=400, learning_rate=0.1, max_depth=3)\n",
    "xgb_dis.fit(X_train, y_train)\n",
    "xgb_pred = xgb_dis.predict(X_test)\n",
    "print(xgb_dis.score(X_train, y_train))\n",
    "get_confusion_matrix(y_test, xgb_pred)"
   ]
  },
  {
   "cell_type": "markdown",
   "metadata": {},
   "source": [
    "### 수익률 0.05 이였을 때\n",
    "\n",
    "#### 2-2번째 모델링(Random Forest Classifier)"
   ]
  },
  {
   "cell_type": "code",
   "execution_count": 156,
   "metadata": {},
   "outputs": [],
   "source": [
    "n_estimators = range(10,200,10)\n",
    "\n",
    "params = {\n",
    "    'bootstrap': [True],\n",
    "    'n_estimators':n_estimators,\n",
    "    'max_depth':[4,6,8,10,12],\n",
    "    'min_samples_leaf': [2, 3, 4, 5],\n",
    "    'min_samples_split': [2, 4, 6, 8, 10],\n",
    "    'max_features':[4]\n",
    "}"
   ]
  },
  {
   "cell_type": "code",
   "execution_count": 157,
   "metadata": {},
   "outputs": [],
   "source": [
    "my_cv = TimeSeriesSplit(n_splits=5).split(X_train)"
   ]
  },
  {
   "cell_type": "code",
   "execution_count": 158,
   "metadata": {},
   "outputs": [],
   "source": [
    "clf = GridSearchCV(RandomForestClassifier(), params, cv=my_cv, n_jobs=-1)"
   ]
  },
  {
   "cell_type": "code",
   "execution_count": 159,
   "metadata": {},
   "outputs": [
    {
     "name": "stdout",
     "output_type": "stream",
     "text": [
      "597.687255859375  seconds consumed\n"
     ]
    }
   ],
   "source": [
    "start_time = time.time()\n",
    "clf.fit(X_train, y_train)\n",
    "print(time.time() - start_time,\" seconds consumed\")"
   ]
  },
  {
   "cell_type": "code",
   "execution_count": 160,
   "metadata": {},
   "outputs": [
    {
     "name": "stdout",
     "output_type": "stream",
     "text": [
      "best parameter:\n",
      " {'bootstrap': True, 'max_depth': 8, 'max_features': 4, 'min_samples_leaf': 2, 'min_samples_split': 6, 'n_estimators': 10}\n",
      "best prediction:0.5321\n"
     ]
    }
   ],
   "source": [
    "## Random Forest에서 best param\n",
    "print('best parameter:\\n', clf.best_params_)\n",
    "print('best prediction:{0:.4f}'.format(clf.best_score_))"
   ]
  },
  {
   "cell_type": "code",
   "execution_count": 161,
   "metadata": {},
   "outputs": [
    {
     "name": "stdout",
     "output_type": "stream",
     "text": [
      "accuracy:0.5134\n",
      "confusion matrix\n",
      "accuracy:0.5134,precision:0.5099,recall:0.2562,F1:0.3411,ROC AUC score:0.5091\n"
     ]
    }
   ],
   "source": [
    "pred_con = clf.predict(X_test)\n",
    "accuracy_con = accuracy_score(y_test, pred_con)\n",
    "print('accuracy:{0:.4f}'.format(accuracy_con))\n",
    "get_confusion_matrix(y_test, pred_con)"
   ]
  },
  {
   "cell_type": "code",
   "execution_count": null,
   "metadata": {},
   "outputs": [],
   "source": []
  },
  {
   "cell_type": "markdown",
   "metadata": {},
   "source": [
    "### 예제 소스코드 끝."
   ]
  }
 ],
 "metadata": {
  "kernelspec": {
   "display_name": "Python 3",
   "language": "python",
   "name": "python3"
  },
  "language_info": {
   "codemirror_mode": {
    "name": "ipython",
    "version": 3
   },
   "file_extension": ".py",
   "mimetype": "text/x-python",
   "name": "python",
   "nbconvert_exporter": "python",
   "pygments_lexer": "ipython3",
   "version": "3.6.7"
  }
 },
 "nbformat": 4,
 "nbformat_minor": 4
}
