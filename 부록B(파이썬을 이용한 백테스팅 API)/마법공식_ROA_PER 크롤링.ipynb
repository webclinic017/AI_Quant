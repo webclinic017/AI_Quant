{
 "cells": [
  {
   "cell_type": "code",
   "execution_count": null,
   "metadata": {},
   "outputs": [],
   "source": [
    "#pip install finance-datareader\n",
    "# pip install --upgrade finance-datareader"
   ]
  },
  {
   "cell_type": "code",
   "execution_count": 1,
   "metadata": {},
   "outputs": [],
   "source": [
    "import FinanceDataReader as fdr"
   ]
  },
  {
   "cell_type": "code",
   "execution_count": 2,
   "metadata": {},
   "outputs": [],
   "source": [
    "df = fdr.DataReader('AAPL','2017')"
   ]
  },
  {
   "cell_type": "code",
   "execution_count": 3,
   "metadata": {},
   "outputs": [
    {
     "data": {
      "text/html": [
       "<div>\n",
       "<style scoped>\n",
       "    .dataframe tbody tr th:only-of-type {\n",
       "        vertical-align: middle;\n",
       "    }\n",
       "\n",
       "    .dataframe tbody tr th {\n",
       "        vertical-align: top;\n",
       "    }\n",
       "\n",
       "    .dataframe thead th {\n",
       "        text-align: right;\n",
       "    }\n",
       "</style>\n",
       "<table border=\"1\" class=\"dataframe\">\n",
       "  <thead>\n",
       "    <tr style=\"text-align: right;\">\n",
       "      <th></th>\n",
       "      <th>Close</th>\n",
       "      <th>Open</th>\n",
       "      <th>High</th>\n",
       "      <th>Low</th>\n",
       "      <th>Volume</th>\n",
       "      <th>Change</th>\n",
       "    </tr>\n",
       "    <tr>\n",
       "      <th>Date</th>\n",
       "      <th></th>\n",
       "      <th></th>\n",
       "      <th></th>\n",
       "      <th></th>\n",
       "      <th></th>\n",
       "      <th></th>\n",
       "    </tr>\n",
       "  </thead>\n",
       "  <tbody>\n",
       "    <tr>\n",
       "      <th>2017-01-03</th>\n",
       "      <td>116.15</td>\n",
       "      <td>115.80</td>\n",
       "      <td>116.33</td>\n",
       "      <td>114.76</td>\n",
       "      <td>28780000.0</td>\n",
       "      <td>0.0028</td>\n",
       "    </tr>\n",
       "    <tr>\n",
       "      <th>2017-01-04</th>\n",
       "      <td>116.02</td>\n",
       "      <td>115.85</td>\n",
       "      <td>116.51</td>\n",
       "      <td>115.75</td>\n",
       "      <td>21120000.0</td>\n",
       "      <td>-0.0011</td>\n",
       "    </tr>\n",
       "    <tr>\n",
       "      <th>2017-01-05</th>\n",
       "      <td>116.61</td>\n",
       "      <td>115.92</td>\n",
       "      <td>116.86</td>\n",
       "      <td>115.81</td>\n",
       "      <td>22190000.0</td>\n",
       "      <td>0.0051</td>\n",
       "    </tr>\n",
       "    <tr>\n",
       "      <th>2017-01-06</th>\n",
       "      <td>117.91</td>\n",
       "      <td>116.78</td>\n",
       "      <td>118.16</td>\n",
       "      <td>116.47</td>\n",
       "      <td>31750000.0</td>\n",
       "      <td>0.0111</td>\n",
       "    </tr>\n",
       "    <tr>\n",
       "      <th>2017-01-09</th>\n",
       "      <td>118.99</td>\n",
       "      <td>117.95</td>\n",
       "      <td>119.43</td>\n",
       "      <td>117.94</td>\n",
       "      <td>33560000.0</td>\n",
       "      <td>0.0092</td>\n",
       "    </tr>\n",
       "  </tbody>\n",
       "</table>\n",
       "</div>"
      ],
      "text/plain": [
       "             Close    Open    High     Low      Volume  Change\n",
       "Date                                                          \n",
       "2017-01-03  116.15  115.80  116.33  114.76  28780000.0  0.0028\n",
       "2017-01-04  116.02  115.85  116.51  115.75  21120000.0 -0.0011\n",
       "2017-01-05  116.61  115.92  116.86  115.81  22190000.0  0.0051\n",
       "2017-01-06  117.91  116.78  118.16  116.47  31750000.0  0.0111\n",
       "2017-01-09  118.99  117.95  119.43  117.94  33560000.0  0.0092"
      ]
     },
     "execution_count": 3,
     "metadata": {},
     "output_type": "execute_result"
    }
   ],
   "source": [
    "df.head()"
   ]
  },
  {
   "cell_type": "code",
   "execution_count": 12,
   "metadata": {},
   "outputs": [
    {
     "data": {
      "text/html": [
       "<div>\n",
       "<style scoped>\n",
       "    .dataframe tbody tr th:only-of-type {\n",
       "        vertical-align: middle;\n",
       "    }\n",
       "\n",
       "    .dataframe tbody tr th {\n",
       "        vertical-align: top;\n",
       "    }\n",
       "\n",
       "    .dataframe thead th {\n",
       "        text-align: right;\n",
       "    }\n",
       "</style>\n",
       "<table border=\"1\" class=\"dataframe\">\n",
       "  <thead>\n",
       "    <tr style=\"text-align: right;\">\n",
       "      <th></th>\n",
       "      <th>Close</th>\n",
       "      <th>Open</th>\n",
       "      <th>High</th>\n",
       "      <th>Low</th>\n",
       "      <th>Volume</th>\n",
       "      <th>Change</th>\n",
       "    </tr>\n",
       "    <tr>\n",
       "      <th>Date</th>\n",
       "      <th></th>\n",
       "      <th></th>\n",
       "      <th></th>\n",
       "      <th></th>\n",
       "      <th></th>\n",
       "      <th></th>\n",
       "    </tr>\n",
       "  </thead>\n",
       "  <tbody>\n",
       "    <tr>\n",
       "      <th>2019-08-16</th>\n",
       "      <td>206.50</td>\n",
       "      <td>204.28</td>\n",
       "      <td>207.16</td>\n",
       "      <td>203.84</td>\n",
       "      <td>28810000.0</td>\n",
       "      <td>0.0236</td>\n",
       "    </tr>\n",
       "    <tr>\n",
       "      <th>2019-08-19</th>\n",
       "      <td>210.35</td>\n",
       "      <td>210.62</td>\n",
       "      <td>212.73</td>\n",
       "      <td>210.03</td>\n",
       "      <td>24430000.0</td>\n",
       "      <td>0.0186</td>\n",
       "    </tr>\n",
       "    <tr>\n",
       "      <th>2019-08-20</th>\n",
       "      <td>210.36</td>\n",
       "      <td>210.88</td>\n",
       "      <td>213.35</td>\n",
       "      <td>210.32</td>\n",
       "      <td>26920000.0</td>\n",
       "      <td>0.0000</td>\n",
       "    </tr>\n",
       "    <tr>\n",
       "      <th>2019-08-21</th>\n",
       "      <td>212.64</td>\n",
       "      <td>212.99</td>\n",
       "      <td>213.65</td>\n",
       "      <td>211.60</td>\n",
       "      <td>21560000.0</td>\n",
       "      <td>0.0108</td>\n",
       "    </tr>\n",
       "    <tr>\n",
       "      <th>2019-08-22</th>\n",
       "      <td>212.46</td>\n",
       "      <td>213.08</td>\n",
       "      <td>214.46</td>\n",
       "      <td>210.78</td>\n",
       "      <td>22270000.0</td>\n",
       "      <td>-0.0008</td>\n",
       "    </tr>\n",
       "  </tbody>\n",
       "</table>\n",
       "</div>"
      ],
      "text/plain": [
       "             Close    Open    High     Low      Volume  Change\n",
       "Date                                                          \n",
       "2019-08-16  206.50  204.28  207.16  203.84  28810000.0  0.0236\n",
       "2019-08-19  210.35  210.62  212.73  210.03  24430000.0  0.0186\n",
       "2019-08-20  210.36  210.88  213.35  210.32  26920000.0  0.0000\n",
       "2019-08-21  212.64  212.99  213.65  211.60  21560000.0  0.0108\n",
       "2019-08-22  212.46  213.08  214.46  210.78  22270000.0 -0.0008"
      ]
     },
     "execution_count": 12,
     "metadata": {},
     "output_type": "execute_result"
    }
   ],
   "source": [
    "df.tail()"
   ]
  },
  {
   "cell_type": "code",
   "execution_count": 4,
   "metadata": {},
   "outputs": [],
   "source": [
    "df_krx = fdr.StockListing('KRX')"
   ]
  },
  {
   "cell_type": "code",
   "execution_count": 5,
   "metadata": {},
   "outputs": [
    {
     "data": {
      "text/html": [
       "<div>\n",
       "<style scoped>\n",
       "    .dataframe tbody tr th:only-of-type {\n",
       "        vertical-align: middle;\n",
       "    }\n",
       "\n",
       "    .dataframe tbody tr th {\n",
       "        vertical-align: top;\n",
       "    }\n",
       "\n",
       "    .dataframe thead th {\n",
       "        text-align: right;\n",
       "    }\n",
       "</style>\n",
       "<table border=\"1\" class=\"dataframe\">\n",
       "  <thead>\n",
       "    <tr style=\"text-align: right;\">\n",
       "      <th></th>\n",
       "      <th>Symbol</th>\n",
       "      <th>Name</th>\n",
       "      <th>Sector</th>\n",
       "      <th>Industry</th>\n",
       "    </tr>\n",
       "  </thead>\n",
       "  <tbody>\n",
       "    <tr>\n",
       "      <th>0</th>\n",
       "      <td>155660</td>\n",
       "      <td>DSR</td>\n",
       "      <td>1차 비철금속 제조업</td>\n",
       "      <td>합섬섬유로프</td>\n",
       "    </tr>\n",
       "    <tr>\n",
       "      <th>1</th>\n",
       "      <td>001250</td>\n",
       "      <td>GS글로벌</td>\n",
       "      <td>상품 종합 도매업</td>\n",
       "      <td>수출입업(시멘트,철강금속,전기전자,섬유,기계화학),상품중개,광업,채석업/하수처리 서...</td>\n",
       "    </tr>\n",
       "    <tr>\n",
       "      <th>2</th>\n",
       "      <td>082740</td>\n",
       "      <td>HSD엔진</td>\n",
       "      <td>일반 목적용 기계 제조업</td>\n",
       "      <td>대형선박용엔진,내연발전엔진</td>\n",
       "    </tr>\n",
       "    <tr>\n",
       "      <th>3</th>\n",
       "      <td>001390</td>\n",
       "      <td>KG케미칼</td>\n",
       "      <td>기초 화학물질 제조업</td>\n",
       "      <td>콘크리트혼화제, 비료, 친환경농자재, 수처리제</td>\n",
       "    </tr>\n",
       "    <tr>\n",
       "      <th>4</th>\n",
       "      <td>011070</td>\n",
       "      <td>LG이노텍</td>\n",
       "      <td>전자부품 제조업</td>\n",
       "      <td>기타 전자부품 제조업</td>\n",
       "    </tr>\n",
       "  </tbody>\n",
       "</table>\n",
       "</div>"
      ],
      "text/plain": [
       "   Symbol   Name         Sector  \\\n",
       "0  155660    DSR    1차 비철금속 제조업   \n",
       "1  001250  GS글로벌      상품 종합 도매업   \n",
       "2  082740  HSD엔진  일반 목적용 기계 제조업   \n",
       "3  001390  KG케미칼    기초 화학물질 제조업   \n",
       "4  011070  LG이노텍       전자부품 제조업   \n",
       "\n",
       "                                            Industry  \n",
       "0                                             합섬섬유로프  \n",
       "1  수출입업(시멘트,철강금속,전기전자,섬유,기계화학),상품중개,광업,채석업/하수처리 서...  \n",
       "2                                     대형선박용엔진,내연발전엔진  \n",
       "3                          콘크리트혼화제, 비료, 친환경농자재, 수처리제  \n",
       "4                                        기타 전자부품 제조업  "
      ]
     },
     "execution_count": 5,
     "metadata": {},
     "output_type": "execute_result"
    }
   ],
   "source": [
    "df_krx.head()"
   ]
  },
  {
   "cell_type": "code",
   "execution_count": 6,
   "metadata": {},
   "outputs": [
    {
     "data": {
      "text/plain": [
       "'0.8.0'"
      ]
     },
     "execution_count": 6,
     "metadata": {},
     "output_type": "execute_result"
    }
   ],
   "source": [
    "fdr.__version__"
   ]
  },
  {
   "cell_type": "code",
   "execution_count": 7,
   "metadata": {},
   "outputs": [
    {
     "data": {
      "text/html": [
       "<div>\n",
       "<style scoped>\n",
       "    .dataframe tbody tr th:only-of-type {\n",
       "        vertical-align: middle;\n",
       "    }\n",
       "\n",
       "    .dataframe tbody tr th {\n",
       "        vertical-align: top;\n",
       "    }\n",
       "\n",
       "    .dataframe thead th {\n",
       "        text-align: right;\n",
       "    }\n",
       "</style>\n",
       "<table border=\"1\" class=\"dataframe\">\n",
       "  <thead>\n",
       "    <tr style=\"text-align: right;\">\n",
       "      <th></th>\n",
       "      <th>Symbol</th>\n",
       "      <th>Name</th>\n",
       "      <th>Sector</th>\n",
       "      <th>Industry</th>\n",
       "    </tr>\n",
       "  </thead>\n",
       "  <tbody>\n",
       "    <tr>\n",
       "      <th>0</th>\n",
       "      <td>155660</td>\n",
       "      <td>DSR</td>\n",
       "      <td>1차 비철금속 제조업</td>\n",
       "      <td>합섬섬유로프</td>\n",
       "    </tr>\n",
       "    <tr>\n",
       "      <th>1</th>\n",
       "      <td>001250</td>\n",
       "      <td>GS글로벌</td>\n",
       "      <td>상품 종합 도매업</td>\n",
       "      <td>수출입업(시멘트,철강금속,전기전자,섬유,기계화학),상품중개,광업,채석업/하수처리 서...</td>\n",
       "    </tr>\n",
       "    <tr>\n",
       "      <th>2</th>\n",
       "      <td>082740</td>\n",
       "      <td>HSD엔진</td>\n",
       "      <td>일반 목적용 기계 제조업</td>\n",
       "      <td>대형선박용엔진,내연발전엔진</td>\n",
       "    </tr>\n",
       "    <tr>\n",
       "      <th>3</th>\n",
       "      <td>001390</td>\n",
       "      <td>KG케미칼</td>\n",
       "      <td>기초 화학물질 제조업</td>\n",
       "      <td>콘크리트혼화제, 비료, 친환경농자재, 수처리제</td>\n",
       "    </tr>\n",
       "    <tr>\n",
       "      <th>4</th>\n",
       "      <td>011070</td>\n",
       "      <td>LG이노텍</td>\n",
       "      <td>전자부품 제조업</td>\n",
       "      <td>기타 전자부품 제조업</td>\n",
       "    </tr>\n",
       "  </tbody>\n",
       "</table>\n",
       "</div>"
      ],
      "text/plain": [
       "   Symbol   Name         Sector  \\\n",
       "0  155660    DSR    1차 비철금속 제조업   \n",
       "1  001250  GS글로벌      상품 종합 도매업   \n",
       "2  082740  HSD엔진  일반 목적용 기계 제조업   \n",
       "3  001390  KG케미칼    기초 화학물질 제조업   \n",
       "4  011070  LG이노텍       전자부품 제조업   \n",
       "\n",
       "                                            Industry  \n",
       "0                                             합섬섬유로프  \n",
       "1  수출입업(시멘트,철강금속,전기전자,섬유,기계화학),상품중개,광업,채석업/하수처리 서...  \n",
       "2                                     대형선박용엔진,내연발전엔진  \n",
       "3                          콘크리트혼화제, 비료, 친환경농자재, 수처리제  \n",
       "4                                        기타 전자부품 제조업  "
      ]
     },
     "execution_count": 7,
     "metadata": {},
     "output_type": "execute_result"
    }
   ],
   "source": [
    "df_krx = fdr.StockListing('KRX')\n",
    "df_krx.head()"
   ]
  },
  {
   "cell_type": "code",
   "execution_count": 8,
   "metadata": {},
   "outputs": [
    {
     "data": {
      "text/plain": [
       "2303"
      ]
     },
     "execution_count": 8,
     "metadata": {},
     "output_type": "execute_result"
    }
   ],
   "source": [
    "len(df_krx)"
   ]
  },
  {
   "cell_type": "code",
   "execution_count": 9,
   "metadata": {},
   "outputs": [
    {
     "data": {
      "text/html": [
       "<div>\n",
       "<style scoped>\n",
       "    .dataframe tbody tr th:only-of-type {\n",
       "        vertical-align: middle;\n",
       "    }\n",
       "\n",
       "    .dataframe tbody tr th {\n",
       "        vertical-align: top;\n",
       "    }\n",
       "\n",
       "    .dataframe thead th {\n",
       "        text-align: right;\n",
       "    }\n",
       "</style>\n",
       "<table border=\"1\" class=\"dataframe\">\n",
       "  <thead>\n",
       "    <tr style=\"text-align: right;\">\n",
       "      <th></th>\n",
       "      <th>Symbol</th>\n",
       "      <th>Name</th>\n",
       "      <th>Sector</th>\n",
       "      <th>Industry</th>\n",
       "    </tr>\n",
       "  </thead>\n",
       "  <tbody>\n",
       "    <tr>\n",
       "      <th>0</th>\n",
       "      <td>MMM</td>\n",
       "      <td>3M Company</td>\n",
       "      <td>Industrials</td>\n",
       "      <td>Industrial Conglomerates</td>\n",
       "    </tr>\n",
       "    <tr>\n",
       "      <th>1</th>\n",
       "      <td>ABT</td>\n",
       "      <td>Abbott Laboratories</td>\n",
       "      <td>Health Care</td>\n",
       "      <td>Health Care Equipment</td>\n",
       "    </tr>\n",
       "    <tr>\n",
       "      <th>2</th>\n",
       "      <td>ABBV</td>\n",
       "      <td>AbbVie Inc.</td>\n",
       "      <td>Health Care</td>\n",
       "      <td>Pharmaceuticals</td>\n",
       "    </tr>\n",
       "    <tr>\n",
       "      <th>3</th>\n",
       "      <td>ABMD</td>\n",
       "      <td>ABIOMED Inc</td>\n",
       "      <td>Health Care</td>\n",
       "      <td>Health Care Equipment</td>\n",
       "    </tr>\n",
       "    <tr>\n",
       "      <th>4</th>\n",
       "      <td>ACN</td>\n",
       "      <td>Accenture plc</td>\n",
       "      <td>Information Technology</td>\n",
       "      <td>IT Consulting &amp; Other Services</td>\n",
       "    </tr>\n",
       "  </tbody>\n",
       "</table>\n",
       "</div>"
      ],
      "text/plain": [
       "  Symbol                 Name                  Sector  \\\n",
       "0    MMM           3M Company             Industrials   \n",
       "1    ABT  Abbott Laboratories             Health Care   \n",
       "2   ABBV          AbbVie Inc.             Health Care   \n",
       "3   ABMD          ABIOMED Inc             Health Care   \n",
       "4    ACN        Accenture plc  Information Technology   \n",
       "\n",
       "                         Industry  \n",
       "0        Industrial Conglomerates  \n",
       "1           Health Care Equipment  \n",
       "2                 Pharmaceuticals  \n",
       "3           Health Care Equipment  \n",
       "4  IT Consulting & Other Services  "
      ]
     },
     "execution_count": 9,
     "metadata": {},
     "output_type": "execute_result"
    }
   ],
   "source": [
    "df_snp = fdr.StockListing('S&P500')\n",
    "df_snp.head()"
   ]
  },
  {
   "cell_type": "code",
   "execution_count": 10,
   "metadata": {},
   "outputs": [
    {
     "data": {
      "text/plain": [
       "505"
      ]
     },
     "execution_count": 10,
     "metadata": {},
     "output_type": "execute_result"
    }
   ],
   "source": [
    "len(df_snp)"
   ]
  },
  {
   "cell_type": "code",
   "execution_count": null,
   "metadata": {},
   "outputs": [],
   "source": [
    "fdr.DataReader"
   ]
  },
  {
   "cell_type": "code",
   "execution_count": 13,
   "metadata": {},
   "outputs": [
    {
     "data": {
      "text/html": [
       "<div>\n",
       "<style scoped>\n",
       "    .dataframe tbody tr th:only-of-type {\n",
       "        vertical-align: middle;\n",
       "    }\n",
       "\n",
       "    .dataframe tbody tr th {\n",
       "        vertical-align: top;\n",
       "    }\n",
       "\n",
       "    .dataframe thead th {\n",
       "        text-align: right;\n",
       "    }\n",
       "</style>\n",
       "<table border=\"1\" class=\"dataframe\">\n",
       "  <thead>\n",
       "    <tr style=\"text-align: right;\">\n",
       "      <th></th>\n",
       "      <th>Close</th>\n",
       "      <th>Open</th>\n",
       "      <th>High</th>\n",
       "      <th>Low</th>\n",
       "      <th>Volume</th>\n",
       "      <th>Change</th>\n",
       "    </tr>\n",
       "    <tr>\n",
       "      <th>Date</th>\n",
       "      <th></th>\n",
       "      <th></th>\n",
       "      <th></th>\n",
       "      <th></th>\n",
       "      <th></th>\n",
       "      <th></th>\n",
       "    </tr>\n",
       "  </thead>\n",
       "  <tbody>\n",
       "    <tr>\n",
       "      <th>2019-08-16</th>\n",
       "      <td>206.50</td>\n",
       "      <td>204.28</td>\n",
       "      <td>207.16</td>\n",
       "      <td>203.84</td>\n",
       "      <td>28810000.0</td>\n",
       "      <td>0.0236</td>\n",
       "    </tr>\n",
       "    <tr>\n",
       "      <th>2019-08-19</th>\n",
       "      <td>210.35</td>\n",
       "      <td>210.62</td>\n",
       "      <td>212.73</td>\n",
       "      <td>210.03</td>\n",
       "      <td>24430000.0</td>\n",
       "      <td>0.0186</td>\n",
       "    </tr>\n",
       "    <tr>\n",
       "      <th>2019-08-20</th>\n",
       "      <td>210.36</td>\n",
       "      <td>210.88</td>\n",
       "      <td>213.35</td>\n",
       "      <td>210.32</td>\n",
       "      <td>26920000.0</td>\n",
       "      <td>0.0000</td>\n",
       "    </tr>\n",
       "    <tr>\n",
       "      <th>2019-08-21</th>\n",
       "      <td>212.64</td>\n",
       "      <td>212.99</td>\n",
       "      <td>213.65</td>\n",
       "      <td>211.60</td>\n",
       "      <td>21560000.0</td>\n",
       "      <td>0.0108</td>\n",
       "    </tr>\n",
       "    <tr>\n",
       "      <th>2019-08-22</th>\n",
       "      <td>212.46</td>\n",
       "      <td>213.08</td>\n",
       "      <td>214.46</td>\n",
       "      <td>210.78</td>\n",
       "      <td>22270000.0</td>\n",
       "      <td>-0.0008</td>\n",
       "    </tr>\n",
       "  </tbody>\n",
       "</table>\n",
       "</div>"
      ],
      "text/plain": [
       "             Close    Open    High     Low      Volume  Change\n",
       "Date                                                          \n",
       "2019-08-16  206.50  204.28  207.16  203.84  28810000.0  0.0236\n",
       "2019-08-19  210.35  210.62  212.73  210.03  24430000.0  0.0186\n",
       "2019-08-20  210.36  210.88  213.35  210.32  26920000.0  0.0000\n",
       "2019-08-21  212.64  212.99  213.65  211.60  21560000.0  0.0108\n",
       "2019-08-22  212.46  213.08  214.46  210.78  22270000.0 -0.0008"
      ]
     },
     "execution_count": 13,
     "metadata": {},
     "output_type": "execute_result"
    }
   ],
   "source": [
    "df.tail()"
   ]
  },
  {
   "cell_type": "code",
   "execution_count": 14,
   "metadata": {},
   "outputs": [
    {
     "data": {
      "text/plain": [
       "<matplotlib.axes._subplots.AxesSubplot at 0x1d7ac7f7d68>"
      ]
     },
     "execution_count": 14,
     "metadata": {},
     "output_type": "execute_result"
    }
   ],
   "source": [
    "df['Close'].plot()"
   ]
  },
  {
   "cell_type": "code",
   "execution_count": 15,
   "metadata": {},
   "outputs": [],
   "source": [
    "import urllib.request\n",
    "from bs4 import BeautifulSoup"
   ]
  },
  {
   "cell_type": "code",
   "execution_count": 18,
   "metadata": {},
   "outputs": [
    {
     "name": "stdout",
     "output_type": "stream",
     "text": [
      "7.31\n"
     ]
    }
   ],
   "source": [
    "# 하이트 진로 : 000080\n",
    "# 삼성전자 : 005930\n",
    "url = 'http://companyinfo.stock.naver.com/company/c1010001.aspx?cmp_cd=005930&fin_typ=0&freq_typ=Y'\n",
    "f = urllib.request.urlopen(url).read()\n",
    "soup = BeautifulSoup(f,'html.parser')\n",
    "\n",
    "# 'Class' 속성값이 'num'인 'b' 태그를 모두 찾는다.\n",
    "bs = soup.find_all('b',{'class':'num'})\n",
    "for index, b in enumerate(bs):\n",
    "    if index == 3:\n",
    "        print(b.get_text())"
   ]
  },
  {
   "cell_type": "code",
   "execution_count": 19,
   "metadata": {},
   "outputs": [
    {
     "name": "stdout",
     "output_type": "stream",
     "text": [
      "70.63\n"
     ]
    }
   ],
   "source": [
    "# 하이트 진로 : 000080\n",
    "# 삼성전자 : 005930\n",
    "url = 'http://companyinfo.stock.naver.com/company/c1010001.aspx?cmp_cd=000080&fin_typ=0&freq_typ=Y'\n",
    "f = urllib.request.urlopen(url).read()\n",
    "soup = BeautifulSoup(f,'html.parser')\n",
    "\n",
    "# 'Class' 속성값이 'num'인 'b' 태그를 모두 찾는다.\n",
    "bs = soup.find_all('b',{'class':'num'})\n",
    "for index, b in enumerate(bs):\n",
    "    if index == 3:\n",
    "        print(b.get_text())"
   ]
  },
  {
   "cell_type": "code",
   "execution_count": 28,
   "metadata": {},
   "outputs": [],
   "source": [
    "# 하이트 진로 : 000080\n",
    "# 삼성전자 : 005930\n",
    "url = 'https://navercomp.wisereport.co.kr/v2/company/c1010001.aspx?cmp_cd=000080'\n",
    "f = urllib.request.urlopen(url).read()\n",
    "soup = BeautifulSoup(f,'html.parser')\n",
    "\n",
    "# # 'Class' 속성값이 'num'인 'b' 태그를 모두 찾는다.\n",
    "# bs = soup.find_all('b',{'class':'num'})\n",
    "# for index, b in enumerate(bs):\n",
    "#     if index == 3:\n",
    "#         print(b.get_text())"
   ]
  },
  {
   "cell_type": "code",
   "execution_count": null,
   "metadata": {},
   "outputs": [],
   "source": [
    "soup"
   ]
  },
  {
   "cell_type": "code",
   "execution_count": 26,
   "metadata": {},
   "outputs": [
    {
     "data": {
      "text/plain": [
       "[]"
      ]
     },
     "execution_count": 26,
     "metadata": {},
     "output_type": "execute_result"
    }
   ],
   "source": [
    "soup.find_all(string='ROA(%)')"
   ]
  },
  {
   "cell_type": "code",
   "execution_count": 74,
   "metadata": {},
   "outputs": [],
   "source": [
    "url = 'https://navercomp.wisereport.co.kr/v2/company/c1010001.aspx?cmp_cd=000080'\n",
    "# url = 'https://finance.daum.net/quotes/A000080#analysis/main'\n",
    "# url = \"http://finance.naver.com/item/main.nhn?code=000660#\"\n",
    "# url = 'https://wisefn.finance.daum.net/v1/company/c1010001.aspx?cmp_cd=000080'\n",
    "res = requests.get(url)\n",
    "\n",
    "# f = urllib.request.urlopen(url).read()\n",
    "res_df = pd.read_html(res.text)"
   ]
  },
  {
   "cell_type": "code",
   "execution_count": 75,
   "metadata": {},
   "outputs": [
    {
     "data": {
      "text/html": [
       "<div>\n",
       "<style scoped>\n",
       "    .dataframe tbody tr th:only-of-type {\n",
       "        vertical-align: middle;\n",
       "    }\n",
       "\n",
       "    .dataframe tbody tr th {\n",
       "        vertical-align: top;\n",
       "    }\n",
       "\n",
       "    .dataframe thead th {\n",
       "        text-align: right;\n",
       "    }\n",
       "</style>\n",
       "<table border=\"1\" class=\"dataframe\">\n",
       "  <thead>\n",
       "    <tr style=\"text-align: right;\">\n",
       "      <th></th>\n",
       "      <th>주요지표</th>\n",
       "      <th>2018/12(A)</th>\n",
       "      <th>2019/12(E)</th>\n",
       "    </tr>\n",
       "  </thead>\n",
       "  <tbody>\n",
       "    <tr>\n",
       "      <th>0</th>\n",
       "      <td>PER</td>\n",
       "      <td>70.63</td>\n",
       "      <td>641.42</td>\n",
       "    </tr>\n",
       "    <tr>\n",
       "      <th>1</th>\n",
       "      <td>PBR</td>\n",
       "      <td>1.32</td>\n",
       "      <td>1.40</td>\n",
       "    </tr>\n",
       "    <tr>\n",
       "      <th>2</th>\n",
       "      <td>PCR</td>\n",
       "      <td>11.15</td>\n",
       "      <td>11.07</td>\n",
       "    </tr>\n",
       "    <tr>\n",
       "      <th>3</th>\n",
       "      <td>EV/EBITDA</td>\n",
       "      <td>10.93</td>\n",
       "      <td>11.25</td>\n",
       "    </tr>\n",
       "    <tr>\n",
       "      <th>4</th>\n",
       "      <td>EPS</td>\n",
       "      <td>312원</td>\n",
       "      <td>34원</td>\n",
       "    </tr>\n",
       "    <tr>\n",
       "      <th>5</th>\n",
       "      <td>BPS</td>\n",
       "      <td>16,648원</td>\n",
       "      <td>15,802원</td>\n",
       "    </tr>\n",
       "    <tr>\n",
       "      <th>6</th>\n",
       "      <td>EBITDA</td>\n",
       "      <td>2,046.1억원</td>\n",
       "      <td>2,210.3억원</td>\n",
       "    </tr>\n",
       "    <tr>\n",
       "      <th>7</th>\n",
       "      <td>현금DPS</td>\n",
       "      <td>800원</td>\n",
       "      <td>800원</td>\n",
       "    </tr>\n",
       "    <tr>\n",
       "      <th>8</th>\n",
       "      <td>현금배당수익률</td>\n",
       "      <td>3.63%</td>\n",
       "      <td>3.63%</td>\n",
       "    </tr>\n",
       "    <tr>\n",
       "      <th>9</th>\n",
       "      <td>회계기준</td>\n",
       "      <td>연결</td>\n",
       "      <td>연결</td>\n",
       "    </tr>\n",
       "  </tbody>\n",
       "</table>\n",
       "</div>"
      ],
      "text/plain": [
       "        주요지표 2018/12(A) 2019/12(E)\n",
       "0        PER      70.63     641.42\n",
       "1        PBR       1.32       1.40\n",
       "2        PCR      11.15      11.07\n",
       "3  EV/EBITDA      10.93      11.25\n",
       "4        EPS       312원        34원\n",
       "5        BPS    16,648원    15,802원\n",
       "6     EBITDA  2,046.1억원  2,210.3억원\n",
       "7      현금DPS       800원       800원\n",
       "8    현금배당수익률      3.63%      3.63%\n",
       "9       회계기준         연결         연결"
      ]
     },
     "execution_count": 75,
     "metadata": {},
     "output_type": "execute_result"
    }
   ],
   "source": [
    "# url = 'https://navercomp.wisereport.co.kr/v2/company/c1010001.aspx?cmp_cd=000080' # 오픈시\n",
    "res = requests.get(url)\n",
    "res_df = pd.read_html(res.text)\n",
    "# res_df[5]"
   ]
  },
  {
   "cell_type": "code",
   "execution_count": 67,
   "metadata": {},
   "outputs": [
    {
     "data": {
      "text/html": [
       "<div>\n",
       "<style scoped>\n",
       "    .dataframe tbody tr th:only-of-type {\n",
       "        vertical-align: middle;\n",
       "    }\n",
       "\n",
       "    .dataframe tbody tr th {\n",
       "        vertical-align: top;\n",
       "    }\n",
       "\n",
       "    .dataframe thead th {\n",
       "        text-align: right;\n",
       "    }\n",
       "</style>\n",
       "<table border=\"1\" class=\"dataframe\">\n",
       "  <thead>\n",
       "    <tr style=\"text-align: right;\">\n",
       "      <th></th>\n",
       "      <th>항목명</th>\n",
       "      <th>상세기준</th>\n",
       "    </tr>\n",
       "  </thead>\n",
       "  <tbody>\n",
       "    <tr>\n",
       "      <th>0</th>\n",
       "      <td>CAPEX</td>\n",
       "      <td>유형자산의증가</td>\n",
       "    </tr>\n",
       "    <tr>\n",
       "      <th>1</th>\n",
       "      <td>FCF</td>\n",
       "      <td>영업활동으로인한현금흐름-CAPEX</td>\n",
       "    </tr>\n",
       "    <tr>\n",
       "      <th>2</th>\n",
       "      <td>이자발생부채</td>\n",
       "      <td>단기사채+단기차입금+유동성장기부채+단기금융부채+사채+장기차입금+장기금융부채</td>\n",
       "    </tr>\n",
       "    <tr>\n",
       "      <th>3</th>\n",
       "      <td>영업이익률</td>\n",
       "      <td>영업이익/매출액(수익)</td>\n",
       "    </tr>\n",
       "    <tr>\n",
       "      <th>4</th>\n",
       "      <td>순이익률</td>\n",
       "      <td>당기순이익/매출액(수익)</td>\n",
       "    </tr>\n",
       "    <tr>\n",
       "      <th>5</th>\n",
       "      <td>ROE</td>\n",
       "      <td>(지배주주지분)당기순이익[당기]/((지배주주지분)자본총계[당기]+(지배주주지분)자본...</td>\n",
       "    </tr>\n",
       "    <tr>\n",
       "      <th>6</th>\n",
       "      <td>ROA</td>\n",
       "      <td>당기순이익[당기]/(자산총계[당기]+자산총계[전기]/2)</td>\n",
       "    </tr>\n",
       "    <tr>\n",
       "      <th>7</th>\n",
       "      <td>부채비율</td>\n",
       "      <td>부채총계/자본총계</td>\n",
       "    </tr>\n",
       "    <tr>\n",
       "      <th>8</th>\n",
       "      <td>자본유보율</td>\n",
       "      <td>(자본잉여금+이익잉여금)/자본금</td>\n",
       "    </tr>\n",
       "    <tr>\n",
       "      <th>9</th>\n",
       "      <td>EPS</td>\n",
       "      <td>(지배주주지분)당기순이익*1000/수정평균발행주식수(보통주+우선주)</td>\n",
       "    </tr>\n",
       "    <tr>\n",
       "      <th>10</th>\n",
       "      <td>PER</td>\n",
       "      <td>보통주수정주가(기말)/EPS</td>\n",
       "    </tr>\n",
       "    <tr>\n",
       "      <th>11</th>\n",
       "      <td>BPS</td>\n",
       "      <td>(지배주주지분)자본총계/수정기말발행주식수(보통주+우선주, 자사주차감)</td>\n",
       "    </tr>\n",
       "    <tr>\n",
       "      <th>12</th>\n",
       "      <td>PBR</td>\n",
       "      <td>보통주수정주가(기말)/BPS</td>\n",
       "    </tr>\n",
       "    <tr>\n",
       "      <th>13</th>\n",
       "      <td>수정DPS</td>\n",
       "      <td>DPS에 자본금변동이벤트 시 수정계수가 발생하는 경우 수정계수를 적용</td>\n",
       "    </tr>\n",
       "    <tr>\n",
       "      <th>14</th>\n",
       "      <td>현금배당률</td>\n",
       "      <td>수정DPS/보통주수정주가(기말)</td>\n",
       "    </tr>\n",
       "    <tr>\n",
       "      <th>15</th>\n",
       "      <td>현금배당성향</td>\n",
       "      <td>현금배당액(전체)/(지배주주지분)당기순이익</td>\n",
       "    </tr>\n",
       "    <tr>\n",
       "      <th>16</th>\n",
       "      <td>발행주식수</td>\n",
       "      <td>보통주 기말발행주식수 (자본금 변동 이벤트 중 수정계수가 발생하는 경우 과거 데이터...</td>\n",
       "    </tr>\n",
       "  </tbody>\n",
       "</table>\n",
       "</div>"
      ],
      "text/plain": [
       "       항목명                                               상세기준\n",
       "0    CAPEX                                            유형자산의증가\n",
       "1      FCF                                 영업활동으로인한현금흐름-CAPEX\n",
       "2   이자발생부채          단기사채+단기차입금+유동성장기부채+단기금융부채+사채+장기차입금+장기금융부채\n",
       "3    영업이익률                                       영업이익/매출액(수익)\n",
       "4     순이익률                                      당기순이익/매출액(수익)\n",
       "5      ROE  (지배주주지분)당기순이익[당기]/((지배주주지분)자본총계[당기]+(지배주주지분)자본...\n",
       "6      ROA                    당기순이익[당기]/(자산총계[당기]+자산총계[전기]/2)\n",
       "7     부채비율                                          부채총계/자본총계\n",
       "8    자본유보율                                  (자본잉여금+이익잉여금)/자본금\n",
       "9      EPS              (지배주주지분)당기순이익*1000/수정평균발행주식수(보통주+우선주)\n",
       "10     PER                                    보통주수정주가(기말)/EPS\n",
       "11     BPS             (지배주주지분)자본총계/수정기말발행주식수(보통주+우선주, 자사주차감)\n",
       "12     PBR                                    보통주수정주가(기말)/BPS\n",
       "13   수정DPS             DPS에 자본금변동이벤트 시 수정계수가 발생하는 경우 수정계수를 적용\n",
       "14   현금배당률                                  수정DPS/보통주수정주가(기말)\n",
       "15  현금배당성향                            현금배당액(전체)/(지배주주지분)당기순이익\n",
       "16   발행주식수  보통주 기말발행주식수 (자본금 변동 이벤트 중 수정계수가 발생하는 경우 과거 데이터..."
      ]
     },
     "execution_count": 67,
     "metadata": {},
     "output_type": "execute_result"
    }
   ],
   "source": [
    "# url = 'https://wisefn.finance.daum.net/v1/company/c1010001.aspx?cmp_cd=000080' # 오픈시\n",
    "res = requests.get(url)\n",
    "res_df = pd.read_html(res.text)\n",
    "# res_df[13]"
   ]
  },
  {
   "cell_type": "code",
   "execution_count": null,
   "metadata": {},
   "outputs": [],
   "source": [
    "import pandas as pd\n",
    "import urllib.request\n",
    "import requests\n",
    "from bs4 import BeautifulSoup\n",
    "import re\n",
    "\n",
    "# requests랑 urllib.request.urlopen이랑 다르네."
   ]
  },
  {
   "cell_type": "markdown",
   "metadata": {},
   "source": [
    "#### PER 크롤링"
   ]
  },
  {
   "cell_type": "code",
   "execution_count": 103,
   "metadata": {},
   "outputs": [
    {
     "name": "stdout",
     "output_type": "stream",
     "text": [
      "-95.11\n"
     ]
    }
   ],
   "source": [
    "PER_URL = 'https://wisefn.finance.daum.net/v1/company/c1010001.aspx?cmp_cd=000080'\n",
    "# ROA_URL = 'https://wisefn.finance.daum.net/v1/company/cF1001.aspx?cmp_cd=000080&finGubun=MAIN'\n",
    "f = urllib.request.urlopen(PER_URL).read()\n",
    "soup = BeautifulSoup(f,'html.parser')\n",
    "# 'Class' 속성값이 'num'인 'b' 태그를 모두 찾는다.\n",
    "bs = soup.find_all('b',{'class':'num'})"
   ]
  },
  {
   "cell_type": "code",
   "execution_count": 104,
   "metadata": {},
   "outputs": [
    {
     "name": "stdout",
     "output_type": "stream",
     "text": [
      "70.63\n"
     ]
    }
   ],
   "source": [
    "for index, b in enumerate(bs):\n",
    "    if index == 2:\n",
    "        print(b.get_text())"
   ]
  },
  {
   "cell_type": "markdown",
   "metadata": {},
   "source": [
    "#### ROA 크롤링"
   ]
  },
  {
   "cell_type": "code",
   "execution_count": 83,
   "metadata": {},
   "outputs": [],
   "source": [
    "# PER_URL = 'https://wisefn.finance.daum.net/v1/company/c1010001.aspx?cmp_cd=000080'\n",
    "ROA_URL = 'https://wisefn.finance.daum.net/v1/company/cF1001.aspx?cmp_cd=000080&finGubun=MAIN'\n",
    "f = urllib.request.urlopen(ROA_URL).read()\n",
    "soup = BeautifulSoup(f,'html.parser')\n",
    "# 다차원 배열 문자열을 찾기 위해 패턴 설정   \n",
    "p = re.compile(\"changeFinData.*?\\;\", re.DOTALL)\n",
    "cfd_list = p.findall(soup.prettify())\n",
    "# 불필요한 문자열 제거\n",
    "cfd_str = cfd_list[0].replace('\\n','').replace('changeFinData = ','').replace(';','')\n",
    "cfd = eval(cfd_str)"
   ]
  },
  {
   "cell_type": "code",
   "execution_count": 102,
   "metadata": {},
   "outputs": [
    {
     "name": "stdout",
     "output_type": "stream",
     "text": [
      "ROA(%)  ::  0.64\n"
     ]
    }
   ],
   "source": [
    "print(cfd[3][0][6][0] , ' :: ' ,cfd[3][0][6][-1])"
   ]
  },
  {
   "cell_type": "code",
   "execution_count": 109,
   "metadata": {},
   "outputs": [],
   "source": [
    "df_krx.to_csv('krx_all_codes.csv')"
   ]
  },
  {
   "cell_type": "code",
   "execution_count": null,
   "metadata": {},
   "outputs": [],
   "source": []
  }
 ],
 "metadata": {
  "kernelspec": {
   "display_name": "Python 3",
   "language": "python",
   "name": "python3"
  },
  "language_info": {
   "codemirror_mode": {
    "name": "ipython",
    "version": 3
   },
   "file_extension": ".py",
   "mimetype": "text/x-python",
   "name": "python",
   "nbconvert_exporter": "python",
   "pygments_lexer": "ipython3",
   "version": "3.6.7"
  }
 },
 "nbformat": 4,
 "nbformat_minor": 4
}
